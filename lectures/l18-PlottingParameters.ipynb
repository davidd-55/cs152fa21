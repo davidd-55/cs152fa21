{
 "cells": [
  {
   "cell_type": "code",
   "execution_count": 114,
   "id": "eb4977eb",
   "metadata": {},
   "outputs": [],
   "source": [
    "from utils import get_binary_mnist_dataloaders\n",
    "\n",
    "from fastprogress.fastprogress import master_bar, progress_bar\n",
    "\n",
    "import torch\n",
    "import torch.nn as nn\n",
    "\n",
    "import matplotlib.pyplot as plt\n",
    "import matplotlib.patches as patches\n",
    "from jupyterthemes import jtplot\n",
    "\n",
    "jtplot.style(context=\"talk\")"
   ]
  },
  {
   "cell_type": "markdown",
   "id": "27c51e51",
   "metadata": {},
   "source": [
    "# Explore Pixel Importance\n",
    "\n",
    "- knockout\n",
    "- highest variance"
   ]
  },
  {
   "cell_type": "code",
   "execution_count": 115,
   "id": "bcfcfb60",
   "metadata": {},
   "outputs": [],
   "source": [
    "data_path = \"../data\"\n",
    "classA = 1\n",
    "classB = 8\n",
    "\n",
    "full_train_loader, _, _, _ = get_binary_mnist_dataloaders(\n",
    "    data_path, classA, classB, 0, 0\n",
    ")"
   ]
  },
  {
   "cell_type": "code",
   "execution_count": 116,
   "id": "e5871e63",
   "metadata": {},
   "outputs": [
    {
     "data": {
      "text/plain": [
       "tensor(9)"
      ]
     },
     "execution_count": 116,
     "metadata": {},
     "output_type": "execute_result"
    }
   ],
   "source": [
    "deviations = torch.std(full_train_loader.dataset.data, dim=0)\n",
    "max_dev_row = deviations.sum(dim=1).argmax()\n",
    "max_dev_row"
   ]
  },
  {
   "cell_type": "code",
   "execution_count": 117,
   "id": "6ad4059c",
   "metadata": {},
   "outputs": [
    {
     "data": {
      "image/png": "[encoded data removed]",
      "text/plain": [
       "<Figure size 748.8x655.2 with 1 Axes>"
      ]
     },
     "metadata": {},
     "output_type": "display_data"
    }
   ],
   "source": [
    "_, ax = plt.subplots()\n",
    "ax.imshow(deviations)\n",
    "\n",
    "xmin, xmax = ax.get_xlim()\n",
    "\n",
    "rect = patches.Rectangle(\n",
    "    (xmin, max_dev_row), 28, 1, linewidth=1, edgecolor=\"r\", facecolor=\"none\"\n",
    ")\n",
    "ax.add_patch(rect)\n",
    "ax.grid(None)\n",
    "ax.set_xticklabels([])\n",
    "ax.set_yticklabels([]);"
   ]
  },
  {
   "cell_type": "code",
   "execution_count": 118,
   "id": "bdfcb854",
   "metadata": {},
   "outputs": [],
   "source": [
    "class CustomNeuron(nn.Module):\n",
    "    def __init__(self, layer_sizes):\n",
    "        super(CustomNeuron, self).__init__()\n",
    "        self.layers = nn.Sequential(nn.Linear(28, 1), nn.Sigmoid())\n",
    "\n",
    "    def forward(self, X):\n",
    "        row = max_dev_row\n",
    "        X = X.view(-1, 784)[:, row * 28 : row * 28 + 28]\n",
    "        return self.layers(X)"
   ]
  },
  {
   "cell_type": "code",
   "execution_count": 119,
   "id": "698b2917",
   "metadata": {},
   "outputs": [],
   "source": [
    "def train_one_epoch(\n",
    "    dataloader, model, criterion, learning_rate, weight_decay, momentum, device, mb\n",
    "):\n",
    "\n",
    "    if not hasattr(model, \"momentum_grads\"):\n",
    "        model.momentum_grads = [torch.zeros_like(p) for p in model.parameters()]\n",
    "\n",
    "    model.train()\n",
    "\n",
    "    num_batches = len(train_loader)\n",
    "    dataiter = iter(dataloader)\n",
    "\n",
    "    for batch in progress_bar(range(num_batches), parent=mb):\n",
    "\n",
    "        X, Y = next(dataiter)\n",
    "        X, Y = X.to(device), Y.to(device)\n",
    "\n",
    "        output = model(X)\n",
    "\n",
    "        loss = criterion(output, Y)\n",
    "\n",
    "        model.zero_grad()\n",
    "        loss.backward()\n",
    "\n",
    "        with torch.no_grad():\n",
    "            for param, grad in zip(model.parameters(), model.momentum_grads):\n",
    "                grad.set_(momentum * grad + (1 - momentum) * param.grad)\n",
    "                param -= learning_rate * grad + weight_decay * param"
   ]
  },
  {
   "cell_type": "code",
   "execution_count": 120,
   "id": "26dea3eb",
   "metadata": {},
   "outputs": [],
   "source": [
    "def compute_validation_accuracy(dataloader, model, criterion, device, mb, epoch):\n",
    "\n",
    "    model.eval()\n",
    "\n",
    "    N = len(dataloader.dataset)\n",
    "    num_batches = len(dataloader)\n",
    "\n",
    "    valid_loss, num_correct = 0, 0\n",
    "\n",
    "    with torch.no_grad():\n",
    "\n",
    "        for X, Y in dataloader:\n",
    "\n",
    "            X, Y = X.to(device), Y.to(device)\n",
    "            output = model(X)\n",
    "\n",
    "            valid_loss += criterion(output, Y).item()\n",
    "            num_correct += (output.round().eq(Y)).type(torch.float).sum().item()\n",
    "\n",
    "        valid_loss /= num_batches\n",
    "        valid_accuracy = num_correct / N\n",
    "\n",
    "    mb.write(\n",
    "        f\"{epoch:>3}: validation accuracy={(100*valid_accuracy):5.2f}% and loss={valid_loss:.3f}\"\n",
    "    )\n",
    "    return valid_loss, valid_accuracy"
   ]
  },
  {
   "cell_type": "code",
   "execution_count": 121,
   "id": "ab40d2a0",
   "metadata": {},
   "outputs": [
    {
     "name": "stdout",
     "output_type": "stream",
     "text": [
      "Using 'cuda' device.\n"
     ]
    }
   ],
   "source": [
    "# Configuration parameters\n",
    "seed = 0\n",
    "torch.manual_seed(seed)\n",
    "\n",
    "# Hyperparameters\n",
    "num_epochs = 4\n",
    "batch_size = 128\n",
    "valid_batch_size = 0\n",
    "\n",
    "learning_rate = 1e-2\n",
    "weight_decay = 0#1e-3\n",
    "momentum = 0#0.9\n",
    "\n",
    "# Training device\n",
    "device = \"cuda\" if torch.cuda.is_available() else \"cpu\"\n",
    "print(f\"Using '{device}' device.\")"
   ]
  },
  {
   "cell_type": "code",
   "execution_count": 122,
   "id": "e485982c",
   "metadata": {},
   "outputs": [],
   "source": [
    "# Get data loaders\n",
    "train_loader, _, valid_loader, _ = get_binary_mnist_dataloaders(\n",
    "    data_path, classA, classB, batch_size, valid_batch_size\n",
    ")"
   ]
  },
  {
   "cell_type": "code",
   "execution_count": 123,
   "id": "cd211ed0",
   "metadata": {},
   "outputs": [
    {
     "name": "stdout",
     "output_type": "stream",
     "text": [
      "CustomNeuron(\n",
      "  (layers): Sequential(\n",
      "    (0): Linear(in_features=28, out_features=1, bias=True)\n",
      "    (1): Sigmoid()\n",
      "  )\n",
      ")\n"
     ]
    }
   ],
   "source": [
    "# Create neural network model\n",
    "nx = train_loader.dataset.data.shape[1:].numel()\n",
    "ny = 1\n",
    "layer_sizes = (nx, ny)\n",
    "\n",
    "model = CustomNeuron(layer_sizes).to(device)\n",
    "print(model)\n",
    "\n",
    "# Training utilities\n",
    "criterion = nn.L1Loss()"
   ]
  },
  {
   "cell_type": "code",
   "execution_count": 124,
   "id": "dad9a729",
   "metadata": {},
   "outputs": [
    {
     "data": {
      "text/html": [
       "  0: validation accuracy=43.76% and loss=0.521<p>  1: validation accuracy=87.48% and loss=0.299<p>  2: validation accuracy=91.84% and loss=0.210<p>  3: validation accuracy=92.70% and loss=0.172<p>  4: validation accuracy=93.03% and loss=0.152"
      ],
      "text/plain": [
       "<IPython.core.display.HTML object>"
      ]
     },
     "metadata": {},
     "output_type": "display_data"
    }
   ],
   "source": [
    "# Training loop\n",
    "mb = master_bar(range(num_epochs))\n",
    "compute_validation_accuracy(valid_loader, model, criterion, device, mb, 0)\n",
    "for epoch in mb:\n",
    "    train_one_epoch(\n",
    "        train_loader,\n",
    "        model,\n",
    "        criterion,\n",
    "        learning_rate,\n",
    "        weight_decay,\n",
    "        momentum,\n",
    "        device,\n",
    "        mb,\n",
    "    )\n",
    "    tloss, taccuracy = compute_validation_accuracy(\n",
    "        valid_loader, model, criterion, device, mb, epoch + 1\n",
    "    )"
   ]
  },
  {
   "cell_type": "code",
   "execution_count": 133,
   "id": "ac53d759",
   "metadata": {},
   "outputs": [
    {
     "data": {
      "text/html": [
       "\n",
       "    <div>\n",
       "        <style>\n",
       "            /* Turns off some styling */\n",
       "            progress {\n",
       "                /* gets rid of default border in Firefox and Opera. */\n",
       "                border: none;\n",
       "                /* Needs to be in here for Safari polyfill so background images work as expected. */\n",
       "                background-size: auto;\n",
       "            }\n",
       "            .progress-bar-interrupted, .progress-bar-interrupted::-webkit-progress-bar {\n",
       "                background: #F44336;\n",
       "            }\n",
       "        </style>\n",
       "      <progress value='100' class='' max='100' style='width:300px; height:20px; vertical-align: middle;'></progress>\n",
       "      100.00% [100/100 00:01<00:00]\n",
       "    </div>\n",
       "    "
      ],
      "text/plain": [
       "<IPython.core.display.HTML object>"
      ]
     },
     "metadata": {},
     "output_type": "display_data"
    }
   ],
   "source": [
    "w_index = 0\n",
    "\n",
    "w_orig = model.layers[0].weight[0][w_index].item()\n",
    "l_orig = tloss\n",
    "a_orig = taccuracy\n",
    "\n",
    "w_values = torch.linspace(w_orig - 15, w_orig + 15, 100)\n",
    "\n",
    "losses = []\n",
    "accuracies = []\n",
    "\n",
    "device = \"cpu\"\n",
    "model.to(device)\n",
    "\n",
    "with torch.no_grad():\n",
    "    for w in progress_bar(w_values):\n",
    "        model.layers[0].weight[0][w_index] = w\n",
    "        loss, accuracy = compute_validation_accuracy(\n",
    "            valid_loader, model, criterion, device, mb, 0\n",
    "        )\n",
    "        losses.append(loss)\n",
    "        accuracies.append(accuracy)\n",
    "\n",
    "    # Fix the changed parameter\n",
    "    model.layers[0].weight[0][w_index] = w_orig"
   ]
  },
  {
   "cell_type": "code",
   "execution_count": 134,
   "id": "e94da4ae",
   "metadata": {},
   "outputs": [
    {
     "data": {
      "text/plain": [
       "Text(0.5, 1.0, 'Parameter vs Loss')"
      ]
     },
     "execution_count": 134,
     "metadata": {},
     "output_type": "execute_result"
    },
    {
     "data": {
      "image/png": "[encoded data removed]",
      "text/plain": [
       "<Figure size 748.8x655.2 with 2 Axes>"
      ]
     },
     "metadata": {},
     "output_type": "display_data"
    }
   ],
   "source": [
    "_, axes = plt.subplots(2, 1)\n",
    "axes[0].plot(w_values, accuracies)\n",
    "axes[0].plot(w_orig, a_orig, \"o\", color=\"pink\")\n",
    "axes[0].set_title(\"Parameter vs Accuracy\")\n",
    "axes[1].plot(w_values, losses)\n",
    "axes[1].plot(w_orig, l_orig, \"o\", color=\"pink\")\n",
    "axes[1].set_title(\"Parameter vs Loss\")"
   ]
  },
  {
   "cell_type": "code",
   "execution_count": null,
   "id": "ae12a8de",
   "metadata": {},
   "outputs": [],
   "source": []
  }
 ],
 "metadata": {
  "jupytext": {
   "formats": "ipynb,auto:percent"
  },
  "kernelspec": {
   "display_name": "Python 3 (ipykernel)",
   "language": "python",
   "name": "python3"
  },
  "language_info": {
   "codemirror_mode": {
    "name": "ipython",
    "version": 3
   },
   "file_extension": ".py",
   "mimetype": "text/x-python",
   "name": "python",
   "nbconvert_exporter": "python",
   "pygments_lexer": "ipython3",
   "version": "3.8.5"
  }
 },
 "nbformat": 4,
 "nbformat_minor": 5
}
