{
 "cells": [
  {
   "cell_type": "code",
   "execution_count": 1,
   "id": "280f8d4d",
   "metadata": {},
   "outputs": [],
   "source": [
    "import torch\n",
    "import torch.nn as nn\n",
    "from torch.utils.data import DataLoader, SubsetRandomSampler\n",
    "\n",
    "from torchvision.datasets import MNIST\n",
    "from torchvision.transforms import Compose, Normalize, ToTensor"
   ]
  },
  {
   "cell_type": "code",
   "execution_count": 3,
   "id": "164c79d6",
   "metadata": {},
   "outputs": [],
   "source": [
    "def get_mnist_data_loaders(path, batch_size, valid_batch_size):\n",
    "\n",
    "    # MNIST specific transforms\n",
    "    mnist_xforms = Compose([ToTensor(), Normalize((0.1307,), (0.3081,))])\n",
    "\n",
    "    # Training data loader\n",
    "    train_dataset = MNIST(root=path, train=True, download=True, transform=mnist_xforms)\n",
    "\n",
    "    tbs = len(train_dataset) if batch_size == 0 else batch_size\n",
    "    train_loader = DataLoader(train_dataset, batch_size=tbs, shuffle=True)\n",
    "\n",
    "    # Validation data loader\n",
    "    valid_dataset = MNIST(root=path, train=False, download=True, transform=mnist_xforms)\n",
    "\n",
    "    vbs = len(valid_dataset) if valid_batch_size == 0 else valid_batch_size\n",
    "    valid_loader = DataLoader(valid_dataset, batch_size=vbs, shuffle=True)\n",
    "\n",
    "    return train_loader, valid_loader"
   ]
  },
  {
   "cell_type": "code",
   "execution_count": 64,
   "id": "e0cd30bd",
   "metadata": {},
   "outputs": [],
   "source": [
    "class NeuralNetwork(nn.Module):\n",
    "    def __init__(self, layer_sizes):\n",
    "        super(NeuralNetwork, self).__init__()\n",
    "\n",
    "        first_layer = nn.Flatten()\n",
    "        middle_layers = [\n",
    "            nn.Sequential(nn.Linear(nlminus1, nl), nn.ReLU())\n",
    "            for nl, nlminus1 in zip(layer_sizes[1:-1], layer_sizes)\n",
    "        ]\n",
    "        last_layer = nn.Linear(layer_sizes[-2], layer_sizes[-1])\n",
    "\n",
    "        all_layers = [first_layer] + middle_layers + [last_layer]\n",
    "\n",
    "        self.layers = nn.Sequential(*all_layers)\n",
    "\n",
    "    def forward(self, X):\n",
    "        return self.layers(X)"
   ]
  },
  {
   "cell_type": "code",
   "execution_count": 65,
   "id": "f0e5d4c9",
   "metadata": {},
   "outputs": [],
   "source": [
    "def train_one_epoch(dataloader, model, loss_fn, optimizer):\n",
    "\n",
    "    model.train()\n",
    "\n",
    "    size = len(dataloader.dataset)\n",
    "\n",
    "    for batch, (X, Y) in enumerate(dataloader):\n",
    "\n",
    "        X, Y = X.to(device), Y.to(device)\n",
    "\n",
    "        output = model(X)\n",
    "\n",
    "        loss = loss_fn(output, Y)\n",
    "\n",
    "        # Backpropagation\n",
    "        optimizer.zero_grad()\n",
    "        loss.backward()\n",
    "        optimizer.step()\n",
    "\n",
    "        if batch % 100 == 0:\n",
    "            loss, current = loss.item(), batch * len(X)\n",
    "            print(f\"loss: {loss:>7f}  [{current:>5d}/{size:>5d}]\")"
   ]
  },
  {
   "cell_type": "code",
   "execution_count": 66,
   "id": "d461150e",
   "metadata": {},
   "outputs": [],
   "source": [
    "def compute_validation_accuracy(dataloader, model, loss_fn):\n",
    "\n",
    "    model.eval()\n",
    "\n",
    "    size = len(dataloader.dataset)\n",
    "\n",
    "    num_batches = len(dataloader)\n",
    "\n",
    "    valid_loss, correct = 0, 0\n",
    "\n",
    "    with torch.no_grad():\n",
    "\n",
    "        for X, Y in dataloader:\n",
    "            X, Y = X.to(device), Y.to(device)\n",
    "            pred = model(X)\n",
    "            valid_loss += loss_fn(pred, Y).item()\n",
    "            correct += (pred.argmax(1) == Y).type(torch.float).sum().item()\n",
    "\n",
    "        valid_loss /= num_batches\n",
    "        correct /= size\n",
    "\n",
    "        print(\n",
    "            f\"Validation Metrics:\\n\\tAccuracy: {(100*correct):>0.1f}%\\n\\tAvg loss: {valid_loss:>8f}\"\n",
    "        )"
   ]
  },
  {
   "cell_type": "code",
   "execution_count": 67,
   "id": "a2cb2fb0",
   "metadata": {},
   "outputs": [
    {
     "name": "stdout",
     "output_type": "stream",
     "text": [
      "Using 'cuda' device.\n"
     ]
    }
   ],
   "source": [
    "# Configuration parameters\n",
    "data_path = \"../data\"\n",
    "seed = 0\n",
    "\n",
    "torch.manual_seed(seed)\n",
    "\n",
    "# Hyperparameters\n",
    "batch_size = 64\n",
    "valid_batch_size = 0\n",
    "learning_rate = 1e-3\n",
    "num_epochs = 5\n",
    "\n",
    "# Training device\n",
    "device = \"cuda\" if torch.cuda.is_available() else \"cpu\"\n",
    "print(f\"Using '{device}' device.\")"
   ]
  },
  {
   "cell_type": "code",
   "execution_count": 68,
   "id": "1e49880f",
   "metadata": {},
   "outputs": [],
   "source": [
    "# Get data loaders\n",
    "train_loader, valid_loader = get_mnist_data_loaders(\n",
    "    data_path, batch_size, valid_batch_size\n",
    ")\n",
    "batch_X, batch_Y = next(iter(train_loader))"
   ]
  },
  {
   "cell_type": "code",
   "execution_count": 69,
   "id": "f3414f75",
   "metadata": {},
   "outputs": [
    {
     "name": "stdout",
     "output_type": "stream",
     "text": [
      "NeuralNetwork(\n",
      "  (layers): Sequential(\n",
      "    (0): Flatten(start_dim=1, end_dim=-1)\n",
      "    (1): Sequential(\n",
      "      (0): Linear(in_features=784, out_features=512, bias=True)\n",
      "      (1): ReLU()\n",
      "    )\n",
      "    (2): Sequential(\n",
      "      (0): Linear(in_features=512, out_features=50, bias=True)\n",
      "      (1): ReLU()\n",
      "    )\n",
      "    (3): Linear(in_features=50, out_features=10, bias=True)\n",
      "  )\n",
      ")\n"
     ]
    }
   ],
   "source": [
    "# Neural network model\n",
    "nx = batch_X.shape[1:].numel()\n",
    "ny = int(torch.unique(batch_Y).shape[0])\n",
    "layer_sizes = (nx, 512, 50, ny)\n",
    "\n",
    "model = NeuralNetwork(layer_sizes).to(device)\n",
    "print(model)"
   ]
  },
  {
   "cell_type": "code",
   "execution_count": 70,
   "id": "e5dd6a41",
   "metadata": {},
   "outputs": [],
   "source": [
    "# Training utilities\n",
    "loss_fn = nn.CrossEntropyLoss()\n",
    "optimizer = torch.optim.SGD(model.parameters(), lr=learning_rate)"
   ]
  },
  {
   "cell_type": "code",
   "execution_count": 71,
   "id": "39213af4",
   "metadata": {},
   "outputs": [
    {
     "name": "stdout",
     "output_type": "stream",
     "text": [
      "Epoch 1\n",
      "-------------------------------\n",
      "loss: 2.314172  [    0/60000]\n",
      "loss: 2.286030  [ 6400/60000]\n",
      "loss: 2.252837  [12800/60000]\n",
      "loss: 2.236573  [19200/60000]\n",
      "loss: 2.161557  [25600/60000]\n",
      "loss: 2.119941  [32000/60000]\n",
      "loss: 2.101425  [38400/60000]\n",
      "loss: 2.105149  [44800/60000]\n",
      "loss: 2.042984  [51200/60000]\n",
      "loss: 1.967875  [57600/60000]\n",
      "Validation Metrics:\n",
      "\tAccuracy: 60.7%\n",
      "\tAvg loss: 1.923344\n",
      "Epoch 2\n",
      "-------------------------------\n",
      "loss: 1.859424  [    0/60000]\n",
      "loss: 1.821604  [ 6400/60000]\n",
      "loss: 1.785439  [12800/60000]\n",
      "loss: 1.656407  [19200/60000]\n",
      "loss: 1.643545  [25600/60000]\n",
      "loss: 1.617386  [32000/60000]\n",
      "loss: 1.445982  [38400/60000]\n",
      "loss: 1.412978  [44800/60000]\n",
      "loss: 1.513695  [51200/60000]\n",
      "loss: 1.152074  [57600/60000]\n",
      "Validation Metrics:\n",
      "\tAccuracy: 75.7%\n",
      "\tAvg loss: 1.223937\n",
      "Epoch 3\n",
      "-------------------------------\n",
      "loss: 1.302889  [    0/60000]\n",
      "loss: 1.163493  [ 6400/60000]\n",
      "loss: 1.218116  [12800/60000]\n",
      "loss: 1.058661  [19200/60000]\n",
      "loss: 1.004611  [25600/60000]\n",
      "loss: 0.890238  [32000/60000]\n",
      "loss: 0.855692  [38400/60000]\n",
      "loss: 0.869338  [44800/60000]\n",
      "loss: 0.907418  [51200/60000]\n",
      "loss: 0.874089  [57600/60000]\n",
      "Validation Metrics:\n",
      "\tAccuracy: 83.5%\n",
      "\tAvg loss: 0.763334\n",
      "Epoch 4\n",
      "-------------------------------\n",
      "loss: 0.839799  [    0/60000]\n",
      "loss: 0.864188  [ 6400/60000]\n",
      "loss: 0.780191  [12800/60000]\n",
      "loss: 0.889335  [19200/60000]\n",
      "loss: 0.620444  [25600/60000]\n",
      "loss: 0.623498  [32000/60000]\n",
      "loss: 0.757475  [38400/60000]\n",
      "loss: 0.707697  [44800/60000]\n",
      "loss: 0.773018  [51200/60000]\n",
      "loss: 0.459454  [57600/60000]\n",
      "Validation Metrics:\n",
      "\tAccuracy: 86.3%\n",
      "\tAvg loss: 0.568696\n",
      "Epoch 5\n",
      "-------------------------------\n",
      "loss: 0.602848  [    0/60000]\n",
      "loss: 0.490575  [ 6400/60000]\n",
      "loss: 0.494737  [12800/60000]\n",
      "loss: 0.505307  [19200/60000]\n",
      "loss: 0.633992  [25600/60000]\n",
      "loss: 0.573496  [32000/60000]\n",
      "loss: 0.712357  [38400/60000]\n",
      "loss: 0.487209  [44800/60000]\n",
      "loss: 0.483385  [51200/60000]\n",
      "loss: 0.462466  [57600/60000]\n",
      "Validation Metrics:\n",
      "\tAccuracy: 88.0%\n",
      "\tAvg loss: 0.473431\n",
      "Done!\n"
     ]
    }
   ],
   "source": [
    "for epoch in range(num_epochs):\n",
    "    print(f\"Epoch {epoch+1}\\n-------------------------------\")\n",
    "    train_one_epoch(train_loader, model, loss_fn, optimizer)\n",
    "    compute_validation_accuracy(valid_loader, model, loss_fn)\n",
    "print(\"Done!\")"
   ]
  },
  {
   "cell_type": "code",
   "execution_count": 74,
   "id": "8a9d4c82",
   "metadata": {},
   "outputs": [
    {
     "name": "stdout",
     "output_type": "stream",
     "text": [
      "torch.Size([512, 784])\n",
      "torch.Size([512])\n",
      "torch.Size([50, 512])\n",
      "torch.Size([50])\n",
      "torch.Size([10, 50])\n",
      "torch.Size([10])\n"
     ]
    }
   ],
   "source": [
    "for param in model.parameters():\n",
    "    print(param.shape)"
   ]
  },
  {
   "cell_type": "code",
   "execution_count": null,
   "id": "22f08d26",
   "metadata": {},
   "outputs": [],
   "source": []
  }
 ],
 "metadata": {
  "kernelspec": {
   "display_name": "Python 3 (ipykernel)",
   "language": "python",
   "name": "python3"
  },
  "language_info": {
   "codemirror_mode": {
    "name": "ipython",
    "version": 3
   },
   "file_extension": ".py",
   "mimetype": "text/x-python",
   "name": "python",
   "nbconvert_exporter": "python",
   "pygments_lexer": "ipython3",
   "version": "3.8.5"
  }
 },
 "nbformat": 4,
 "nbformat_minor": 5
}
