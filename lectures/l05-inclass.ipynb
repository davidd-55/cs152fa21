{
 "cells": [
  {
   "cell_type": "code",
   "execution_count": 18,
   "id": "2442f3dd",
   "metadata": {},
   "outputs": [],
   "source": [
    "import torch\n",
    "import torchvision"
   ]
  },
  {
   "cell_type": "code",
   "execution_count": 2,
   "id": "dc1590e2",
   "metadata": {},
   "outputs": [
    {
     "data": {
      "text/plain": [
       "tensor([0.5546, 0.9435, 0.0770])"
      ]
     },
     "execution_count": 2,
     "metadata": {},
     "output_type": "execute_result"
    }
   ],
   "source": [
    "torch.rand(3)"
   ]
  },
  {
   "cell_type": "code",
   "execution_count": 3,
   "id": "8cfe09fa",
   "metadata": {},
   "outputs": [
    {
     "data": {
      "text/plain": [
       "torch.Size([3])"
      ]
     },
     "execution_count": 3,
     "metadata": {},
     "output_type": "execute_result"
    }
   ],
   "source": [
    "torch.rand(3).shape"
   ]
  },
  {
   "cell_type": "code",
   "execution_count": 4,
   "id": "7d9cfb02",
   "metadata": {},
   "outputs": [
    {
     "data": {
      "text/plain": [
       "tensor([[0.5371, 0.1690, 0.3596, 0.3989, 0.8953, 0.0299, 0.7732, 0.6926, 0.0990,\n",
       "         0.4775, 0.2200, 0.2720, 0.3820, 0.1534, 0.5185, 0.1563, 0.5680],\n",
       "        [0.3323, 0.8861, 0.2452, 0.8694, 0.8614, 0.9657, 0.0827, 0.1938, 0.0443,\n",
       "         0.5317, 0.9323, 0.9425, 0.3853, 0.7308, 0.2982, 0.5843, 0.1785],\n",
       "        [0.2934, 0.3555, 0.2063, 0.5336, 0.0128, 0.5093, 0.9147, 0.2682, 0.5082,\n",
       "         0.9848, 0.0760, 0.3013, 0.8301, 0.4832, 0.3341, 0.6039, 0.5995],\n",
       "        [0.2497, 0.0624, 0.2028, 0.7540, 0.4350, 0.7880, 0.5190, 0.6501, 0.6882,\n",
       "         0.4653, 0.4119, 0.7885, 0.0072, 0.0084, 0.8512, 0.1035, 0.4752],\n",
       "        [0.7572, 0.6110, 0.2167, 0.4483, 0.7393, 0.8103, 0.8155, 0.8665, 0.7357,\n",
       "         0.6308, 0.7419, 0.4158, 0.2715, 0.9859, 0.7734, 0.3698, 0.5620],\n",
       "        [0.4260, 0.2487, 0.5604, 0.0417, 0.8273, 0.3643, 0.1883, 0.8318, 0.4421,\n",
       "         0.9134, 0.8055, 0.0116, 0.2669, 0.3351, 0.7620, 0.2168, 0.4174],\n",
       "        [0.2172, 0.5604, 0.7489, 0.6035, 0.2738, 0.5359, 0.7765, 0.7588, 0.5162,\n",
       "         0.8970, 0.3109, 0.4674, 0.0109, 0.1512, 0.0599, 0.7723, 0.5558],\n",
       "        [0.3787, 0.9602, 0.8534, 0.5246, 0.4438, 0.1981, 0.1463, 0.6373, 0.0459,\n",
       "         0.4398, 0.5347, 0.6657, 0.2406, 0.5540, 0.0824, 0.4424, 0.1638],\n",
       "        [0.2090, 0.7701, 0.6906, 0.7196, 0.7944, 0.1173, 0.9899, 0.5836, 0.1893,\n",
       "         0.9768, 0.6993, 0.9623, 0.5153, 0.8621, 0.3729, 0.5188, 0.0887],\n",
       "        [0.2184, 0.2677, 0.2736, 0.5845, 0.7778, 0.7160, 0.3701, 0.8096, 0.1304,\n",
       "         0.6438, 0.0335, 0.1294, 0.4816, 0.1993, 0.8199, 0.1185, 0.9211],\n",
       "        [0.8923, 0.4559, 0.3726, 0.1527, 0.5468, 0.6897, 0.4689, 0.0115, 0.8233,\n",
       "         0.7446, 0.6422, 0.3164, 0.2489, 0.0591, 0.4896, 0.8043, 0.7693],\n",
       "        [0.6628, 0.1326, 0.7295, 0.9565, 0.6933, 0.2098, 0.5856, 0.8328, 0.5219,\n",
       "         0.7833, 0.2569, 0.2181, 0.3292, 0.8022, 0.0640, 0.6239, 0.7978],\n",
       "        [0.8720, 0.3586, 0.0771, 0.8285, 0.2049, 0.7741, 0.1586, 0.3486, 0.1019,\n",
       "         0.6266, 0.2159, 0.7313, 0.3753, 0.2073, 0.1218, 0.5545, 0.9521],\n",
       "        [0.2477, 0.8136, 0.5551, 0.1825, 0.5595, 0.2307, 0.7827, 0.2385, 0.5037,\n",
       "         0.6770, 0.5468, 0.8883, 0.0422, 0.5687, 0.3640, 0.8634, 0.8114],\n",
       "        [0.1385, 0.8989, 0.4990, 0.8658, 0.5203, 0.7716, 0.6605, 0.2223, 0.4373,\n",
       "         0.7282, 0.1312, 0.8783, 0.1565, 0.2698, 0.3557, 0.3879, 0.5875],\n",
       "        [0.7613, 0.8238, 0.3897, 0.4674, 0.0130, 0.9028, 0.2119, 0.4969, 0.3284,\n",
       "         0.1858, 0.5388, 0.3629, 0.6910, 0.8943, 0.7340, 0.0208, 0.2128]])"
      ]
     },
     "execution_count": 4,
     "metadata": {},
     "output_type": "execute_result"
    }
   ],
   "source": [
    "torch.rand(16, 17)"
   ]
  },
  {
   "cell_type": "code",
   "execution_count": 5,
   "id": "4046b8ad",
   "metadata": {},
   "outputs": [
    {
     "data": {
      "text/plain": [
       "torch.Size([16, 17])"
      ]
     },
     "execution_count": 5,
     "metadata": {},
     "output_type": "execute_result"
    }
   ],
   "source": [
    "torch.rand(16, 17).shape"
   ]
  },
  {
   "cell_type": "code",
   "execution_count": 6,
   "id": "4d96c1f2",
   "metadata": {},
   "outputs": [
    {
     "data": {
      "text/plain": [
       "tensor([[[[[7.3903e-01, 3.1320e-01, 7.3773e-01, 8.5491e-01, 7.9430e-02],\n",
       "           [2.0297e-01, 5.9903e-01, 2.1045e-01, 5.2806e-01, 9.1031e-01],\n",
       "           [7.6002e-04, 3.3622e-02, 6.5161e-01, 6.7415e-02, 9.4116e-01],\n",
       "           [5.7940e-01, 3.4861e-01, 8.9440e-01, 1.2270e-02, 3.7418e-01]],\n",
       "\n",
       "          [[7.1114e-01, 9.9024e-01, 7.3143e-01, 8.0690e-01, 9.5182e-01],\n",
       "           [3.0765e-01, 9.1006e-01, 2.1315e-01, 8.1658e-01, 6.8787e-01],\n",
       "           [6.8659e-01, 7.4333e-01, 6.9513e-02, 5.0373e-01, 9.1259e-01],\n",
       "           [5.0172e-03, 8.4318e-01, 2.9568e-01, 5.8871e-01, 4.3935e-01]],\n",
       "\n",
       "          [[4.2310e-01, 9.1872e-01, 9.3356e-01, 3.2926e-01, 7.7271e-01],\n",
       "           [4.9671e-01, 1.4979e-01, 1.9485e-04, 3.2715e-01, 4.0700e-01],\n",
       "           [9.1633e-01, 8.5056e-01, 2.8296e-01, 6.6848e-01, 2.1668e-01],\n",
       "           [3.0511e-01, 4.3597e-01, 5.9667e-01, 1.8890e-01, 2.0637e-01]]],\n",
       "\n",
       "\n",
       "         [[[2.1754e-01, 3.6264e-01, 3.6609e-01, 4.1736e-01, 6.2938e-01],\n",
       "           [4.6772e-01, 5.0641e-01, 1.0074e-01, 6.1084e-01, 9.6399e-02],\n",
       "           [4.7524e-01, 4.4478e-01, 6.7416e-02, 9.0192e-01, 9.0398e-01],\n",
       "           [7.6001e-02, 4.4932e-01, 6.2295e-01, 4.9169e-01, 1.8141e-01]],\n",
       "\n",
       "          [[5.2527e-01, 8.5206e-01, 5.8651e-01, 3.9640e-01, 1.8306e-01],\n",
       "           [2.4230e-01, 4.9738e-01, 8.8786e-01, 9.5997e-01, 6.5570e-01],\n",
       "           [8.6337e-01, 5.1560e-01, 2.5945e-01, 1.5459e-01, 9.3958e-01],\n",
       "           [5.3647e-02, 8.0249e-02, 8.6699e-01, 1.8732e-01, 5.0443e-01]],\n",
       "\n",
       "          [[9.3910e-01, 1.4692e-01, 4.7864e-01, 6.0201e-01, 2.1332e-02],\n",
       "           [4.6484e-01, 2.7007e-01, 6.3634e-01, 5.4348e-01, 5.0120e-01],\n",
       "           [8.5357e-01, 1.0587e-01, 9.3824e-01, 4.9320e-01, 6.7032e-01],\n",
       "           [8.6192e-01, 4.2242e-01, 4.5469e-02, 8.1755e-01, 6.2897e-01]]]]])"
      ]
     },
     "execution_count": 6,
     "metadata": {},
     "output_type": "execute_result"
    }
   ],
   "source": [
    "torch.rand(1, 2, 3, 4, 5)"
   ]
  },
  {
   "cell_type": "code",
   "execution_count": 7,
   "id": "9a7d7c00",
   "metadata": {},
   "outputs": [
    {
     "data": {
      "text/plain": [
       "torch.Size([1, 2, 3, 4, 5])"
      ]
     },
     "execution_count": 7,
     "metadata": {},
     "output_type": "execute_result"
    }
   ],
   "source": [
    "torch.rand(1, 2, 3, 4, 5).shape"
   ]
  },
  {
   "cell_type": "code",
   "execution_count": 8,
   "id": "d0f11745",
   "metadata": {},
   "outputs": [],
   "source": [
    "a = torch.rand(5, 12)\n",
    "b = torch.rand(12, 16)"
   ]
  },
  {
   "cell_type": "code",
   "execution_count": 10,
   "id": "76dfef5a",
   "metadata": {},
   "outputs": [
    {
     "data": {
      "text/plain": [
       "(torch.Size([5, 12]), torch.Size([12, 16]))"
      ]
     },
     "execution_count": 10,
     "metadata": {},
     "output_type": "execute_result"
    }
   ],
   "source": [
    "a.shape, b.shape"
   ]
  },
  {
   "cell_type": "code",
   "execution_count": 11,
   "id": "9f9b8168",
   "metadata": {},
   "outputs": [
    {
     "ename": "RuntimeError",
     "evalue": "The size of tensor a (12) must match the size of tensor b (16) at non-singleton dimension 1",
     "output_type": "error",
     "traceback": [
      "\u001b[0;31m---------------------------------------------------------------------------\u001b[0m",
      "\u001b[0;31mRuntimeError\u001b[0m                              Traceback (most recent call last)",
      "\u001b[0;32m/tmp/ipykernel_3186231/937666681.py\u001b[0m in \u001b[0;36m<module>\u001b[0;34m\u001b[0m\n\u001b[0;32m----> 1\u001b[0;31m \u001b[0ma\u001b[0m \u001b[0;34m*\u001b[0m \u001b[0mb\u001b[0m\u001b[0;34m\u001b[0m\u001b[0;34m\u001b[0m\u001b[0m\n\u001b[0m",
      "\u001b[0;31mRuntimeError\u001b[0m: The size of tensor a (12) must match the size of tensor b (16) at non-singleton dimension 1"
     ]
    }
   ],
   "source": [
    "a * b # Element-wise multiplication"
   ]
  },
  {
   "cell_type": "code",
   "execution_count": 13,
   "id": "3f5f1b4d",
   "metadata": {},
   "outputs": [],
   "source": [
    "c = a @ b"
   ]
  },
  {
   "cell_type": "code",
   "execution_count": 14,
   "id": "edb80bb8",
   "metadata": {},
   "outputs": [
    {
     "data": {
      "text/plain": [
       "torch.Size([5, 16])"
      ]
     },
     "execution_count": 14,
     "metadata": {},
     "output_type": "execute_result"
    }
   ],
   "source": [
    "c.shape"
   ]
  },
  {
   "cell_type": "code",
   "execution_count": 15,
   "id": "9bc9524d",
   "metadata": {},
   "outputs": [
    {
     "ename": "RuntimeError",
     "evalue": "mat1 and mat2 shapes cannot be multiplied (12x16 and 5x12)",
     "output_type": "error",
     "traceback": [
      "\u001b[0;31m---------------------------------------------------------------------------\u001b[0m",
      "\u001b[0;31mRuntimeError\u001b[0m                              Traceback (most recent call last)",
      "\u001b[0;32m/tmp/ipykernel_3186231/3987472661.py\u001b[0m in \u001b[0;36m<module>\u001b[0;34m\u001b[0m\n\u001b[0;32m----> 1\u001b[0;31m \u001b[0mc\u001b[0m \u001b[0;34m=\u001b[0m \u001b[0mb\u001b[0m \u001b[0;34m@\u001b[0m \u001b[0ma\u001b[0m\u001b[0;34m\u001b[0m\u001b[0;34m\u001b[0m\u001b[0m\n\u001b[0m",
      "\u001b[0;31mRuntimeError\u001b[0m: mat1 and mat2 shapes cannot be multiplied (12x16 and 5x12)"
     ]
    }
   ],
   "source": [
    "c = b @ a"
   ]
  },
  {
   "cell_type": "code",
   "execution_count": 16,
   "id": "b2657bc2",
   "metadata": {},
   "outputs": [],
   "source": [
    "c = b.T @ a.T"
   ]
  },
  {
   "cell_type": "code",
   "execution_count": 17,
   "id": "59582f02",
   "metadata": {},
   "outputs": [
    {
     "data": {
      "text/plain": [
       "torch.Size([16, 5])"
      ]
     },
     "execution_count": 17,
     "metadata": {},
     "output_type": "execute_result"
    }
   ],
   "source": [
    "c.shape"
   ]
  },
  {
   "cell_type": "code",
   "execution_count": 19,
   "id": "30e1e65c",
   "metadata": {},
   "outputs": [
    {
     "name": "stderr",
     "output_type": "stream",
     "text": [
      "/opt/mambaforge/envs/cs152/lib/python3.8/site-packages/torchvision/datasets/mnist.py:498: UserWarning: The given NumPy array is not writeable, and PyTorch does not support non-writeable tensors. This means you can write to the underlying (supposedly non-writeable) NumPy array using the tensor. You may want to copy the array to protect its data or make it writeable before converting it to a tensor. This type of warning will be suppressed for the rest of this program. (Triggered internally at  /tmp/pip-req-build-pma2oi4d/torch/csrc/utils/tensor_numpy.cpp:180.)\n",
      "  return torch.from_numpy(parsed.astype(m[2], copy=False)).view(*s)\n"
     ]
    }
   ],
   "source": [
    "# MNIST : hello world\n",
    "# EMNIST : extended with letters in addition to digits\n",
    "# KMNIST : Kuzushiji, Japanese characters\n",
    "# QMNIST : newer MNIST with better source information\n",
    "\n",
    "data_path = \"../data/\"\n",
    "\n",
    "mnist_transforms = torchvision.transforms.Compose(\n",
    "    [\n",
    "        torchvision.transforms.ToTensor(),\n",
    "        torchvision.transforms.Normalize((0.1307,), (0.3081,)),\n",
    "    ]\n",
    ")\n",
    "\n",
    "train_dataset = torchvision.datasets.MNIST(\n",
    "    root=data_path, train=True, download=True, transform=mnist_transforms\n",
    ")"
   ]
  },
  {
   "cell_type": "code",
   "execution_count": 24,
   "id": "9371c930",
   "metadata": {},
   "outputs": [
    {
     "data": {
      "text/plain": [
       "Dataset MNIST\n",
       "    Number of datapoints: 60000\n",
       "    Root location: ../data/\n",
       "    Split: Train\n",
       "    StandardTransform\n",
       "Transform: Compose(\n",
       "               ToTensor()\n",
       "               Normalize(mean=(0.1307,), std=(0.3081,))\n",
       "           )"
      ]
     },
     "execution_count": 24,
     "metadata": {},
     "output_type": "execute_result"
    }
   ],
   "source": [
    "train_dataset"
   ]
  },
  {
   "cell_type": "code",
   "execution_count": 25,
   "id": "e7cda841",
   "metadata": {},
   "outputs": [
    {
     "data": {
      "text/plain": [
       "tensor([[  0,   0,   0,   0,   0,   0,   0,   0,   0,   0,   0,   0,   0,   0,\n",
       "           0,   0,   0,   0,   0,   0,   0,   0,   0,   0,   0,   0,   0,   0],\n",
       "        [  0,   0,   0,   0,   0,   0,   0,   0,   0,   0,   0,   0,   0,   0,\n",
       "           0,   0,   0,   0,   0,   0,   0,   0,   0,   0,   0,   0,   0,   0],\n",
       "        [  0,   0,   0,   0,   0,   0,   0,   0,   0,   0,   0,   0,   0,   0,\n",
       "           0,   0,   0,   0,   0,   0,   0,   0,   0,   0,   0,   0,   0,   0],\n",
       "        [  0,   0,   0,   0,   0,   0,   0,   0,   0,   0,   0,   0,   0,   0,\n",
       "           0,   0,   0,   0,   0,   0,   0,   0,   0,   0,   0,   0,   0,   0],\n",
       "        [  0,   0,   0,   0,   0,   0,   0,   0,   0,   0,   0,   0,   0,   0,\n",
       "           0,   0,   0,   0,   0,   0,   0,   0,   0,   0,   0,   0,   0,   0],\n",
       "        [  0,   0,   0,   0,   0,   0,   0,   0,   0,   0,   0,   0,   3,  18,\n",
       "          18,  18, 126, 136, 175,  26, 166, 255, 247, 127,   0,   0,   0,   0],\n",
       "        [  0,   0,   0,   0,   0,   0,   0,   0,  30,  36,  94, 154, 170, 253,\n",
       "         253, 253, 253, 253, 225, 172, 253, 242, 195,  64,   0,   0,   0,   0],\n",
       "        [  0,   0,   0,   0,   0,   0,   0,  49, 238, 253, 253, 253, 253, 253,\n",
       "         253, 253, 253, 251,  93,  82,  82,  56,  39,   0,   0,   0,   0,   0],\n",
       "        [  0,   0,   0,   0,   0,   0,   0,  18, 219, 253, 253, 253, 253, 253,\n",
       "         198, 182, 247, 241,   0,   0,   0,   0,   0,   0,   0,   0,   0,   0],\n",
       "        [  0,   0,   0,   0,   0,   0,   0,   0,  80, 156, 107, 253, 253, 205,\n",
       "          11,   0,  43, 154,   0,   0,   0,   0,   0,   0,   0,   0,   0,   0],\n",
       "        [  0,   0,   0,   0,   0,   0,   0,   0,   0,  14,   1, 154, 253,  90,\n",
       "           0,   0,   0,   0,   0,   0,   0,   0,   0,   0,   0,   0,   0,   0],\n",
       "        [  0,   0,   0,   0,   0,   0,   0,   0,   0,   0,   0, 139, 253, 190,\n",
       "           2,   0,   0,   0,   0,   0,   0,   0,   0,   0,   0,   0,   0,   0],\n",
       "        [  0,   0,   0,   0,   0,   0,   0,   0,   0,   0,   0,  11, 190, 253,\n",
       "          70,   0,   0,   0,   0,   0,   0,   0,   0,   0,   0,   0,   0,   0],\n",
       "        [  0,   0,   0,   0,   0,   0,   0,   0,   0,   0,   0,   0,  35, 241,\n",
       "         225, 160, 108,   1,   0,   0,   0,   0,   0,   0,   0,   0,   0,   0],\n",
       "        [  0,   0,   0,   0,   0,   0,   0,   0,   0,   0,   0,   0,   0,  81,\n",
       "         240, 253, 253, 119,  25,   0,   0,   0,   0,   0,   0,   0,   0,   0],\n",
       "        [  0,   0,   0,   0,   0,   0,   0,   0,   0,   0,   0,   0,   0,   0,\n",
       "          45, 186, 253, 253, 150,  27,   0,   0,   0,   0,   0,   0,   0,   0],\n",
       "        [  0,   0,   0,   0,   0,   0,   0,   0,   0,   0,   0,   0,   0,   0,\n",
       "           0,  16,  93, 252, 253, 187,   0,   0,   0,   0,   0,   0,   0,   0],\n",
       "        [  0,   0,   0,   0,   0,   0,   0,   0,   0,   0,   0,   0,   0,   0,\n",
       "           0,   0,   0, 249, 253, 249,  64,   0,   0,   0,   0,   0,   0,   0],\n",
       "        [  0,   0,   0,   0,   0,   0,   0,   0,   0,   0,   0,   0,   0,   0,\n",
       "          46, 130, 183, 253, 253, 207,   2,   0,   0,   0,   0,   0,   0,   0],\n",
       "        [  0,   0,   0,   0,   0,   0,   0,   0,   0,   0,   0,   0,  39, 148,\n",
       "         229, 253, 253, 253, 250, 182,   0,   0,   0,   0,   0,   0,   0,   0],\n",
       "        [  0,   0,   0,   0,   0,   0,   0,   0,   0,   0,  24, 114, 221, 253,\n",
       "         253, 253, 253, 201,  78,   0,   0,   0,   0,   0,   0,   0,   0,   0],\n",
       "        [  0,   0,   0,   0,   0,   0,   0,   0,  23,  66, 213, 253, 253, 253,\n",
       "         253, 198,  81,   2,   0,   0,   0,   0,   0,   0,   0,   0,   0,   0],\n",
       "        [  0,   0,   0,   0,   0,   0,  18, 171, 219, 253, 253, 253, 253, 195,\n",
       "          80,   9,   0,   0,   0,   0,   0,   0,   0,   0,   0,   0,   0,   0],\n",
       "        [  0,   0,   0,   0,  55, 172, 226, 253, 253, 253, 253, 244, 133,  11,\n",
       "           0,   0,   0,   0,   0,   0,   0,   0,   0,   0,   0,   0,   0,   0],\n",
       "        [  0,   0,   0,   0, 136, 253, 253, 253, 212, 135, 132,  16,   0,   0,\n",
       "           0,   0,   0,   0,   0,   0,   0,   0,   0,   0,   0,   0,   0,   0],\n",
       "        [  0,   0,   0,   0,   0,   0,   0,   0,   0,   0,   0,   0,   0,   0,\n",
       "           0,   0,   0,   0,   0,   0,   0,   0,   0,   0,   0,   0,   0,   0],\n",
       "        [  0,   0,   0,   0,   0,   0,   0,   0,   0,   0,   0,   0,   0,   0,\n",
       "           0,   0,   0,   0,   0,   0,   0,   0,   0,   0,   0,   0,   0,   0],\n",
       "        [  0,   0,   0,   0,   0,   0,   0,   0,   0,   0,   0,   0,   0,   0,\n",
       "           0,   0,   0,   0,   0,   0,   0,   0,   0,   0,   0,   0,   0,   0]],\n",
       "       dtype=torch.uint8)"
      ]
     },
     "execution_count": 25,
     "metadata": {},
     "output_type": "execute_result"
    }
   ],
   "source": [
    "train_dataset.data[0]"
   ]
  },
  {
   "cell_type": "code",
   "execution_count": 27,
   "id": "8d426838",
   "metadata": {},
   "outputs": [],
   "source": [
    "train_loader = torch.utils.data.DataLoader(train_dataset)"
   ]
  },
  {
   "cell_type": "code",
   "execution_count": 28,
   "id": "ced440b0",
   "metadata": {},
   "outputs": [
    {
     "name": "stdout",
     "output_type": "stream",
     "text": [
      "torch.Size([1, 1, 28, 28]) torch.Size([1])\n"
     ]
    }
   ],
   "source": [
    "for (image, label) in train_loader:\n",
    "    print(image.shape, label.shape)\n",
    "    break"
   ]
  },
  {
   "cell_type": "code",
   "execution_count": null,
   "id": "4e287434",
   "metadata": {},
   "outputs": [],
   "source": []
  }
 ],
 "metadata": {
  "jupytext": {
   "formats": "ipynb,py:percent"
  },
  "kernelspec": {
   "display_name": "Python 3 (ipykernel)",
   "language": "python",
   "name": "python3"
  },
  "language_info": {
   "codemirror_mode": {
    "name": "ipython",
    "version": 3
   },
   "file_extension": ".py",
   "mimetype": "text/x-python",
   "name": "python",
   "nbconvert_exporter": "python",
   "pygments_lexer": "ipython3",
   "version": "3.8.5"
  }
 },
 "nbformat": 4,
 "nbformat_minor": 5
}
