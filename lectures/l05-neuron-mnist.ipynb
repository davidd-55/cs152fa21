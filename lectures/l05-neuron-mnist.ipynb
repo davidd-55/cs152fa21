{
 "cells": [
  {
   "cell_type": "markdown",
   "metadata": {},
   "source": [
    "# Batch Gradient Descent With a Single Neuron\n",
    "\n",
    "*Tue Sep 14, Week 3, Lecture 5*\n",
    "\n",
    "## Why Python and why Jupyter Notebooks?\n",
    "\n",
    "- Python is not an ideal langauge for this\n",
    "- Jupyter is not an ideal environment for htis\n",
    "- They are, however, in my opinion the **best** we have \n",
    "\n",
    "## Notes\n",
    "\n",
    "- In this example, I am not going to do fancy imports\n",
    "- I want you to see the layout of torch and torchvision"
   ]
  },
  {
   "cell_type": "code",
   "execution_count": 1,
   "metadata": {},
   "outputs": [],
   "source": [
    "import torch\n",
    "import torchvision\n",
    "import pandas as pd"
   ]
  },
  {
   "cell_type": "code",
   "execution_count": 2,
   "metadata": {},
   "outputs": [
    {
     "data": {
      "text/plain": [
       "tensor([0.3502, 0.7085, 0.0488, 0.9742, 0.4776])"
      ]
     },
     "execution_count": 2,
     "metadata": {},
     "output_type": "execute_result"
    }
   ],
   "source": [
    "torch.rand(5)"
   ]
  },
  {
   "cell_type": "code",
   "execution_count": 3,
   "metadata": {},
   "outputs": [
    {
     "data": {
      "text/plain": [
       "torch.Size([5])"
      ]
     },
     "execution_count": 3,
     "metadata": {},
     "output_type": "execute_result"
    }
   ],
   "source": [
    "torch.rand(5).shape"
   ]
  },
  {
   "cell_type": "code",
   "execution_count": null,
   "metadata": {
    "scrolled": true
   },
   "outputs": [],
   "source": [
    "torch.rand(5, 25)"
   ]
  },
  {
   "cell_type": "code",
   "execution_count": 5,
   "metadata": {},
   "outputs": [
    {
     "data": {
      "text/plain": [
       "torch.Size([5, 25])"
      ]
     },
     "execution_count": 5,
     "metadata": {},
     "output_type": "execute_result"
    }
   ],
   "source": [
    "torch.rand(5, 25).shape"
   ]
  },
  {
   "cell_type": "code",
   "execution_count": 6,
   "metadata": {},
   "outputs": [],
   "source": [
    "X = torch.rand(5, 12)\n",
    "Y = torch.rand(12, 16)"
   ]
  },
  {
   "cell_type": "code",
   "execution_count": 7,
   "metadata": {},
   "outputs": [
    {
     "data": {
      "text/plain": [
       "(torch.Size([5, 12]), torch.Size([12, 16]))"
      ]
     },
     "execution_count": 7,
     "metadata": {},
     "output_type": "execute_result"
    }
   ],
   "source": [
    "X.shape, Y.shape"
   ]
  },
  {
   "cell_type": "code",
   "execution_count": null,
   "metadata": {},
   "outputs": [],
   "source": [
    "X"
   ]
  },
  {
   "cell_type": "code",
   "execution_count": null,
   "metadata": {},
   "outputs": [],
   "source": [
    "X @ Y"
   ]
  },
  {
   "cell_type": "code",
   "execution_count": 10,
   "metadata": {},
   "outputs": [],
   "source": [
    "Z = X @ Y"
   ]
  },
  {
   "cell_type": "code",
   "execution_count": 11,
   "metadata": {},
   "outputs": [
    {
     "data": {
      "text/plain": [
       "(torch.Size([5, 12]), torch.Size([12, 16]))"
      ]
     },
     "execution_count": 11,
     "metadata": {},
     "output_type": "execute_result"
    }
   ],
   "source": [
    "X.shape, Y.shape"
   ]
  },
  {
   "cell_type": "code",
   "execution_count": 12,
   "metadata": {},
   "outputs": [
    {
     "data": {
      "text/plain": [
       "torch.Size([5, 16])"
      ]
     },
     "execution_count": 12,
     "metadata": {},
     "output_type": "execute_result"
    }
   ],
   "source": [
    "Z.shape"
   ]
  },
  {
   "cell_type": "code",
   "execution_count": 13,
   "metadata": {
    "scrolled": true
   },
   "outputs": [
    {
     "ename": "RuntimeError",
     "evalue": "mat1 and mat2 shapes cannot be multiplied (12x16 and 5x16)",
     "output_type": "error",
     "traceback": [
      "\u001b[0;31m---------------------------------------------------------------------------\u001b[0m",
      "\u001b[0;31mRuntimeError\u001b[0m                              Traceback (most recent call last)",
      "\u001b[0;32m/tmp/ipykernel_3490813/3521315727.py\u001b[0m in \u001b[0;36m<module>\u001b[0;34m\u001b[0m\n\u001b[0;32m----> 1\u001b[0;31m \u001b[0mY\u001b[0m \u001b[0;34m@\u001b[0m \u001b[0mZ\u001b[0m\u001b[0;34m\u001b[0m\u001b[0;34m\u001b[0m\u001b[0m\n\u001b[0m",
      "\u001b[0;31mRuntimeError\u001b[0m: mat1 and mat2 shapes cannot be multiplied (12x16 and 5x16)"
     ]
    }
   ],
   "source": [
    "Y @ Z"
   ]
  },
  {
   "cell_type": "code",
   "execution_count": null,
   "metadata": {},
   "outputs": [],
   "source": [
    "# MNIST : hello world\n",
    "# EMNIST : extended with letters in addition to digits\n",
    "# KMNIST : Kuzushiji, Japanese characters\n",
    "# QMNIST : newer MNIST with better source information\n",
    "\n",
    "data_path = \"../data/\"\n",
    "\n",
    "mnist_transforms = torchvision.transforms.Compose(\n",
    "    [\n",
    "        torchvision.transforms.ToTensor(),\n",
    "        torchvision.transforms.Normalize((0.1307,), (0.3081,)),\n",
    "    ]\n",
    ")\n",
    "\n",
    "train_dataset = torchvision.datasets.MNIST(\n",
    "    root=data_path, train=True, download=True, transform=mnist_transforms\n",
    ")"
   ]
  },
  {
   "cell_type": "code",
   "execution_count": 15,
   "metadata": {},
   "outputs": [],
   "source": [
    "# batch_size, shuffle\n",
    "train_loader = torch.utils.data.DataLoader(train_dataset)"
   ]
  },
  {
   "cell_type": "code",
   "execution_count": 16,
   "metadata": {},
   "outputs": [],
   "source": [
    "image, label = next(iter(train_loader))"
   ]
  },
  {
   "cell_type": "code",
   "execution_count": 17,
   "metadata": {},
   "outputs": [
    {
     "data": {
      "text/plain": [
       "torch.Size([1, 1, 28, 28])"
      ]
     },
     "execution_count": 17,
     "metadata": {},
     "output_type": "execute_result"
    }
   ],
   "source": [
    "image.shape"
   ]
  },
  {
   "cell_type": "code",
   "execution_count": 18,
   "metadata": {},
   "outputs": [
    {
     "data": {
      "text/plain": [
       "(torch.Size([1]), tensor([5]))"
      ]
     },
     "execution_count": 18,
     "metadata": {},
     "output_type": "execute_result"
    }
   ],
   "source": [
    "label.shape, label"
   ]
  },
  {
   "cell_type": "code",
   "execution_count": null,
   "metadata": {},
   "outputs": [],
   "source": [
    "image"
   ]
  },
  {
   "cell_type": "code",
   "execution_count": null,
   "metadata": {},
   "outputs": [],
   "source": [
    "mnist_avg, mnist_std = 0.130, 0.3081\n",
    "\n",
    "image = torch.as_tensor((image * mnist_std + mnist_avg) * 255, dtype=torch.uint8)\n",
    "image"
   ]
  },
  {
   "cell_type": "code",
   "execution_count": null,
   "metadata": {},
   "outputs": [],
   "source": [
    "image_df = pd.DataFrame(image.squeeze().numpy())\n",
    "image_df"
   ]
  },
  {
   "cell_type": "code",
   "execution_count": 22,
   "metadata": {},
   "outputs": [
    {
     "data": {
      "text/html": [
       "<style  type=\"text/css\" >\n",
       "#T_64312_row0_col0,#T_64312_row0_col1,#T_64312_row0_col2,#T_64312_row0_col3,#T_64312_row0_col4,#T_64312_row0_col5,#T_64312_row0_col6,#T_64312_row0_col7,#T_64312_row0_col8,#T_64312_row0_col9,#T_64312_row0_col10,#T_64312_row0_col11,#T_64312_row0_col12,#T_64312_row0_col13,#T_64312_row0_col14,#T_64312_row0_col15,#T_64312_row0_col16,#T_64312_row0_col17,#T_64312_row0_col18,#T_64312_row0_col19,#T_64312_row0_col20,#T_64312_row0_col21,#T_64312_row0_col22,#T_64312_row0_col23,#T_64312_row0_col24,#T_64312_row0_col25,#T_64312_row0_col26,#T_64312_row0_col27,#T_64312_row1_col0,#T_64312_row1_col1,#T_64312_row1_col2,#T_64312_row1_col3,#T_64312_row1_col4,#T_64312_row1_col5,#T_64312_row1_col6,#T_64312_row1_col7,#T_64312_row1_col8,#T_64312_row1_col9,#T_64312_row1_col10,#T_64312_row1_col11,#T_64312_row1_col12,#T_64312_row1_col13,#T_64312_row1_col14,#T_64312_row1_col15,#T_64312_row1_col16,#T_64312_row1_col17,#T_64312_row1_col18,#T_64312_row1_col19,#T_64312_row1_col20,#T_64312_row1_col21,#T_64312_row1_col22,#T_64312_row1_col23,#T_64312_row1_col24,#T_64312_row1_col25,#T_64312_row1_col26,#T_64312_row1_col27,#T_64312_row2_col0,#T_64312_row2_col1,#T_64312_row2_col2,#T_64312_row2_col3,#T_64312_row2_col4,#T_64312_row2_col5,#T_64312_row2_col6,#T_64312_row2_col7,#T_64312_row2_col8,#T_64312_row2_col9,#T_64312_row2_col10,#T_64312_row2_col11,#T_64312_row2_col12,#T_64312_row2_col13,#T_64312_row2_col14,#T_64312_row2_col15,#T_64312_row2_col16,#T_64312_row2_col17,#T_64312_row2_col18,#T_64312_row2_col19,#T_64312_row2_col20,#T_64312_row2_col21,#T_64312_row2_col22,#T_64312_row2_col23,#T_64312_row2_col24,#T_64312_row2_col25,#T_64312_row2_col26,#T_64312_row2_col27,#T_64312_row3_col0,#T_64312_row3_col1,#T_64312_row3_col2,#T_64312_row3_col3,#T_64312_row3_col4,#T_64312_row3_col5,#T_64312_row3_col6,#T_64312_row3_col7,#T_64312_row3_col8,#T_64312_row3_col9,#T_64312_row3_col10,#T_64312_row3_col11,#T_64312_row3_col12,#T_64312_row3_col13,#T_64312_row3_col14,#T_64312_row3_col15,#T_64312_row3_col16,#T_64312_row3_col17,#T_64312_row3_col18,#T_64312_row3_col19,#T_64312_row3_col20,#T_64312_row3_col21,#T_64312_row3_col22,#T_64312_row3_col23,#T_64312_row3_col24,#T_64312_row3_col25,#T_64312_row3_col26,#T_64312_row3_col27,#T_64312_row4_col0,#T_64312_row4_col1,#T_64312_row4_col2,#T_64312_row4_col3,#T_64312_row4_col4,#T_64312_row4_col5,#T_64312_row4_col6,#T_64312_row4_col7,#T_64312_row4_col8,#T_64312_row4_col9,#T_64312_row4_col10,#T_64312_row4_col11,#T_64312_row4_col12,#T_64312_row4_col13,#T_64312_row4_col14,#T_64312_row4_col15,#T_64312_row4_col16,#T_64312_row4_col17,#T_64312_row4_col18,#T_64312_row4_col19,#T_64312_row4_col20,#T_64312_row4_col21,#T_64312_row4_col22,#T_64312_row4_col23,#T_64312_row4_col24,#T_64312_row4_col25,#T_64312_row4_col26,#T_64312_row4_col27,#T_64312_row5_col0,#T_64312_row5_col1,#T_64312_row5_col2,#T_64312_row5_col3,#T_64312_row5_col4,#T_64312_row5_col5,#T_64312_row5_col6,#T_64312_row5_col7,#T_64312_row5_col8,#T_64312_row5_col9,#T_64312_row5_col10,#T_64312_row5_col11,#T_64312_row5_col24,#T_64312_row5_col25,#T_64312_row5_col26,#T_64312_row5_col27,#T_64312_row6_col0,#T_64312_row6_col1,#T_64312_row6_col2,#T_64312_row6_col3,#T_64312_row6_col4,#T_64312_row6_col5,#T_64312_row6_col6,#T_64312_row6_col7,#T_64312_row6_col24,#T_64312_row6_col25,#T_64312_row6_col26,#T_64312_row6_col27,#T_64312_row7_col0,#T_64312_row7_col1,#T_64312_row7_col2,#T_64312_row7_col3,#T_64312_row7_col4,#T_64312_row7_col5,#T_64312_row7_col6,#T_64312_row7_col23,#T_64312_row7_col24,#T_64312_row7_col25,#T_64312_row7_col26,#T_64312_row7_col27,#T_64312_row8_col0,#T_64312_row8_col1,#T_64312_row8_col2,#T_64312_row8_col3,#T_64312_row8_col4,#T_64312_row8_col5,#T_64312_row8_col6,#T_64312_row8_col18,#T_64312_row8_col19,#T_64312_row8_col20,#T_64312_row8_col21,#T_64312_row8_col22,#T_64312_row8_col23,#T_64312_row8_col24,#T_64312_row8_col25,#T_64312_row8_col26,#T_64312_row8_col27,#T_64312_row9_col0,#T_64312_row9_col1,#T_64312_row9_col2,#T_64312_row9_col3,#T_64312_row9_col4,#T_64312_row9_col5,#T_64312_row9_col6,#T_64312_row9_col7,#T_64312_row9_col15,#T_64312_row9_col18,#T_64312_row9_col19,#T_64312_row9_col20,#T_64312_row9_col21,#T_64312_row9_col22,#T_64312_row9_col23,#T_64312_row9_col24,#T_64312_row9_col25,#T_64312_row9_col26,#T_64312_row9_col27,#T_64312_row10_col0,#T_64312_row10_col1,#T_64312_row10_col2,#T_64312_row10_col3,#T_64312_row10_col4,#T_64312_row10_col5,#T_64312_row10_col6,#T_64312_row10_col7,#T_64312_row10_col8,#T_64312_row10_col10,#T_64312_row10_col14,#T_64312_row10_col15,#T_64312_row10_col16,#T_64312_row10_col17,#T_64312_row10_col18,#T_64312_row10_col19,#T_64312_row10_col20,#T_64312_row10_col21,#T_64312_row10_col22,#T_64312_row10_col23,#T_64312_row10_col24,#T_64312_row10_col25,#T_64312_row10_col26,#T_64312_row10_col27,#T_64312_row11_col0,#T_64312_row11_col1,#T_64312_row11_col2,#T_64312_row11_col3,#T_64312_row11_col4,#T_64312_row11_col5,#T_64312_row11_col6,#T_64312_row11_col7,#T_64312_row11_col8,#T_64312_row11_col9,#T_64312_row11_col10,#T_64312_row11_col14,#T_64312_row11_col15,#T_64312_row11_col16,#T_64312_row11_col17,#T_64312_row11_col18,#T_64312_row11_col19,#T_64312_row11_col20,#T_64312_row11_col21,#T_64312_row11_col22,#T_64312_row11_col23,#T_64312_row11_col24,#T_64312_row11_col25,#T_64312_row11_col26,#T_64312_row11_col27,#T_64312_row12_col0,#T_64312_row12_col1,#T_64312_row12_col2,#T_64312_row12_col3,#T_64312_row12_col4,#T_64312_row12_col5,#T_64312_row12_col6,#T_64312_row12_col7,#T_64312_row12_col8,#T_64312_row12_col9,#T_64312_row12_col10,#T_64312_row12_col15,#T_64312_row12_col16,#T_64312_row12_col17,#T_64312_row12_col18,#T_64312_row12_col19,#T_64312_row12_col20,#T_64312_row12_col21,#T_64312_row12_col22,#T_64312_row12_col23,#T_64312_row12_col24,#T_64312_row12_col25,#T_64312_row12_col26,#T_64312_row12_col27,#T_64312_row13_col0,#T_64312_row13_col1,#T_64312_row13_col2,#T_64312_row13_col3,#T_64312_row13_col4,#T_64312_row13_col5,#T_64312_row13_col6,#T_64312_row13_col7,#T_64312_row13_col8,#T_64312_row13_col9,#T_64312_row13_col10,#T_64312_row13_col11,#T_64312_row13_col17,#T_64312_row13_col18,#T_64312_row13_col19,#T_64312_row13_col20,#T_64312_row13_col21,#T_64312_row13_col22,#T_64312_row13_col23,#T_64312_row13_col24,#T_64312_row13_col25,#T_64312_row13_col26,#T_64312_row13_col27,#T_64312_row14_col0,#T_64312_row14_col1,#T_64312_row14_col2,#T_64312_row14_col3,#T_64312_row14_col4,#T_64312_row14_col5,#T_64312_row14_col6,#T_64312_row14_col7,#T_64312_row14_col8,#T_64312_row14_col9,#T_64312_row14_col10,#T_64312_row14_col11,#T_64312_row14_col12,#T_64312_row14_col19,#T_64312_row14_col20,#T_64312_row14_col21,#T_64312_row14_col22,#T_64312_row14_col23,#T_64312_row14_col24,#T_64312_row14_col25,#T_64312_row14_col26,#T_64312_row14_col27,#T_64312_row15_col0,#T_64312_row15_col1,#T_64312_row15_col2,#T_64312_row15_col3,#T_64312_row15_col4,#T_64312_row15_col5,#T_64312_row15_col6,#T_64312_row15_col7,#T_64312_row15_col8,#T_64312_row15_col9,#T_64312_row15_col10,#T_64312_row15_col11,#T_64312_row15_col12,#T_64312_row15_col13,#T_64312_row15_col20,#T_64312_row15_col21,#T_64312_row15_col22,#T_64312_row15_col23,#T_64312_row15_col24,#T_64312_row15_col25,#T_64312_row15_col26,#T_64312_row15_col27,#T_64312_row16_col0,#T_64312_row16_col1,#T_64312_row16_col2,#T_64312_row16_col3,#T_64312_row16_col4,#T_64312_row16_col5,#T_64312_row16_col6,#T_64312_row16_col7,#T_64312_row16_col8,#T_64312_row16_col9,#T_64312_row16_col10,#T_64312_row16_col11,#T_64312_row16_col12,#T_64312_row16_col13,#T_64312_row16_col14,#T_64312_row16_col20,#T_64312_row16_col21,#T_64312_row16_col22,#T_64312_row16_col23,#T_64312_row16_col24,#T_64312_row16_col25,#T_64312_row16_col26,#T_64312_row16_col27,#T_64312_row17_col0,#T_64312_row17_col1,#T_64312_row17_col2,#T_64312_row17_col3,#T_64312_row17_col4,#T_64312_row17_col5,#T_64312_row17_col6,#T_64312_row17_col7,#T_64312_row17_col8,#T_64312_row17_col9,#T_64312_row17_col10,#T_64312_row17_col11,#T_64312_row17_col12,#T_64312_row17_col13,#T_64312_row17_col14,#T_64312_row17_col15,#T_64312_row17_col16,#T_64312_row17_col21,#T_64312_row17_col22,#T_64312_row17_col23,#T_64312_row17_col24,#T_64312_row17_col25,#T_64312_row17_col26,#T_64312_row17_col27,#T_64312_row18_col0,#T_64312_row18_col1,#T_64312_row18_col2,#T_64312_row18_col3,#T_64312_row18_col4,#T_64312_row18_col5,#T_64312_row18_col6,#T_64312_row18_col7,#T_64312_row18_col8,#T_64312_row18_col9,#T_64312_row18_col10,#T_64312_row18_col11,#T_64312_row18_col12,#T_64312_row18_col13,#T_64312_row18_col20,#T_64312_row18_col21,#T_64312_row18_col22,#T_64312_row18_col23,#T_64312_row18_col24,#T_64312_row18_col25,#T_64312_row18_col26,#T_64312_row18_col27,#T_64312_row19_col0,#T_64312_row19_col1,#T_64312_row19_col2,#T_64312_row19_col3,#T_64312_row19_col4,#T_64312_row19_col5,#T_64312_row19_col6,#T_64312_row19_col7,#T_64312_row19_col8,#T_64312_row19_col9,#T_64312_row19_col10,#T_64312_row19_col11,#T_64312_row19_col20,#T_64312_row19_col21,#T_64312_row19_col22,#T_64312_row19_col23,#T_64312_row19_col24,#T_64312_row19_col25,#T_64312_row19_col26,#T_64312_row19_col27,#T_64312_row20_col0,#T_64312_row20_col1,#T_64312_row20_col2,#T_64312_row20_col3,#T_64312_row20_col4,#T_64312_row20_col5,#T_64312_row20_col6,#T_64312_row20_col7,#T_64312_row20_col8,#T_64312_row20_col9,#T_64312_row20_col19,#T_64312_row20_col20,#T_64312_row20_col21,#T_64312_row20_col22,#T_64312_row20_col23,#T_64312_row20_col24,#T_64312_row20_col25,#T_64312_row20_col26,#T_64312_row20_col27,#T_64312_row21_col0,#T_64312_row21_col1,#T_64312_row21_col2,#T_64312_row21_col3,#T_64312_row21_col4,#T_64312_row21_col5,#T_64312_row21_col6,#T_64312_row21_col7,#T_64312_row21_col17,#T_64312_row21_col18,#T_64312_row21_col19,#T_64312_row21_col20,#T_64312_row21_col21,#T_64312_row21_col22,#T_64312_row21_col23,#T_64312_row21_col24,#T_64312_row21_col25,#T_64312_row21_col26,#T_64312_row21_col27,#T_64312_row22_col0,#T_64312_row22_col1,#T_64312_row22_col2,#T_64312_row22_col3,#T_64312_row22_col4,#T_64312_row22_col5,#T_64312_row22_col16,#T_64312_row22_col17,#T_64312_row22_col18,#T_64312_row22_col19,#T_64312_row22_col20,#T_64312_row22_col21,#T_64312_row22_col22,#T_64312_row22_col23,#T_64312_row22_col24,#T_64312_row22_col25,#T_64312_row22_col26,#T_64312_row22_col27,#T_64312_row23_col0,#T_64312_row23_col1,#T_64312_row23_col2,#T_64312_row23_col3,#T_64312_row23_col14,#T_64312_row23_col15,#T_64312_row23_col16,#T_64312_row23_col17,#T_64312_row23_col18,#T_64312_row23_col19,#T_64312_row23_col20,#T_64312_row23_col21,#T_64312_row23_col22,#T_64312_row23_col23,#T_64312_row23_col24,#T_64312_row23_col25,#T_64312_row23_col26,#T_64312_row23_col27,#T_64312_row24_col0,#T_64312_row24_col1,#T_64312_row24_col2,#T_64312_row24_col3,#T_64312_row24_col12,#T_64312_row24_col13,#T_64312_row24_col14,#T_64312_row24_col15,#T_64312_row24_col16,#T_64312_row24_col17,#T_64312_row24_col18,#T_64312_row24_col19,#T_64312_row24_col20,#T_64312_row24_col21,#T_64312_row24_col22,#T_64312_row24_col23,#T_64312_row24_col24,#T_64312_row24_col25,#T_64312_row24_col26,#T_64312_row24_col27,#T_64312_row25_col0,#T_64312_row25_col1,#T_64312_row25_col2,#T_64312_row25_col3,#T_64312_row25_col4,#T_64312_row25_col5,#T_64312_row25_col6,#T_64312_row25_col7,#T_64312_row25_col8,#T_64312_row25_col9,#T_64312_row25_col10,#T_64312_row25_col11,#T_64312_row25_col12,#T_64312_row25_col13,#T_64312_row25_col14,#T_64312_row25_col15,#T_64312_row25_col16,#T_64312_row25_col17,#T_64312_row25_col18,#T_64312_row25_col19,#T_64312_row25_col20,#T_64312_row25_col21,#T_64312_row25_col22,#T_64312_row25_col23,#T_64312_row25_col24,#T_64312_row25_col25,#T_64312_row25_col26,#T_64312_row25_col27,#T_64312_row26_col0,#T_64312_row26_col1,#T_64312_row26_col2,#T_64312_row26_col3,#T_64312_row26_col4,#T_64312_row26_col5,#T_64312_row26_col6,#T_64312_row26_col7,#T_64312_row26_col8,#T_64312_row26_col9,#T_64312_row26_col10,#T_64312_row26_col11,#T_64312_row26_col12,#T_64312_row26_col13,#T_64312_row26_col14,#T_64312_row26_col15,#T_64312_row26_col16,#T_64312_row26_col17,#T_64312_row26_col18,#T_64312_row26_col19,#T_64312_row26_col20,#T_64312_row26_col21,#T_64312_row26_col22,#T_64312_row26_col23,#T_64312_row26_col24,#T_64312_row26_col25,#T_64312_row26_col26,#T_64312_row26_col27,#T_64312_row27_col0,#T_64312_row27_col1,#T_64312_row27_col2,#T_64312_row27_col3,#T_64312_row27_col4,#T_64312_row27_col5,#T_64312_row27_col6,#T_64312_row27_col7,#T_64312_row27_col8,#T_64312_row27_col9,#T_64312_row27_col10,#T_64312_row27_col11,#T_64312_row27_col12,#T_64312_row27_col13,#T_64312_row27_col14,#T_64312_row27_col15,#T_64312_row27_col16,#T_64312_row27_col17,#T_64312_row27_col18,#T_64312_row27_col19,#T_64312_row27_col20,#T_64312_row27_col21,#T_64312_row27_col22,#T_64312_row27_col23,#T_64312_row27_col24,#T_64312_row27_col25,#T_64312_row27_col26,#T_64312_row27_col27{\n",
       "            font-size:  6pt;\n",
       "            background-color:  #ffffff;\n",
       "            color:  #000000;\n",
       "        }#T_64312_row5_col12{\n",
       "            font-size:  6pt;\n",
       "            background-color:  #fefefe;\n",
       "            color:  #000000;\n",
       "        }#T_64312_row5_col13,#T_64312_row5_col14,#T_64312_row5_col15,#T_64312_row8_col7,#T_64312_row22_col6{\n",
       "            font-size:  6pt;\n",
       "            background-color:  #f7f7f7;\n",
       "            color:  #000000;\n",
       "        }#T_64312_row5_col16{\n",
       "            font-size:  6pt;\n",
       "            background-color:  #989898;\n",
       "            color:  #000000;\n",
       "        }#T_64312_row5_col17{\n",
       "            font-size:  6pt;\n",
       "            background-color:  #8c8c8c;\n",
       "            color:  #000000;\n",
       "        }#T_64312_row5_col18,#T_64312_row6_col19{\n",
       "            font-size:  6pt;\n",
       "            background-color:  #626262;\n",
       "            color:  #f1f1f1;\n",
       "        }#T_64312_row5_col19,#T_64312_row15_col19{\n",
       "            font-size:  6pt;\n",
       "            background-color:  #f3f3f3;\n",
       "            color:  #000000;\n",
       "        }#T_64312_row5_col20{\n",
       "            font-size:  6pt;\n",
       "            background-color:  #6b6b6b;\n",
       "            color:  #000000;\n",
       "        }#T_64312_row5_col21,#T_64312_row5_col22,#T_64312_row5_col23,#T_64312_row6_col13,#T_64312_row6_col14,#T_64312_row6_col15,#T_64312_row6_col16,#T_64312_row6_col17,#T_64312_row6_col20,#T_64312_row7_col9,#T_64312_row7_col10,#T_64312_row7_col11,#T_64312_row7_col12,#T_64312_row7_col13,#T_64312_row7_col14,#T_64312_row7_col15,#T_64312_row7_col16,#T_64312_row8_col9,#T_64312_row8_col10,#T_64312_row8_col11,#T_64312_row8_col12,#T_64312_row8_col13,#T_64312_row9_col11,#T_64312_row9_col12,#T_64312_row10_col12,#T_64312_row11_col12,#T_64312_row12_col13,#T_64312_row14_col15,#T_64312_row14_col16,#T_64312_row15_col16,#T_64312_row15_col17,#T_64312_row16_col18,#T_64312_row17_col18,#T_64312_row17_col19,#T_64312_row18_col17,#T_64312_row18_col18,#T_64312_row19_col15,#T_64312_row19_col16,#T_64312_row19_col17,#T_64312_row20_col13,#T_64312_row20_col14,#T_64312_row20_col15,#T_64312_row20_col16,#T_64312_row21_col11,#T_64312_row21_col12,#T_64312_row21_col13,#T_64312_row21_col14,#T_64312_row22_col9,#T_64312_row22_col10,#T_64312_row22_col11,#T_64312_row22_col12,#T_64312_row23_col7,#T_64312_row23_col8,#T_64312_row23_col9,#T_64312_row23_col10,#T_64312_row24_col4,#T_64312_row24_col5,#T_64312_row24_col6,#T_64312_row24_col7{\n",
       "            font-size:  6pt;\n",
       "            background-color:  #000000;\n",
       "            color:  #f1f1f1;\n",
       "        }#T_64312_row6_col8{\n",
       "            font-size:  6pt;\n",
       "            background-color:  #f1f1f1;\n",
       "            color:  #000000;\n",
       "        }#T_64312_row6_col9,#T_64312_row13_col12{\n",
       "            font-size:  6pt;\n",
       "            background-color:  #eeeeee;\n",
       "            color:  #000000;\n",
       "        }#T_64312_row6_col10{\n",
       "            font-size:  6pt;\n",
       "            background-color:  #bebebe;\n",
       "            color:  #000000;\n",
       "        }#T_64312_row6_col11,#T_64312_row9_col17,#T_64312_row10_col11{\n",
       "            font-size:  6pt;\n",
       "            background-color:  #787878;\n",
       "            color:  #000000;\n",
       "        }#T_64312_row6_col12{\n",
       "            font-size:  6pt;\n",
       "            background-color:  #676767;\n",
       "            color:  #f1f1f1;\n",
       "        }#T_64312_row6_col18,#T_64312_row13_col14{\n",
       "            font-size:  6pt;\n",
       "            background-color:  #212121;\n",
       "            color:  #f1f1f1;\n",
       "        }#T_64312_row6_col21,#T_64312_row14_col14{\n",
       "            font-size:  6pt;\n",
       "            background-color:  #0f0f0f;\n",
       "            color:  #f1f1f1;\n",
       "        }#T_64312_row6_col22{\n",
       "            font-size:  6pt;\n",
       "            background-color:  #444444;\n",
       "            color:  #f1f1f1;\n",
       "        }#T_64312_row6_col23{\n",
       "            font-size:  6pt;\n",
       "            background-color:  #959595;\n",
       "            color:  #000000;\n",
       "        }#T_64312_row7_col7{\n",
       "            font-size:  6pt;\n",
       "            background-color:  #e4e4e4;\n",
       "            color:  #000000;\n",
       "        }#T_64312_row7_col8{\n",
       "            font-size:  6pt;\n",
       "            background-color:  #111111;\n",
       "            color:  #f1f1f1;\n",
       "        }#T_64312_row7_col17{\n",
       "            font-size:  6pt;\n",
       "            background-color:  #020202;\n",
       "            color:  #f1f1f1;\n",
       "        }#T_64312_row7_col18,#T_64312_row16_col16{\n",
       "            font-size:  6pt;\n",
       "            background-color:  #bfbfbf;\n",
       "            color:  #000000;\n",
       "        }#T_64312_row7_col19{\n",
       "            font-size:  6pt;\n",
       "            background-color:  #c8c8c8;\n",
       "            color:  #000000;\n",
       "        }#T_64312_row7_col20{\n",
       "            font-size:  6pt;\n",
       "            background-color:  #c9c9c9;\n",
       "            color:  #000000;\n",
       "        }#T_64312_row7_col21{\n",
       "            font-size:  6pt;\n",
       "            background-color:  #dfdfdf;\n",
       "            color:  #000000;\n",
       "        }#T_64312_row7_col22{\n",
       "            font-size:  6pt;\n",
       "            background-color:  #ebebeb;\n",
       "            color:  #000000;\n",
       "        }#T_64312_row8_col8,#T_64312_row22_col8{\n",
       "            font-size:  6pt;\n",
       "            background-color:  #282828;\n",
       "            color:  #f1f1f1;\n",
       "        }#T_64312_row8_col14,#T_64312_row21_col15{\n",
       "            font-size:  6pt;\n",
       "            background-color:  #464646;\n",
       "            color:  #f1f1f1;\n",
       "        }#T_64312_row8_col15{\n",
       "            font-size:  6pt;\n",
       "            background-color:  #5b5b5b;\n",
       "            color:  #f1f1f1;\n",
       "        }#T_64312_row8_col16{\n",
       "            font-size:  6pt;\n",
       "            background-color:  #070707;\n",
       "            color:  #f1f1f1;\n",
       "        }#T_64312_row8_col17,#T_64312_row13_col13{\n",
       "            font-size:  6pt;\n",
       "            background-color:  #0e0e0e;\n",
       "            color:  #f1f1f1;\n",
       "        }#T_64312_row9_col8,#T_64312_row22_col14{\n",
       "            font-size:  6pt;\n",
       "            background-color:  #cbcbcb;\n",
       "            color:  #000000;\n",
       "        }#T_64312_row9_col9{\n",
       "            font-size:  6pt;\n",
       "            background-color:  #767676;\n",
       "            color:  #000000;\n",
       "        }#T_64312_row9_col10{\n",
       "            font-size:  6pt;\n",
       "            background-color:  #afafaf;\n",
       "            color:  #000000;\n",
       "        }#T_64312_row9_col13{\n",
       "            font-size:  6pt;\n",
       "            background-color:  #3c3c3c;\n",
       "            color:  #f1f1f1;\n",
       "        }#T_64312_row9_col14,#T_64312_row12_col11,#T_64312_row23_col13{\n",
       "            font-size:  6pt;\n",
       "            background-color:  #fafafa;\n",
       "            color:  #000000;\n",
       "        }#T_64312_row9_col16{\n",
       "            font-size:  6pt;\n",
       "            background-color:  #e9e9e9;\n",
       "            color:  #000000;\n",
       "        }#T_64312_row10_col9{\n",
       "            font-size:  6pt;\n",
       "            background-color:  #f9f9f9;\n",
       "            color:  #000000;\n",
       "        }#T_64312_row10_col13{\n",
       "            font-size:  6pt;\n",
       "            background-color:  #c2c2c2;\n",
       "            color:  #000000;\n",
       "        }#T_64312_row11_col11{\n",
       "            font-size:  6pt;\n",
       "            background-color:  #888888;\n",
       "            color:  #000000;\n",
       "        }#T_64312_row11_col13,#T_64312_row12_col12,#T_64312_row16_col19{\n",
       "            font-size:  6pt;\n",
       "            background-color:  #515151;\n",
       "            color:  #f1f1f1;\n",
       "        }#T_64312_row12_col14{\n",
       "            font-size:  6pt;\n",
       "            background-color:  #d4d4d4;\n",
       "            color:  #000000;\n",
       "        }#T_64312_row13_col15{\n",
       "            font-size:  6pt;\n",
       "            background-color:  #717171;\n",
       "            color:  #000000;\n",
       "        }#T_64312_row13_col16{\n",
       "            font-size:  6pt;\n",
       "            background-color:  #aeaeae;\n",
       "            color:  #000000;\n",
       "        }#T_64312_row14_col13,#T_64312_row21_col16{\n",
       "            font-size:  6pt;\n",
       "            background-color:  #cacaca;\n",
       "            color:  #000000;\n",
       "        }#T_64312_row14_col17{\n",
       "            font-size:  6pt;\n",
       "            background-color:  #a0a0a0;\n",
       "            color:  #000000;\n",
       "        }#T_64312_row14_col18,#T_64312_row20_col10{\n",
       "            font-size:  6pt;\n",
       "            background-color:  #f4f4f4;\n",
       "            color:  #000000;\n",
       "        }#T_64312_row15_col14,#T_64312_row18_col14{\n",
       "            font-size:  6pt;\n",
       "            background-color:  #e7e7e7;\n",
       "            color:  #000000;\n",
       "        }#T_64312_row15_col15{\n",
       "            font-size:  6pt;\n",
       "            background-color:  #565656;\n",
       "            color:  #f1f1f1;\n",
       "        }#T_64312_row15_col18{\n",
       "            font-size:  6pt;\n",
       "            background-color:  #7c7c7c;\n",
       "            color:  #000000;\n",
       "        }#T_64312_row16_col15,#T_64312_row24_col11{\n",
       "            font-size:  6pt;\n",
       "            background-color:  #f8f8f8;\n",
       "            color:  #000000;\n",
       "        }#T_64312_row16_col17{\n",
       "            font-size:  6pt;\n",
       "            background-color:  #010101;\n",
       "            color:  #f1f1f1;\n",
       "        }#T_64312_row17_col17{\n",
       "            font-size:  6pt;\n",
       "            background-color:  #050505;\n",
       "            color:  #f1f1f1;\n",
       "        }#T_64312_row17_col20{\n",
       "            font-size:  6pt;\n",
       "            background-color:  #d9d9d9;\n",
       "            color:  #000000;\n",
       "        }#T_64312_row18_col15{\n",
       "            font-size:  6pt;\n",
       "            background-color:  #929292;\n",
       "            color:  #000000;\n",
       "        }#T_64312_row18_col16{\n",
       "            font-size:  6pt;\n",
       "            background-color:  #5a5a5a;\n",
       "            color:  #f1f1f1;\n",
       "        }#T_64312_row18_col19{\n",
       "            font-size:  6pt;\n",
       "            background-color:  #353535;\n",
       "            color:  #f1f1f1;\n",
       "        }#T_64312_row19_col12{\n",
       "            font-size:  6pt;\n",
       "            background-color:  #ececec;\n",
       "            color:  #000000;\n",
       "        }#T_64312_row19_col13{\n",
       "            font-size:  6pt;\n",
       "            background-color:  #7e7e7e;\n",
       "            color:  #000000;\n",
       "        }#T_64312_row19_col14{\n",
       "            font-size:  6pt;\n",
       "            background-color:  #1c1c1c;\n",
       "            color:  #f1f1f1;\n",
       "        }#T_64312_row19_col18{\n",
       "            font-size:  6pt;\n",
       "            background-color:  #030303;\n",
       "            color:  #f1f1f1;\n",
       "        }#T_64312_row19_col19{\n",
       "            font-size:  6pt;\n",
       "            background-color:  #575757;\n",
       "            color:  #f1f1f1;\n",
       "        }#T_64312_row20_col11{\n",
       "            font-size:  6pt;\n",
       "            background-color:  #a7a7a7;\n",
       "            color:  #000000;\n",
       "        }#T_64312_row20_col12{\n",
       "            font-size:  6pt;\n",
       "            background-color:  #252525;\n",
       "            color:  #f1f1f1;\n",
       "        }#T_64312_row20_col17{\n",
       "            font-size:  6pt;\n",
       "            background-color:  #414141;\n",
       "            color:  #f1f1f1;\n",
       "        }#T_64312_row20_col18{\n",
       "            font-size:  6pt;\n",
       "            background-color:  #cccccc;\n",
       "            color:  #000000;\n",
       "        }#T_64312_row21_col8{\n",
       "            font-size:  6pt;\n",
       "            background-color:  #f5f5f5;\n",
       "            color:  #000000;\n",
       "        }#T_64312_row21_col9{\n",
       "            font-size:  6pt;\n",
       "            background-color:  #d7d7d7;\n",
       "            color:  #000000;\n",
       "        }#T_64312_row21_col10{\n",
       "            font-size:  6pt;\n",
       "            background-color:  #303030;\n",
       "            color:  #f1f1f1;\n",
       "        }#T_64312_row22_col7{\n",
       "            font-size:  6pt;\n",
       "            background-color:  #666666;\n",
       "            color:  #f1f1f1;\n",
       "        }#T_64312_row22_col13{\n",
       "            font-size:  6pt;\n",
       "            background-color:  #4a4a4a;\n",
       "            color:  #f1f1f1;\n",
       "        }#T_64312_row22_col15{\n",
       "            font-size:  6pt;\n",
       "            background-color:  #fbfbfb;\n",
       "            color:  #000000;\n",
       "        }#T_64312_row23_col4{\n",
       "            font-size:  6pt;\n",
       "            background-color:  #b5b5b5;\n",
       "            color:  #000000;\n",
       "        }#T_64312_row23_col5{\n",
       "            font-size:  6pt;\n",
       "            background-color:  #656565;\n",
       "            color:  #f1f1f1;\n",
       "        }#T_64312_row23_col6{\n",
       "            font-size:  6pt;\n",
       "            background-color:  #1f1f1f;\n",
       "            color:  #f1f1f1;\n",
       "        }#T_64312_row23_col11{\n",
       "            font-size:  6pt;\n",
       "            background-color:  #0a0a0a;\n",
       "            color:  #f1f1f1;\n",
       "        }#T_64312_row23_col12{\n",
       "            font-size:  6pt;\n",
       "            background-color:  #8f8f8f;\n",
       "            color:  #000000;\n",
       "        }#T_64312_row24_col8{\n",
       "            font-size:  6pt;\n",
       "            background-color:  #323232;\n",
       "            color:  #f1f1f1;\n",
       "        }#T_64312_row24_col9{\n",
       "            font-size:  6pt;\n",
       "            background-color:  #8d8d8d;\n",
       "            color:  #000000;\n",
       "        }#T_64312_row24_col10{\n",
       "            font-size:  6pt;\n",
       "            background-color:  #909090;\n",
       "            color:  #000000;\n",
       "        }</style><table id=\"T_64312_\" ><thead>    <tr>        <th class=\"blank level0\" ></th>        <th class=\"col_heading level0 col0\" >0</th>        <th class=\"col_heading level0 col1\" >1</th>        <th class=\"col_heading level0 col2\" >2</th>        <th class=\"col_heading level0 col3\" >3</th>        <th class=\"col_heading level0 col4\" >4</th>        <th class=\"col_heading level0 col5\" >5</th>        <th class=\"col_heading level0 col6\" >6</th>        <th class=\"col_heading level0 col7\" >7</th>        <th class=\"col_heading level0 col8\" >8</th>        <th class=\"col_heading level0 col9\" >9</th>        <th class=\"col_heading level0 col10\" >10</th>        <th class=\"col_heading level0 col11\" >11</th>        <th class=\"col_heading level0 col12\" >12</th>        <th class=\"col_heading level0 col13\" >13</th>        <th class=\"col_heading level0 col14\" >14</th>        <th class=\"col_heading level0 col15\" >15</th>        <th class=\"col_heading level0 col16\" >16</th>        <th class=\"col_heading level0 col17\" >17</th>        <th class=\"col_heading level0 col18\" >18</th>        <th class=\"col_heading level0 col19\" >19</th>        <th class=\"col_heading level0 col20\" >20</th>        <th class=\"col_heading level0 col21\" >21</th>        <th class=\"col_heading level0 col22\" >22</th>        <th class=\"col_heading level0 col23\" >23</th>        <th class=\"col_heading level0 col24\" >24</th>        <th class=\"col_heading level0 col25\" >25</th>        <th class=\"col_heading level0 col26\" >26</th>        <th class=\"col_heading level0 col27\" >27</th>    </tr></thead><tbody>\n",
       "                <tr>\n",
       "                        <th id=\"T_64312_level0_row0\" class=\"row_heading level0 row0\" >0</th>\n",
       "                        <td id=\"T_64312_row0_col0\" class=\"data row0 col0\" >0</td>\n",
       "                        <td id=\"T_64312_row0_col1\" class=\"data row0 col1\" >0</td>\n",
       "                        <td id=\"T_64312_row0_col2\" class=\"data row0 col2\" >0</td>\n",
       "                        <td id=\"T_64312_row0_col3\" class=\"data row0 col3\" >0</td>\n",
       "                        <td id=\"T_64312_row0_col4\" class=\"data row0 col4\" >0</td>\n",
       "                        <td id=\"T_64312_row0_col5\" class=\"data row0 col5\" >0</td>\n",
       "                        <td id=\"T_64312_row0_col6\" class=\"data row0 col6\" >0</td>\n",
       "                        <td id=\"T_64312_row0_col7\" class=\"data row0 col7\" >0</td>\n",
       "                        <td id=\"T_64312_row0_col8\" class=\"data row0 col8\" >0</td>\n",
       "                        <td id=\"T_64312_row0_col9\" class=\"data row0 col9\" >0</td>\n",
       "                        <td id=\"T_64312_row0_col10\" class=\"data row0 col10\" >0</td>\n",
       "                        <td id=\"T_64312_row0_col11\" class=\"data row0 col11\" >0</td>\n",
       "                        <td id=\"T_64312_row0_col12\" class=\"data row0 col12\" >0</td>\n",
       "                        <td id=\"T_64312_row0_col13\" class=\"data row0 col13\" >0</td>\n",
       "                        <td id=\"T_64312_row0_col14\" class=\"data row0 col14\" >0</td>\n",
       "                        <td id=\"T_64312_row0_col15\" class=\"data row0 col15\" >0</td>\n",
       "                        <td id=\"T_64312_row0_col16\" class=\"data row0 col16\" >0</td>\n",
       "                        <td id=\"T_64312_row0_col17\" class=\"data row0 col17\" >0</td>\n",
       "                        <td id=\"T_64312_row0_col18\" class=\"data row0 col18\" >0</td>\n",
       "                        <td id=\"T_64312_row0_col19\" class=\"data row0 col19\" >0</td>\n",
       "                        <td id=\"T_64312_row0_col20\" class=\"data row0 col20\" >0</td>\n",
       "                        <td id=\"T_64312_row0_col21\" class=\"data row0 col21\" >0</td>\n",
       "                        <td id=\"T_64312_row0_col22\" class=\"data row0 col22\" >0</td>\n",
       "                        <td id=\"T_64312_row0_col23\" class=\"data row0 col23\" >0</td>\n",
       "                        <td id=\"T_64312_row0_col24\" class=\"data row0 col24\" >0</td>\n",
       "                        <td id=\"T_64312_row0_col25\" class=\"data row0 col25\" >0</td>\n",
       "                        <td id=\"T_64312_row0_col26\" class=\"data row0 col26\" >0</td>\n",
       "                        <td id=\"T_64312_row0_col27\" class=\"data row0 col27\" >0</td>\n",
       "            </tr>\n",
       "            <tr>\n",
       "                        <th id=\"T_64312_level0_row1\" class=\"row_heading level0 row1\" >1</th>\n",
       "                        <td id=\"T_64312_row1_col0\" class=\"data row1 col0\" >0</td>\n",
       "                        <td id=\"T_64312_row1_col1\" class=\"data row1 col1\" >0</td>\n",
       "                        <td id=\"T_64312_row1_col2\" class=\"data row1 col2\" >0</td>\n",
       "                        <td id=\"T_64312_row1_col3\" class=\"data row1 col3\" >0</td>\n",
       "                        <td id=\"T_64312_row1_col4\" class=\"data row1 col4\" >0</td>\n",
       "                        <td id=\"T_64312_row1_col5\" class=\"data row1 col5\" >0</td>\n",
       "                        <td id=\"T_64312_row1_col6\" class=\"data row1 col6\" >0</td>\n",
       "                        <td id=\"T_64312_row1_col7\" class=\"data row1 col7\" >0</td>\n",
       "                        <td id=\"T_64312_row1_col8\" class=\"data row1 col8\" >0</td>\n",
       "                        <td id=\"T_64312_row1_col9\" class=\"data row1 col9\" >0</td>\n",
       "                        <td id=\"T_64312_row1_col10\" class=\"data row1 col10\" >0</td>\n",
       "                        <td id=\"T_64312_row1_col11\" class=\"data row1 col11\" >0</td>\n",
       "                        <td id=\"T_64312_row1_col12\" class=\"data row1 col12\" >0</td>\n",
       "                        <td id=\"T_64312_row1_col13\" class=\"data row1 col13\" >0</td>\n",
       "                        <td id=\"T_64312_row1_col14\" class=\"data row1 col14\" >0</td>\n",
       "                        <td id=\"T_64312_row1_col15\" class=\"data row1 col15\" >0</td>\n",
       "                        <td id=\"T_64312_row1_col16\" class=\"data row1 col16\" >0</td>\n",
       "                        <td id=\"T_64312_row1_col17\" class=\"data row1 col17\" >0</td>\n",
       "                        <td id=\"T_64312_row1_col18\" class=\"data row1 col18\" >0</td>\n",
       "                        <td id=\"T_64312_row1_col19\" class=\"data row1 col19\" >0</td>\n",
       "                        <td id=\"T_64312_row1_col20\" class=\"data row1 col20\" >0</td>\n",
       "                        <td id=\"T_64312_row1_col21\" class=\"data row1 col21\" >0</td>\n",
       "                        <td id=\"T_64312_row1_col22\" class=\"data row1 col22\" >0</td>\n",
       "                        <td id=\"T_64312_row1_col23\" class=\"data row1 col23\" >0</td>\n",
       "                        <td id=\"T_64312_row1_col24\" class=\"data row1 col24\" >0</td>\n",
       "                        <td id=\"T_64312_row1_col25\" class=\"data row1 col25\" >0</td>\n",
       "                        <td id=\"T_64312_row1_col26\" class=\"data row1 col26\" >0</td>\n",
       "                        <td id=\"T_64312_row1_col27\" class=\"data row1 col27\" >0</td>\n",
       "            </tr>\n",
       "            <tr>\n",
       "                        <th id=\"T_64312_level0_row2\" class=\"row_heading level0 row2\" >2</th>\n",
       "                        <td id=\"T_64312_row2_col0\" class=\"data row2 col0\" >0</td>\n",
       "                        <td id=\"T_64312_row2_col1\" class=\"data row2 col1\" >0</td>\n",
       "                        <td id=\"T_64312_row2_col2\" class=\"data row2 col2\" >0</td>\n",
       "                        <td id=\"T_64312_row2_col3\" class=\"data row2 col3\" >0</td>\n",
       "                        <td id=\"T_64312_row2_col4\" class=\"data row2 col4\" >0</td>\n",
       "                        <td id=\"T_64312_row2_col5\" class=\"data row2 col5\" >0</td>\n",
       "                        <td id=\"T_64312_row2_col6\" class=\"data row2 col6\" >0</td>\n",
       "                        <td id=\"T_64312_row2_col7\" class=\"data row2 col7\" >0</td>\n",
       "                        <td id=\"T_64312_row2_col8\" class=\"data row2 col8\" >0</td>\n",
       "                        <td id=\"T_64312_row2_col9\" class=\"data row2 col9\" >0</td>\n",
       "                        <td id=\"T_64312_row2_col10\" class=\"data row2 col10\" >0</td>\n",
       "                        <td id=\"T_64312_row2_col11\" class=\"data row2 col11\" >0</td>\n",
       "                        <td id=\"T_64312_row2_col12\" class=\"data row2 col12\" >0</td>\n",
       "                        <td id=\"T_64312_row2_col13\" class=\"data row2 col13\" >0</td>\n",
       "                        <td id=\"T_64312_row2_col14\" class=\"data row2 col14\" >0</td>\n",
       "                        <td id=\"T_64312_row2_col15\" class=\"data row2 col15\" >0</td>\n",
       "                        <td id=\"T_64312_row2_col16\" class=\"data row2 col16\" >0</td>\n",
       "                        <td id=\"T_64312_row2_col17\" class=\"data row2 col17\" >0</td>\n",
       "                        <td id=\"T_64312_row2_col18\" class=\"data row2 col18\" >0</td>\n",
       "                        <td id=\"T_64312_row2_col19\" class=\"data row2 col19\" >0</td>\n",
       "                        <td id=\"T_64312_row2_col20\" class=\"data row2 col20\" >0</td>\n",
       "                        <td id=\"T_64312_row2_col21\" class=\"data row2 col21\" >0</td>\n",
       "                        <td id=\"T_64312_row2_col22\" class=\"data row2 col22\" >0</td>\n",
       "                        <td id=\"T_64312_row2_col23\" class=\"data row2 col23\" >0</td>\n",
       "                        <td id=\"T_64312_row2_col24\" class=\"data row2 col24\" >0</td>\n",
       "                        <td id=\"T_64312_row2_col25\" class=\"data row2 col25\" >0</td>\n",
       "                        <td id=\"T_64312_row2_col26\" class=\"data row2 col26\" >0</td>\n",
       "                        <td id=\"T_64312_row2_col27\" class=\"data row2 col27\" >0</td>\n",
       "            </tr>\n",
       "            <tr>\n",
       "                        <th id=\"T_64312_level0_row3\" class=\"row_heading level0 row3\" >3</th>\n",
       "                        <td id=\"T_64312_row3_col0\" class=\"data row3 col0\" >0</td>\n",
       "                        <td id=\"T_64312_row3_col1\" class=\"data row3 col1\" >0</td>\n",
       "                        <td id=\"T_64312_row3_col2\" class=\"data row3 col2\" >0</td>\n",
       "                        <td id=\"T_64312_row3_col3\" class=\"data row3 col3\" >0</td>\n",
       "                        <td id=\"T_64312_row3_col4\" class=\"data row3 col4\" >0</td>\n",
       "                        <td id=\"T_64312_row3_col5\" class=\"data row3 col5\" >0</td>\n",
       "                        <td id=\"T_64312_row3_col6\" class=\"data row3 col6\" >0</td>\n",
       "                        <td id=\"T_64312_row3_col7\" class=\"data row3 col7\" >0</td>\n",
       "                        <td id=\"T_64312_row3_col8\" class=\"data row3 col8\" >0</td>\n",
       "                        <td id=\"T_64312_row3_col9\" class=\"data row3 col9\" >0</td>\n",
       "                        <td id=\"T_64312_row3_col10\" class=\"data row3 col10\" >0</td>\n",
       "                        <td id=\"T_64312_row3_col11\" class=\"data row3 col11\" >0</td>\n",
       "                        <td id=\"T_64312_row3_col12\" class=\"data row3 col12\" >0</td>\n",
       "                        <td id=\"T_64312_row3_col13\" class=\"data row3 col13\" >0</td>\n",
       "                        <td id=\"T_64312_row3_col14\" class=\"data row3 col14\" >0</td>\n",
       "                        <td id=\"T_64312_row3_col15\" class=\"data row3 col15\" >0</td>\n",
       "                        <td id=\"T_64312_row3_col16\" class=\"data row3 col16\" >0</td>\n",
       "                        <td id=\"T_64312_row3_col17\" class=\"data row3 col17\" >0</td>\n",
       "                        <td id=\"T_64312_row3_col18\" class=\"data row3 col18\" >0</td>\n",
       "                        <td id=\"T_64312_row3_col19\" class=\"data row3 col19\" >0</td>\n",
       "                        <td id=\"T_64312_row3_col20\" class=\"data row3 col20\" >0</td>\n",
       "                        <td id=\"T_64312_row3_col21\" class=\"data row3 col21\" >0</td>\n",
       "                        <td id=\"T_64312_row3_col22\" class=\"data row3 col22\" >0</td>\n",
       "                        <td id=\"T_64312_row3_col23\" class=\"data row3 col23\" >0</td>\n",
       "                        <td id=\"T_64312_row3_col24\" class=\"data row3 col24\" >0</td>\n",
       "                        <td id=\"T_64312_row3_col25\" class=\"data row3 col25\" >0</td>\n",
       "                        <td id=\"T_64312_row3_col26\" class=\"data row3 col26\" >0</td>\n",
       "                        <td id=\"T_64312_row3_col27\" class=\"data row3 col27\" >0</td>\n",
       "            </tr>\n",
       "            <tr>\n",
       "                        <th id=\"T_64312_level0_row4\" class=\"row_heading level0 row4\" >4</th>\n",
       "                        <td id=\"T_64312_row4_col0\" class=\"data row4 col0\" >0</td>\n",
       "                        <td id=\"T_64312_row4_col1\" class=\"data row4 col1\" >0</td>\n",
       "                        <td id=\"T_64312_row4_col2\" class=\"data row4 col2\" >0</td>\n",
       "                        <td id=\"T_64312_row4_col3\" class=\"data row4 col3\" >0</td>\n",
       "                        <td id=\"T_64312_row4_col4\" class=\"data row4 col4\" >0</td>\n",
       "                        <td id=\"T_64312_row4_col5\" class=\"data row4 col5\" >0</td>\n",
       "                        <td id=\"T_64312_row4_col6\" class=\"data row4 col6\" >0</td>\n",
       "                        <td id=\"T_64312_row4_col7\" class=\"data row4 col7\" >0</td>\n",
       "                        <td id=\"T_64312_row4_col8\" class=\"data row4 col8\" >0</td>\n",
       "                        <td id=\"T_64312_row4_col9\" class=\"data row4 col9\" >0</td>\n",
       "                        <td id=\"T_64312_row4_col10\" class=\"data row4 col10\" >0</td>\n",
       "                        <td id=\"T_64312_row4_col11\" class=\"data row4 col11\" >0</td>\n",
       "                        <td id=\"T_64312_row4_col12\" class=\"data row4 col12\" >0</td>\n",
       "                        <td id=\"T_64312_row4_col13\" class=\"data row4 col13\" >0</td>\n",
       "                        <td id=\"T_64312_row4_col14\" class=\"data row4 col14\" >0</td>\n",
       "                        <td id=\"T_64312_row4_col15\" class=\"data row4 col15\" >0</td>\n",
       "                        <td id=\"T_64312_row4_col16\" class=\"data row4 col16\" >0</td>\n",
       "                        <td id=\"T_64312_row4_col17\" class=\"data row4 col17\" >0</td>\n",
       "                        <td id=\"T_64312_row4_col18\" class=\"data row4 col18\" >0</td>\n",
       "                        <td id=\"T_64312_row4_col19\" class=\"data row4 col19\" >0</td>\n",
       "                        <td id=\"T_64312_row4_col20\" class=\"data row4 col20\" >0</td>\n",
       "                        <td id=\"T_64312_row4_col21\" class=\"data row4 col21\" >0</td>\n",
       "                        <td id=\"T_64312_row4_col22\" class=\"data row4 col22\" >0</td>\n",
       "                        <td id=\"T_64312_row4_col23\" class=\"data row4 col23\" >0</td>\n",
       "                        <td id=\"T_64312_row4_col24\" class=\"data row4 col24\" >0</td>\n",
       "                        <td id=\"T_64312_row4_col25\" class=\"data row4 col25\" >0</td>\n",
       "                        <td id=\"T_64312_row4_col26\" class=\"data row4 col26\" >0</td>\n",
       "                        <td id=\"T_64312_row4_col27\" class=\"data row4 col27\" >0</td>\n",
       "            </tr>\n",
       "            <tr>\n",
       "                        <th id=\"T_64312_level0_row5\" class=\"row_heading level0 row5\" >5</th>\n",
       "                        <td id=\"T_64312_row5_col0\" class=\"data row5 col0\" >0</td>\n",
       "                        <td id=\"T_64312_row5_col1\" class=\"data row5 col1\" >0</td>\n",
       "                        <td id=\"T_64312_row5_col2\" class=\"data row5 col2\" >0</td>\n",
       "                        <td id=\"T_64312_row5_col3\" class=\"data row5 col3\" >0</td>\n",
       "                        <td id=\"T_64312_row5_col4\" class=\"data row5 col4\" >0</td>\n",
       "                        <td id=\"T_64312_row5_col5\" class=\"data row5 col5\" >0</td>\n",
       "                        <td id=\"T_64312_row5_col6\" class=\"data row5 col6\" >0</td>\n",
       "                        <td id=\"T_64312_row5_col7\" class=\"data row5 col7\" >0</td>\n",
       "                        <td id=\"T_64312_row5_col8\" class=\"data row5 col8\" >0</td>\n",
       "                        <td id=\"T_64312_row5_col9\" class=\"data row5 col9\" >0</td>\n",
       "                        <td id=\"T_64312_row5_col10\" class=\"data row5 col10\" >0</td>\n",
       "                        <td id=\"T_64312_row5_col11\" class=\"data row5 col11\" >0</td>\n",
       "                        <td id=\"T_64312_row5_col12\" class=\"data row5 col12\" >2</td>\n",
       "                        <td id=\"T_64312_row5_col13\" class=\"data row5 col13\" >17</td>\n",
       "                        <td id=\"T_64312_row5_col14\" class=\"data row5 col14\" >17</td>\n",
       "                        <td id=\"T_64312_row5_col15\" class=\"data row5 col15\" >17</td>\n",
       "                        <td id=\"T_64312_row5_col16\" class=\"data row5 col16\" >125</td>\n",
       "                        <td id=\"T_64312_row5_col17\" class=\"data row5 col17\" >135</td>\n",
       "                        <td id=\"T_64312_row5_col18\" class=\"data row5 col18\" >174</td>\n",
       "                        <td id=\"T_64312_row5_col19\" class=\"data row5 col19\" >25</td>\n",
       "                        <td id=\"T_64312_row5_col20\" class=\"data row5 col20\" >165</td>\n",
       "                        <td id=\"T_64312_row5_col21\" class=\"data row5 col21\" >254</td>\n",
       "                        <td id=\"T_64312_row5_col22\" class=\"data row5 col22\" >246</td>\n",
       "                        <td id=\"T_64312_row5_col23\" class=\"data row5 col23\" >126</td>\n",
       "                        <td id=\"T_64312_row5_col24\" class=\"data row5 col24\" >0</td>\n",
       "                        <td id=\"T_64312_row5_col25\" class=\"data row5 col25\" >0</td>\n",
       "                        <td id=\"T_64312_row5_col26\" class=\"data row5 col26\" >0</td>\n",
       "                        <td id=\"T_64312_row5_col27\" class=\"data row5 col27\" >0</td>\n",
       "            </tr>\n",
       "            <tr>\n",
       "                        <th id=\"T_64312_level0_row6\" class=\"row_heading level0 row6\" >6</th>\n",
       "                        <td id=\"T_64312_row6_col0\" class=\"data row6 col0\" >0</td>\n",
       "                        <td id=\"T_64312_row6_col1\" class=\"data row6 col1\" >0</td>\n",
       "                        <td id=\"T_64312_row6_col2\" class=\"data row6 col2\" >0</td>\n",
       "                        <td id=\"T_64312_row6_col3\" class=\"data row6 col3\" >0</td>\n",
       "                        <td id=\"T_64312_row6_col4\" class=\"data row6 col4\" >0</td>\n",
       "                        <td id=\"T_64312_row6_col5\" class=\"data row6 col5\" >0</td>\n",
       "                        <td id=\"T_64312_row6_col6\" class=\"data row6 col6\" >0</td>\n",
       "                        <td id=\"T_64312_row6_col7\" class=\"data row6 col7\" >0</td>\n",
       "                        <td id=\"T_64312_row6_col8\" class=\"data row6 col8\" >29</td>\n",
       "                        <td id=\"T_64312_row6_col9\" class=\"data row6 col9\" >35</td>\n",
       "                        <td id=\"T_64312_row6_col10\" class=\"data row6 col10\" >93</td>\n",
       "                        <td id=\"T_64312_row6_col11\" class=\"data row6 col11\" >153</td>\n",
       "                        <td id=\"T_64312_row6_col12\" class=\"data row6 col12\" >169</td>\n",
       "                        <td id=\"T_64312_row6_col13\" class=\"data row6 col13\" >252</td>\n",
       "                        <td id=\"T_64312_row6_col14\" class=\"data row6 col14\" >252</td>\n",
       "                        <td id=\"T_64312_row6_col15\" class=\"data row6 col15\" >252</td>\n",
       "                        <td id=\"T_64312_row6_col16\" class=\"data row6 col16\" >252</td>\n",
       "                        <td id=\"T_64312_row6_col17\" class=\"data row6 col17\" >252</td>\n",
       "                        <td id=\"T_64312_row6_col18\" class=\"data row6 col18\" >224</td>\n",
       "                        <td id=\"T_64312_row6_col19\" class=\"data row6 col19\" >171</td>\n",
       "                        <td id=\"T_64312_row6_col20\" class=\"data row6 col20\" >252</td>\n",
       "                        <td id=\"T_64312_row6_col21\" class=\"data row6 col21\" >241</td>\n",
       "                        <td id=\"T_64312_row6_col22\" class=\"data row6 col22\" >194</td>\n",
       "                        <td id=\"T_64312_row6_col23\" class=\"data row6 col23\" >63</td>\n",
       "                        <td id=\"T_64312_row6_col24\" class=\"data row6 col24\" >0</td>\n",
       "                        <td id=\"T_64312_row6_col25\" class=\"data row6 col25\" >0</td>\n",
       "                        <td id=\"T_64312_row6_col26\" class=\"data row6 col26\" >0</td>\n",
       "                        <td id=\"T_64312_row6_col27\" class=\"data row6 col27\" >0</td>\n",
       "            </tr>\n",
       "            <tr>\n",
       "                        <th id=\"T_64312_level0_row7\" class=\"row_heading level0 row7\" >7</th>\n",
       "                        <td id=\"T_64312_row7_col0\" class=\"data row7 col0\" >0</td>\n",
       "                        <td id=\"T_64312_row7_col1\" class=\"data row7 col1\" >0</td>\n",
       "                        <td id=\"T_64312_row7_col2\" class=\"data row7 col2\" >0</td>\n",
       "                        <td id=\"T_64312_row7_col3\" class=\"data row7 col3\" >0</td>\n",
       "                        <td id=\"T_64312_row7_col4\" class=\"data row7 col4\" >0</td>\n",
       "                        <td id=\"T_64312_row7_col5\" class=\"data row7 col5\" >0</td>\n",
       "                        <td id=\"T_64312_row7_col6\" class=\"data row7 col6\" >0</td>\n",
       "                        <td id=\"T_64312_row7_col7\" class=\"data row7 col7\" >48</td>\n",
       "                        <td id=\"T_64312_row7_col8\" class=\"data row7 col8\" >237</td>\n",
       "                        <td id=\"T_64312_row7_col9\" class=\"data row7 col9\" >252</td>\n",
       "                        <td id=\"T_64312_row7_col10\" class=\"data row7 col10\" >252</td>\n",
       "                        <td id=\"T_64312_row7_col11\" class=\"data row7 col11\" >252</td>\n",
       "                        <td id=\"T_64312_row7_col12\" class=\"data row7 col12\" >252</td>\n",
       "                        <td id=\"T_64312_row7_col13\" class=\"data row7 col13\" >252</td>\n",
       "                        <td id=\"T_64312_row7_col14\" class=\"data row7 col14\" >252</td>\n",
       "                        <td id=\"T_64312_row7_col15\" class=\"data row7 col15\" >252</td>\n",
       "                        <td id=\"T_64312_row7_col16\" class=\"data row7 col16\" >252</td>\n",
       "                        <td id=\"T_64312_row7_col17\" class=\"data row7 col17\" >250</td>\n",
       "                        <td id=\"T_64312_row7_col18\" class=\"data row7 col18\" >92</td>\n",
       "                        <td id=\"T_64312_row7_col19\" class=\"data row7 col19\" >81</td>\n",
       "                        <td id=\"T_64312_row7_col20\" class=\"data row7 col20\" >81</td>\n",
       "                        <td id=\"T_64312_row7_col21\" class=\"data row7 col21\" >55</td>\n",
       "                        <td id=\"T_64312_row7_col22\" class=\"data row7 col22\" >38</td>\n",
       "                        <td id=\"T_64312_row7_col23\" class=\"data row7 col23\" >0</td>\n",
       "                        <td id=\"T_64312_row7_col24\" class=\"data row7 col24\" >0</td>\n",
       "                        <td id=\"T_64312_row7_col25\" class=\"data row7 col25\" >0</td>\n",
       "                        <td id=\"T_64312_row7_col26\" class=\"data row7 col26\" >0</td>\n",
       "                        <td id=\"T_64312_row7_col27\" class=\"data row7 col27\" >0</td>\n",
       "            </tr>\n",
       "            <tr>\n",
       "                        <th id=\"T_64312_level0_row8\" class=\"row_heading level0 row8\" >8</th>\n",
       "                        <td id=\"T_64312_row8_col0\" class=\"data row8 col0\" >0</td>\n",
       "                        <td id=\"T_64312_row8_col1\" class=\"data row8 col1\" >0</td>\n",
       "                        <td id=\"T_64312_row8_col2\" class=\"data row8 col2\" >0</td>\n",
       "                        <td id=\"T_64312_row8_col3\" class=\"data row8 col3\" >0</td>\n",
       "                        <td id=\"T_64312_row8_col4\" class=\"data row8 col4\" >0</td>\n",
       "                        <td id=\"T_64312_row8_col5\" class=\"data row8 col5\" >0</td>\n",
       "                        <td id=\"T_64312_row8_col6\" class=\"data row8 col6\" >0</td>\n",
       "                        <td id=\"T_64312_row8_col7\" class=\"data row8 col7\" >17</td>\n",
       "                        <td id=\"T_64312_row8_col8\" class=\"data row8 col8\" >218</td>\n",
       "                        <td id=\"T_64312_row8_col9\" class=\"data row8 col9\" >252</td>\n",
       "                        <td id=\"T_64312_row8_col10\" class=\"data row8 col10\" >252</td>\n",
       "                        <td id=\"T_64312_row8_col11\" class=\"data row8 col11\" >252</td>\n",
       "                        <td id=\"T_64312_row8_col12\" class=\"data row8 col12\" >252</td>\n",
       "                        <td id=\"T_64312_row8_col13\" class=\"data row8 col13\" >252</td>\n",
       "                        <td id=\"T_64312_row8_col14\" class=\"data row8 col14\" >197</td>\n",
       "                        <td id=\"T_64312_row8_col15\" class=\"data row8 col15\" >181</td>\n",
       "                        <td id=\"T_64312_row8_col16\" class=\"data row8 col16\" >246</td>\n",
       "                        <td id=\"T_64312_row8_col17\" class=\"data row8 col17\" >240</td>\n",
       "                        <td id=\"T_64312_row8_col18\" class=\"data row8 col18\" >0</td>\n",
       "                        <td id=\"T_64312_row8_col19\" class=\"data row8 col19\" >0</td>\n",
       "                        <td id=\"T_64312_row8_col20\" class=\"data row8 col20\" >0</td>\n",
       "                        <td id=\"T_64312_row8_col21\" class=\"data row8 col21\" >0</td>\n",
       "                        <td id=\"T_64312_row8_col22\" class=\"data row8 col22\" >0</td>\n",
       "                        <td id=\"T_64312_row8_col23\" class=\"data row8 col23\" >0</td>\n",
       "                        <td id=\"T_64312_row8_col24\" class=\"data row8 col24\" >0</td>\n",
       "                        <td id=\"T_64312_row8_col25\" class=\"data row8 col25\" >0</td>\n",
       "                        <td id=\"T_64312_row8_col26\" class=\"data row8 col26\" >0</td>\n",
       "                        <td id=\"T_64312_row8_col27\" class=\"data row8 col27\" >0</td>\n",
       "            </tr>\n",
       "            <tr>\n",
       "                        <th id=\"T_64312_level0_row9\" class=\"row_heading level0 row9\" >9</th>\n",
       "                        <td id=\"T_64312_row9_col0\" class=\"data row9 col0\" >0</td>\n",
       "                        <td id=\"T_64312_row9_col1\" class=\"data row9 col1\" >0</td>\n",
       "                        <td id=\"T_64312_row9_col2\" class=\"data row9 col2\" >0</td>\n",
       "                        <td id=\"T_64312_row9_col3\" class=\"data row9 col3\" >0</td>\n",
       "                        <td id=\"T_64312_row9_col4\" class=\"data row9 col4\" >0</td>\n",
       "                        <td id=\"T_64312_row9_col5\" class=\"data row9 col5\" >0</td>\n",
       "                        <td id=\"T_64312_row9_col6\" class=\"data row9 col6\" >0</td>\n",
       "                        <td id=\"T_64312_row9_col7\" class=\"data row9 col7\" >0</td>\n",
       "                        <td id=\"T_64312_row9_col8\" class=\"data row9 col8\" >79</td>\n",
       "                        <td id=\"T_64312_row9_col9\" class=\"data row9 col9\" >155</td>\n",
       "                        <td id=\"T_64312_row9_col10\" class=\"data row9 col10\" >106</td>\n",
       "                        <td id=\"T_64312_row9_col11\" class=\"data row9 col11\" >252</td>\n",
       "                        <td id=\"T_64312_row9_col12\" class=\"data row9 col12\" >252</td>\n",
       "                        <td id=\"T_64312_row9_col13\" class=\"data row9 col13\" >204</td>\n",
       "                        <td id=\"T_64312_row9_col14\" class=\"data row9 col14\" >10</td>\n",
       "                        <td id=\"T_64312_row9_col15\" class=\"data row9 col15\" >0</td>\n",
       "                        <td id=\"T_64312_row9_col16\" class=\"data row9 col16\" >42</td>\n",
       "                        <td id=\"T_64312_row9_col17\" class=\"data row9 col17\" >153</td>\n",
       "                        <td id=\"T_64312_row9_col18\" class=\"data row9 col18\" >0</td>\n",
       "                        <td id=\"T_64312_row9_col19\" class=\"data row9 col19\" >0</td>\n",
       "                        <td id=\"T_64312_row9_col20\" class=\"data row9 col20\" >0</td>\n",
       "                        <td id=\"T_64312_row9_col21\" class=\"data row9 col21\" >0</td>\n",
       "                        <td id=\"T_64312_row9_col22\" class=\"data row9 col22\" >0</td>\n",
       "                        <td id=\"T_64312_row9_col23\" class=\"data row9 col23\" >0</td>\n",
       "                        <td id=\"T_64312_row9_col24\" class=\"data row9 col24\" >0</td>\n",
       "                        <td id=\"T_64312_row9_col25\" class=\"data row9 col25\" >0</td>\n",
       "                        <td id=\"T_64312_row9_col26\" class=\"data row9 col26\" >0</td>\n",
       "                        <td id=\"T_64312_row9_col27\" class=\"data row9 col27\" >0</td>\n",
       "            </tr>\n",
       "            <tr>\n",
       "                        <th id=\"T_64312_level0_row10\" class=\"row_heading level0 row10\" >10</th>\n",
       "                        <td id=\"T_64312_row10_col0\" class=\"data row10 col0\" >0</td>\n",
       "                        <td id=\"T_64312_row10_col1\" class=\"data row10 col1\" >0</td>\n",
       "                        <td id=\"T_64312_row10_col2\" class=\"data row10 col2\" >0</td>\n",
       "                        <td id=\"T_64312_row10_col3\" class=\"data row10 col3\" >0</td>\n",
       "                        <td id=\"T_64312_row10_col4\" class=\"data row10 col4\" >0</td>\n",
       "                        <td id=\"T_64312_row10_col5\" class=\"data row10 col5\" >0</td>\n",
       "                        <td id=\"T_64312_row10_col6\" class=\"data row10 col6\" >0</td>\n",
       "                        <td id=\"T_64312_row10_col7\" class=\"data row10 col7\" >0</td>\n",
       "                        <td id=\"T_64312_row10_col8\" class=\"data row10 col8\" >0</td>\n",
       "                        <td id=\"T_64312_row10_col9\" class=\"data row10 col9\" >13</td>\n",
       "                        <td id=\"T_64312_row10_col10\" class=\"data row10 col10\" >0</td>\n",
       "                        <td id=\"T_64312_row10_col11\" class=\"data row10 col11\" >153</td>\n",
       "                        <td id=\"T_64312_row10_col12\" class=\"data row10 col12\" >252</td>\n",
       "                        <td id=\"T_64312_row10_col13\" class=\"data row10 col13\" >89</td>\n",
       "                        <td id=\"T_64312_row10_col14\" class=\"data row10 col14\" >0</td>\n",
       "                        <td id=\"T_64312_row10_col15\" class=\"data row10 col15\" >0</td>\n",
       "                        <td id=\"T_64312_row10_col16\" class=\"data row10 col16\" >0</td>\n",
       "                        <td id=\"T_64312_row10_col17\" class=\"data row10 col17\" >0</td>\n",
       "                        <td id=\"T_64312_row10_col18\" class=\"data row10 col18\" >0</td>\n",
       "                        <td id=\"T_64312_row10_col19\" class=\"data row10 col19\" >0</td>\n",
       "                        <td id=\"T_64312_row10_col20\" class=\"data row10 col20\" >0</td>\n",
       "                        <td id=\"T_64312_row10_col21\" class=\"data row10 col21\" >0</td>\n",
       "                        <td id=\"T_64312_row10_col22\" class=\"data row10 col22\" >0</td>\n",
       "                        <td id=\"T_64312_row10_col23\" class=\"data row10 col23\" >0</td>\n",
       "                        <td id=\"T_64312_row10_col24\" class=\"data row10 col24\" >0</td>\n",
       "                        <td id=\"T_64312_row10_col25\" class=\"data row10 col25\" >0</td>\n",
       "                        <td id=\"T_64312_row10_col26\" class=\"data row10 col26\" >0</td>\n",
       "                        <td id=\"T_64312_row10_col27\" class=\"data row10 col27\" >0</td>\n",
       "            </tr>\n",
       "            <tr>\n",
       "                        <th id=\"T_64312_level0_row11\" class=\"row_heading level0 row11\" >11</th>\n",
       "                        <td id=\"T_64312_row11_col0\" class=\"data row11 col0\" >0</td>\n",
       "                        <td id=\"T_64312_row11_col1\" class=\"data row11 col1\" >0</td>\n",
       "                        <td id=\"T_64312_row11_col2\" class=\"data row11 col2\" >0</td>\n",
       "                        <td id=\"T_64312_row11_col3\" class=\"data row11 col3\" >0</td>\n",
       "                        <td id=\"T_64312_row11_col4\" class=\"data row11 col4\" >0</td>\n",
       "                        <td id=\"T_64312_row11_col5\" class=\"data row11 col5\" >0</td>\n",
       "                        <td id=\"T_64312_row11_col6\" class=\"data row11 col6\" >0</td>\n",
       "                        <td id=\"T_64312_row11_col7\" class=\"data row11 col7\" >0</td>\n",
       "                        <td id=\"T_64312_row11_col8\" class=\"data row11 col8\" >0</td>\n",
       "                        <td id=\"T_64312_row11_col9\" class=\"data row11 col9\" >0</td>\n",
       "                        <td id=\"T_64312_row11_col10\" class=\"data row11 col10\" >0</td>\n",
       "                        <td id=\"T_64312_row11_col11\" class=\"data row11 col11\" >138</td>\n",
       "                        <td id=\"T_64312_row11_col12\" class=\"data row11 col12\" >252</td>\n",
       "                        <td id=\"T_64312_row11_col13\" class=\"data row11 col13\" >189</td>\n",
       "                        <td id=\"T_64312_row11_col14\" class=\"data row11 col14\" >1</td>\n",
       "                        <td id=\"T_64312_row11_col15\" class=\"data row11 col15\" >0</td>\n",
       "                        <td id=\"T_64312_row11_col16\" class=\"data row11 col16\" >0</td>\n",
       "                        <td id=\"T_64312_row11_col17\" class=\"data row11 col17\" >0</td>\n",
       "                        <td id=\"T_64312_row11_col18\" class=\"data row11 col18\" >0</td>\n",
       "                        <td id=\"T_64312_row11_col19\" class=\"data row11 col19\" >0</td>\n",
       "                        <td id=\"T_64312_row11_col20\" class=\"data row11 col20\" >0</td>\n",
       "                        <td id=\"T_64312_row11_col21\" class=\"data row11 col21\" >0</td>\n",
       "                        <td id=\"T_64312_row11_col22\" class=\"data row11 col22\" >0</td>\n",
       "                        <td id=\"T_64312_row11_col23\" class=\"data row11 col23\" >0</td>\n",
       "                        <td id=\"T_64312_row11_col24\" class=\"data row11 col24\" >0</td>\n",
       "                        <td id=\"T_64312_row11_col25\" class=\"data row11 col25\" >0</td>\n",
       "                        <td id=\"T_64312_row11_col26\" class=\"data row11 col26\" >0</td>\n",
       "                        <td id=\"T_64312_row11_col27\" class=\"data row11 col27\" >0</td>\n",
       "            </tr>\n",
       "            <tr>\n",
       "                        <th id=\"T_64312_level0_row12\" class=\"row_heading level0 row12\" >12</th>\n",
       "                        <td id=\"T_64312_row12_col0\" class=\"data row12 col0\" >0</td>\n",
       "                        <td id=\"T_64312_row12_col1\" class=\"data row12 col1\" >0</td>\n",
       "                        <td id=\"T_64312_row12_col2\" class=\"data row12 col2\" >0</td>\n",
       "                        <td id=\"T_64312_row12_col3\" class=\"data row12 col3\" >0</td>\n",
       "                        <td id=\"T_64312_row12_col4\" class=\"data row12 col4\" >0</td>\n",
       "                        <td id=\"T_64312_row12_col5\" class=\"data row12 col5\" >0</td>\n",
       "                        <td id=\"T_64312_row12_col6\" class=\"data row12 col6\" >0</td>\n",
       "                        <td id=\"T_64312_row12_col7\" class=\"data row12 col7\" >0</td>\n",
       "                        <td id=\"T_64312_row12_col8\" class=\"data row12 col8\" >0</td>\n",
       "                        <td id=\"T_64312_row12_col9\" class=\"data row12 col9\" >0</td>\n",
       "                        <td id=\"T_64312_row12_col10\" class=\"data row12 col10\" >0</td>\n",
       "                        <td id=\"T_64312_row12_col11\" class=\"data row12 col11\" >10</td>\n",
       "                        <td id=\"T_64312_row12_col12\" class=\"data row12 col12\" >189</td>\n",
       "                        <td id=\"T_64312_row12_col13\" class=\"data row12 col13\" >252</td>\n",
       "                        <td id=\"T_64312_row12_col14\" class=\"data row12 col14\" >69</td>\n",
       "                        <td id=\"T_64312_row12_col15\" class=\"data row12 col15\" >0</td>\n",
       "                        <td id=\"T_64312_row12_col16\" class=\"data row12 col16\" >0</td>\n",
       "                        <td id=\"T_64312_row12_col17\" class=\"data row12 col17\" >0</td>\n",
       "                        <td id=\"T_64312_row12_col18\" class=\"data row12 col18\" >0</td>\n",
       "                        <td id=\"T_64312_row12_col19\" class=\"data row12 col19\" >0</td>\n",
       "                        <td id=\"T_64312_row12_col20\" class=\"data row12 col20\" >0</td>\n",
       "                        <td id=\"T_64312_row12_col21\" class=\"data row12 col21\" >0</td>\n",
       "                        <td id=\"T_64312_row12_col22\" class=\"data row12 col22\" >0</td>\n",
       "                        <td id=\"T_64312_row12_col23\" class=\"data row12 col23\" >0</td>\n",
       "                        <td id=\"T_64312_row12_col24\" class=\"data row12 col24\" >0</td>\n",
       "                        <td id=\"T_64312_row12_col25\" class=\"data row12 col25\" >0</td>\n",
       "                        <td id=\"T_64312_row12_col26\" class=\"data row12 col26\" >0</td>\n",
       "                        <td id=\"T_64312_row12_col27\" class=\"data row12 col27\" >0</td>\n",
       "            </tr>\n",
       "            <tr>\n",
       "                        <th id=\"T_64312_level0_row13\" class=\"row_heading level0 row13\" >13</th>\n",
       "                        <td id=\"T_64312_row13_col0\" class=\"data row13 col0\" >0</td>\n",
       "                        <td id=\"T_64312_row13_col1\" class=\"data row13 col1\" >0</td>\n",
       "                        <td id=\"T_64312_row13_col2\" class=\"data row13 col2\" >0</td>\n",
       "                        <td id=\"T_64312_row13_col3\" class=\"data row13 col3\" >0</td>\n",
       "                        <td id=\"T_64312_row13_col4\" class=\"data row13 col4\" >0</td>\n",
       "                        <td id=\"T_64312_row13_col5\" class=\"data row13 col5\" >0</td>\n",
       "                        <td id=\"T_64312_row13_col6\" class=\"data row13 col6\" >0</td>\n",
       "                        <td id=\"T_64312_row13_col7\" class=\"data row13 col7\" >0</td>\n",
       "                        <td id=\"T_64312_row13_col8\" class=\"data row13 col8\" >0</td>\n",
       "                        <td id=\"T_64312_row13_col9\" class=\"data row13 col9\" >0</td>\n",
       "                        <td id=\"T_64312_row13_col10\" class=\"data row13 col10\" >0</td>\n",
       "                        <td id=\"T_64312_row13_col11\" class=\"data row13 col11\" >0</td>\n",
       "                        <td id=\"T_64312_row13_col12\" class=\"data row13 col12\" >34</td>\n",
       "                        <td id=\"T_64312_row13_col13\" class=\"data row13 col13\" >240</td>\n",
       "                        <td id=\"T_64312_row13_col14\" class=\"data row13 col14\" >224</td>\n",
       "                        <td id=\"T_64312_row13_col15\" class=\"data row13 col15\" >159</td>\n",
       "                        <td id=\"T_64312_row13_col16\" class=\"data row13 col16\" >107</td>\n",
       "                        <td id=\"T_64312_row13_col17\" class=\"data row13 col17\" >0</td>\n",
       "                        <td id=\"T_64312_row13_col18\" class=\"data row13 col18\" >0</td>\n",
       "                        <td id=\"T_64312_row13_col19\" class=\"data row13 col19\" >0</td>\n",
       "                        <td id=\"T_64312_row13_col20\" class=\"data row13 col20\" >0</td>\n",
       "                        <td id=\"T_64312_row13_col21\" class=\"data row13 col21\" >0</td>\n",
       "                        <td id=\"T_64312_row13_col22\" class=\"data row13 col22\" >0</td>\n",
       "                        <td id=\"T_64312_row13_col23\" class=\"data row13 col23\" >0</td>\n",
       "                        <td id=\"T_64312_row13_col24\" class=\"data row13 col24\" >0</td>\n",
       "                        <td id=\"T_64312_row13_col25\" class=\"data row13 col25\" >0</td>\n",
       "                        <td id=\"T_64312_row13_col26\" class=\"data row13 col26\" >0</td>\n",
       "                        <td id=\"T_64312_row13_col27\" class=\"data row13 col27\" >0</td>\n",
       "            </tr>\n",
       "            <tr>\n",
       "                        <th id=\"T_64312_level0_row14\" class=\"row_heading level0 row14\" >14</th>\n",
       "                        <td id=\"T_64312_row14_col0\" class=\"data row14 col0\" >0</td>\n",
       "                        <td id=\"T_64312_row14_col1\" class=\"data row14 col1\" >0</td>\n",
       "                        <td id=\"T_64312_row14_col2\" class=\"data row14 col2\" >0</td>\n",
       "                        <td id=\"T_64312_row14_col3\" class=\"data row14 col3\" >0</td>\n",
       "                        <td id=\"T_64312_row14_col4\" class=\"data row14 col4\" >0</td>\n",
       "                        <td id=\"T_64312_row14_col5\" class=\"data row14 col5\" >0</td>\n",
       "                        <td id=\"T_64312_row14_col6\" class=\"data row14 col6\" >0</td>\n",
       "                        <td id=\"T_64312_row14_col7\" class=\"data row14 col7\" >0</td>\n",
       "                        <td id=\"T_64312_row14_col8\" class=\"data row14 col8\" >0</td>\n",
       "                        <td id=\"T_64312_row14_col9\" class=\"data row14 col9\" >0</td>\n",
       "                        <td id=\"T_64312_row14_col10\" class=\"data row14 col10\" >0</td>\n",
       "                        <td id=\"T_64312_row14_col11\" class=\"data row14 col11\" >0</td>\n",
       "                        <td id=\"T_64312_row14_col12\" class=\"data row14 col12\" >0</td>\n",
       "                        <td id=\"T_64312_row14_col13\" class=\"data row14 col13\" >80</td>\n",
       "                        <td id=\"T_64312_row14_col14\" class=\"data row14 col14\" >239</td>\n",
       "                        <td id=\"T_64312_row14_col15\" class=\"data row14 col15\" >252</td>\n",
       "                        <td id=\"T_64312_row14_col16\" class=\"data row14 col16\" >252</td>\n",
       "                        <td id=\"T_64312_row14_col17\" class=\"data row14 col17\" >118</td>\n",
       "                        <td id=\"T_64312_row14_col18\" class=\"data row14 col18\" >24</td>\n",
       "                        <td id=\"T_64312_row14_col19\" class=\"data row14 col19\" >0</td>\n",
       "                        <td id=\"T_64312_row14_col20\" class=\"data row14 col20\" >0</td>\n",
       "                        <td id=\"T_64312_row14_col21\" class=\"data row14 col21\" >0</td>\n",
       "                        <td id=\"T_64312_row14_col22\" class=\"data row14 col22\" >0</td>\n",
       "                        <td id=\"T_64312_row14_col23\" class=\"data row14 col23\" >0</td>\n",
       "                        <td id=\"T_64312_row14_col24\" class=\"data row14 col24\" >0</td>\n",
       "                        <td id=\"T_64312_row14_col25\" class=\"data row14 col25\" >0</td>\n",
       "                        <td id=\"T_64312_row14_col26\" class=\"data row14 col26\" >0</td>\n",
       "                        <td id=\"T_64312_row14_col27\" class=\"data row14 col27\" >0</td>\n",
       "            </tr>\n",
       "            <tr>\n",
       "                        <th id=\"T_64312_level0_row15\" class=\"row_heading level0 row15\" >15</th>\n",
       "                        <td id=\"T_64312_row15_col0\" class=\"data row15 col0\" >0</td>\n",
       "                        <td id=\"T_64312_row15_col1\" class=\"data row15 col1\" >0</td>\n",
       "                        <td id=\"T_64312_row15_col2\" class=\"data row15 col2\" >0</td>\n",
       "                        <td id=\"T_64312_row15_col3\" class=\"data row15 col3\" >0</td>\n",
       "                        <td id=\"T_64312_row15_col4\" class=\"data row15 col4\" >0</td>\n",
       "                        <td id=\"T_64312_row15_col5\" class=\"data row15 col5\" >0</td>\n",
       "                        <td id=\"T_64312_row15_col6\" class=\"data row15 col6\" >0</td>\n",
       "                        <td id=\"T_64312_row15_col7\" class=\"data row15 col7\" >0</td>\n",
       "                        <td id=\"T_64312_row15_col8\" class=\"data row15 col8\" >0</td>\n",
       "                        <td id=\"T_64312_row15_col9\" class=\"data row15 col9\" >0</td>\n",
       "                        <td id=\"T_64312_row15_col10\" class=\"data row15 col10\" >0</td>\n",
       "                        <td id=\"T_64312_row15_col11\" class=\"data row15 col11\" >0</td>\n",
       "                        <td id=\"T_64312_row15_col12\" class=\"data row15 col12\" >0</td>\n",
       "                        <td id=\"T_64312_row15_col13\" class=\"data row15 col13\" >0</td>\n",
       "                        <td id=\"T_64312_row15_col14\" class=\"data row15 col14\" >44</td>\n",
       "                        <td id=\"T_64312_row15_col15\" class=\"data row15 col15\" >185</td>\n",
       "                        <td id=\"T_64312_row15_col16\" class=\"data row15 col16\" >252</td>\n",
       "                        <td id=\"T_64312_row15_col17\" class=\"data row15 col17\" >252</td>\n",
       "                        <td id=\"T_64312_row15_col18\" class=\"data row15 col18\" >149</td>\n",
       "                        <td id=\"T_64312_row15_col19\" class=\"data row15 col19\" >26</td>\n",
       "                        <td id=\"T_64312_row15_col20\" class=\"data row15 col20\" >0</td>\n",
       "                        <td id=\"T_64312_row15_col21\" class=\"data row15 col21\" >0</td>\n",
       "                        <td id=\"T_64312_row15_col22\" class=\"data row15 col22\" >0</td>\n",
       "                        <td id=\"T_64312_row15_col23\" class=\"data row15 col23\" >0</td>\n",
       "                        <td id=\"T_64312_row15_col24\" class=\"data row15 col24\" >0</td>\n",
       "                        <td id=\"T_64312_row15_col25\" class=\"data row15 col25\" >0</td>\n",
       "                        <td id=\"T_64312_row15_col26\" class=\"data row15 col26\" >0</td>\n",
       "                        <td id=\"T_64312_row15_col27\" class=\"data row15 col27\" >0</td>\n",
       "            </tr>\n",
       "            <tr>\n",
       "                        <th id=\"T_64312_level0_row16\" class=\"row_heading level0 row16\" >16</th>\n",
       "                        <td id=\"T_64312_row16_col0\" class=\"data row16 col0\" >0</td>\n",
       "                        <td id=\"T_64312_row16_col1\" class=\"data row16 col1\" >0</td>\n",
       "                        <td id=\"T_64312_row16_col2\" class=\"data row16 col2\" >0</td>\n",
       "                        <td id=\"T_64312_row16_col3\" class=\"data row16 col3\" >0</td>\n",
       "                        <td id=\"T_64312_row16_col4\" class=\"data row16 col4\" >0</td>\n",
       "                        <td id=\"T_64312_row16_col5\" class=\"data row16 col5\" >0</td>\n",
       "                        <td id=\"T_64312_row16_col6\" class=\"data row16 col6\" >0</td>\n",
       "                        <td id=\"T_64312_row16_col7\" class=\"data row16 col7\" >0</td>\n",
       "                        <td id=\"T_64312_row16_col8\" class=\"data row16 col8\" >0</td>\n",
       "                        <td id=\"T_64312_row16_col9\" class=\"data row16 col9\" >0</td>\n",
       "                        <td id=\"T_64312_row16_col10\" class=\"data row16 col10\" >0</td>\n",
       "                        <td id=\"T_64312_row16_col11\" class=\"data row16 col11\" >0</td>\n",
       "                        <td id=\"T_64312_row16_col12\" class=\"data row16 col12\" >0</td>\n",
       "                        <td id=\"T_64312_row16_col13\" class=\"data row16 col13\" >0</td>\n",
       "                        <td id=\"T_64312_row16_col14\" class=\"data row16 col14\" >0</td>\n",
       "                        <td id=\"T_64312_row16_col15\" class=\"data row16 col15\" >15</td>\n",
       "                        <td id=\"T_64312_row16_col16\" class=\"data row16 col16\" >92</td>\n",
       "                        <td id=\"T_64312_row16_col17\" class=\"data row16 col17\" >251</td>\n",
       "                        <td id=\"T_64312_row16_col18\" class=\"data row16 col18\" >252</td>\n",
       "                        <td id=\"T_64312_row16_col19\" class=\"data row16 col19\" >186</td>\n",
       "                        <td id=\"T_64312_row16_col20\" class=\"data row16 col20\" >0</td>\n",
       "                        <td id=\"T_64312_row16_col21\" class=\"data row16 col21\" >0</td>\n",
       "                        <td id=\"T_64312_row16_col22\" class=\"data row16 col22\" >0</td>\n",
       "                        <td id=\"T_64312_row16_col23\" class=\"data row16 col23\" >0</td>\n",
       "                        <td id=\"T_64312_row16_col24\" class=\"data row16 col24\" >0</td>\n",
       "                        <td id=\"T_64312_row16_col25\" class=\"data row16 col25\" >0</td>\n",
       "                        <td id=\"T_64312_row16_col26\" class=\"data row16 col26\" >0</td>\n",
       "                        <td id=\"T_64312_row16_col27\" class=\"data row16 col27\" >0</td>\n",
       "            </tr>\n",
       "            <tr>\n",
       "                        <th id=\"T_64312_level0_row17\" class=\"row_heading level0 row17\" >17</th>\n",
       "                        <td id=\"T_64312_row17_col0\" class=\"data row17 col0\" >0</td>\n",
       "                        <td id=\"T_64312_row17_col1\" class=\"data row17 col1\" >0</td>\n",
       "                        <td id=\"T_64312_row17_col2\" class=\"data row17 col2\" >0</td>\n",
       "                        <td id=\"T_64312_row17_col3\" class=\"data row17 col3\" >0</td>\n",
       "                        <td id=\"T_64312_row17_col4\" class=\"data row17 col4\" >0</td>\n",
       "                        <td id=\"T_64312_row17_col5\" class=\"data row17 col5\" >0</td>\n",
       "                        <td id=\"T_64312_row17_col6\" class=\"data row17 col6\" >0</td>\n",
       "                        <td id=\"T_64312_row17_col7\" class=\"data row17 col7\" >0</td>\n",
       "                        <td id=\"T_64312_row17_col8\" class=\"data row17 col8\" >0</td>\n",
       "                        <td id=\"T_64312_row17_col9\" class=\"data row17 col9\" >0</td>\n",
       "                        <td id=\"T_64312_row17_col10\" class=\"data row17 col10\" >0</td>\n",
       "                        <td id=\"T_64312_row17_col11\" class=\"data row17 col11\" >0</td>\n",
       "                        <td id=\"T_64312_row17_col12\" class=\"data row17 col12\" >0</td>\n",
       "                        <td id=\"T_64312_row17_col13\" class=\"data row17 col13\" >0</td>\n",
       "                        <td id=\"T_64312_row17_col14\" class=\"data row17 col14\" >0</td>\n",
       "                        <td id=\"T_64312_row17_col15\" class=\"data row17 col15\" >0</td>\n",
       "                        <td id=\"T_64312_row17_col16\" class=\"data row17 col16\" >0</td>\n",
       "                        <td id=\"T_64312_row17_col17\" class=\"data row17 col17\" >248</td>\n",
       "                        <td id=\"T_64312_row17_col18\" class=\"data row17 col18\" >252</td>\n",
       "                        <td id=\"T_64312_row17_col19\" class=\"data row17 col19\" >248</td>\n",
       "                        <td id=\"T_64312_row17_col20\" class=\"data row17 col20\" >63</td>\n",
       "                        <td id=\"T_64312_row17_col21\" class=\"data row17 col21\" >0</td>\n",
       "                        <td id=\"T_64312_row17_col22\" class=\"data row17 col22\" >0</td>\n",
       "                        <td id=\"T_64312_row17_col23\" class=\"data row17 col23\" >0</td>\n",
       "                        <td id=\"T_64312_row17_col24\" class=\"data row17 col24\" >0</td>\n",
       "                        <td id=\"T_64312_row17_col25\" class=\"data row17 col25\" >0</td>\n",
       "                        <td id=\"T_64312_row17_col26\" class=\"data row17 col26\" >0</td>\n",
       "                        <td id=\"T_64312_row17_col27\" class=\"data row17 col27\" >0</td>\n",
       "            </tr>\n",
       "            <tr>\n",
       "                        <th id=\"T_64312_level0_row18\" class=\"row_heading level0 row18\" >18</th>\n",
       "                        <td id=\"T_64312_row18_col0\" class=\"data row18 col0\" >0</td>\n",
       "                        <td id=\"T_64312_row18_col1\" class=\"data row18 col1\" >0</td>\n",
       "                        <td id=\"T_64312_row18_col2\" class=\"data row18 col2\" >0</td>\n",
       "                        <td id=\"T_64312_row18_col3\" class=\"data row18 col3\" >0</td>\n",
       "                        <td id=\"T_64312_row18_col4\" class=\"data row18 col4\" >0</td>\n",
       "                        <td id=\"T_64312_row18_col5\" class=\"data row18 col5\" >0</td>\n",
       "                        <td id=\"T_64312_row18_col6\" class=\"data row18 col6\" >0</td>\n",
       "                        <td id=\"T_64312_row18_col7\" class=\"data row18 col7\" >0</td>\n",
       "                        <td id=\"T_64312_row18_col8\" class=\"data row18 col8\" >0</td>\n",
       "                        <td id=\"T_64312_row18_col9\" class=\"data row18 col9\" >0</td>\n",
       "                        <td id=\"T_64312_row18_col10\" class=\"data row18 col10\" >0</td>\n",
       "                        <td id=\"T_64312_row18_col11\" class=\"data row18 col11\" >0</td>\n",
       "                        <td id=\"T_64312_row18_col12\" class=\"data row18 col12\" >0</td>\n",
       "                        <td id=\"T_64312_row18_col13\" class=\"data row18 col13\" >0</td>\n",
       "                        <td id=\"T_64312_row18_col14\" class=\"data row18 col14\" >45</td>\n",
       "                        <td id=\"T_64312_row18_col15\" class=\"data row18 col15\" >129</td>\n",
       "                        <td id=\"T_64312_row18_col16\" class=\"data row18 col16\" >182</td>\n",
       "                        <td id=\"T_64312_row18_col17\" class=\"data row18 col17\" >252</td>\n",
       "                        <td id=\"T_64312_row18_col18\" class=\"data row18 col18\" >252</td>\n",
       "                        <td id=\"T_64312_row18_col19\" class=\"data row18 col19\" >206</td>\n",
       "                        <td id=\"T_64312_row18_col20\" class=\"data row18 col20\" >1</td>\n",
       "                        <td id=\"T_64312_row18_col21\" class=\"data row18 col21\" >0</td>\n",
       "                        <td id=\"T_64312_row18_col22\" class=\"data row18 col22\" >0</td>\n",
       "                        <td id=\"T_64312_row18_col23\" class=\"data row18 col23\" >0</td>\n",
       "                        <td id=\"T_64312_row18_col24\" class=\"data row18 col24\" >0</td>\n",
       "                        <td id=\"T_64312_row18_col25\" class=\"data row18 col25\" >0</td>\n",
       "                        <td id=\"T_64312_row18_col26\" class=\"data row18 col26\" >0</td>\n",
       "                        <td id=\"T_64312_row18_col27\" class=\"data row18 col27\" >0</td>\n",
       "            </tr>\n",
       "            <tr>\n",
       "                        <th id=\"T_64312_level0_row19\" class=\"row_heading level0 row19\" >19</th>\n",
       "                        <td id=\"T_64312_row19_col0\" class=\"data row19 col0\" >0</td>\n",
       "                        <td id=\"T_64312_row19_col1\" class=\"data row19 col1\" >0</td>\n",
       "                        <td id=\"T_64312_row19_col2\" class=\"data row19 col2\" >0</td>\n",
       "                        <td id=\"T_64312_row19_col3\" class=\"data row19 col3\" >0</td>\n",
       "                        <td id=\"T_64312_row19_col4\" class=\"data row19 col4\" >0</td>\n",
       "                        <td id=\"T_64312_row19_col5\" class=\"data row19 col5\" >0</td>\n",
       "                        <td id=\"T_64312_row19_col6\" class=\"data row19 col6\" >0</td>\n",
       "                        <td id=\"T_64312_row19_col7\" class=\"data row19 col7\" >0</td>\n",
       "                        <td id=\"T_64312_row19_col8\" class=\"data row19 col8\" >0</td>\n",
       "                        <td id=\"T_64312_row19_col9\" class=\"data row19 col9\" >0</td>\n",
       "                        <td id=\"T_64312_row19_col10\" class=\"data row19 col10\" >0</td>\n",
       "                        <td id=\"T_64312_row19_col11\" class=\"data row19 col11\" >0</td>\n",
       "                        <td id=\"T_64312_row19_col12\" class=\"data row19 col12\" >38</td>\n",
       "                        <td id=\"T_64312_row19_col13\" class=\"data row19 col13\" >147</td>\n",
       "                        <td id=\"T_64312_row19_col14\" class=\"data row19 col14\" >228</td>\n",
       "                        <td id=\"T_64312_row19_col15\" class=\"data row19 col15\" >252</td>\n",
       "                        <td id=\"T_64312_row19_col16\" class=\"data row19 col16\" >252</td>\n",
       "                        <td id=\"T_64312_row19_col17\" class=\"data row19 col17\" >252</td>\n",
       "                        <td id=\"T_64312_row19_col18\" class=\"data row19 col18\" >249</td>\n",
       "                        <td id=\"T_64312_row19_col19\" class=\"data row19 col19\" >181</td>\n",
       "                        <td id=\"T_64312_row19_col20\" class=\"data row19 col20\" >0</td>\n",
       "                        <td id=\"T_64312_row19_col21\" class=\"data row19 col21\" >0</td>\n",
       "                        <td id=\"T_64312_row19_col22\" class=\"data row19 col22\" >0</td>\n",
       "                        <td id=\"T_64312_row19_col23\" class=\"data row19 col23\" >0</td>\n",
       "                        <td id=\"T_64312_row19_col24\" class=\"data row19 col24\" >0</td>\n",
       "                        <td id=\"T_64312_row19_col25\" class=\"data row19 col25\" >0</td>\n",
       "                        <td id=\"T_64312_row19_col26\" class=\"data row19 col26\" >0</td>\n",
       "                        <td id=\"T_64312_row19_col27\" class=\"data row19 col27\" >0</td>\n",
       "            </tr>\n",
       "            <tr>\n",
       "                        <th id=\"T_64312_level0_row20\" class=\"row_heading level0 row20\" >20</th>\n",
       "                        <td id=\"T_64312_row20_col0\" class=\"data row20 col0\" >0</td>\n",
       "                        <td id=\"T_64312_row20_col1\" class=\"data row20 col1\" >0</td>\n",
       "                        <td id=\"T_64312_row20_col2\" class=\"data row20 col2\" >0</td>\n",
       "                        <td id=\"T_64312_row20_col3\" class=\"data row20 col3\" >0</td>\n",
       "                        <td id=\"T_64312_row20_col4\" class=\"data row20 col4\" >0</td>\n",
       "                        <td id=\"T_64312_row20_col5\" class=\"data row20 col5\" >0</td>\n",
       "                        <td id=\"T_64312_row20_col6\" class=\"data row20 col6\" >0</td>\n",
       "                        <td id=\"T_64312_row20_col7\" class=\"data row20 col7\" >0</td>\n",
       "                        <td id=\"T_64312_row20_col8\" class=\"data row20 col8\" >0</td>\n",
       "                        <td id=\"T_64312_row20_col9\" class=\"data row20 col9\" >0</td>\n",
       "                        <td id=\"T_64312_row20_col10\" class=\"data row20 col10\" >23</td>\n",
       "                        <td id=\"T_64312_row20_col11\" class=\"data row20 col11\" >113</td>\n",
       "                        <td id=\"T_64312_row20_col12\" class=\"data row20 col12\" >220</td>\n",
       "                        <td id=\"T_64312_row20_col13\" class=\"data row20 col13\" >252</td>\n",
       "                        <td id=\"T_64312_row20_col14\" class=\"data row20 col14\" >252</td>\n",
       "                        <td id=\"T_64312_row20_col15\" class=\"data row20 col15\" >252</td>\n",
       "                        <td id=\"T_64312_row20_col16\" class=\"data row20 col16\" >252</td>\n",
       "                        <td id=\"T_64312_row20_col17\" class=\"data row20 col17\" >200</td>\n",
       "                        <td id=\"T_64312_row20_col18\" class=\"data row20 col18\" >77</td>\n",
       "                        <td id=\"T_64312_row20_col19\" class=\"data row20 col19\" >0</td>\n",
       "                        <td id=\"T_64312_row20_col20\" class=\"data row20 col20\" >0</td>\n",
       "                        <td id=\"T_64312_row20_col21\" class=\"data row20 col21\" >0</td>\n",
       "                        <td id=\"T_64312_row20_col22\" class=\"data row20 col22\" >0</td>\n",
       "                        <td id=\"T_64312_row20_col23\" class=\"data row20 col23\" >0</td>\n",
       "                        <td id=\"T_64312_row20_col24\" class=\"data row20 col24\" >0</td>\n",
       "                        <td id=\"T_64312_row20_col25\" class=\"data row20 col25\" >0</td>\n",
       "                        <td id=\"T_64312_row20_col26\" class=\"data row20 col26\" >0</td>\n",
       "                        <td id=\"T_64312_row20_col27\" class=\"data row20 col27\" >0</td>\n",
       "            </tr>\n",
       "            <tr>\n",
       "                        <th id=\"T_64312_level0_row21\" class=\"row_heading level0 row21\" >21</th>\n",
       "                        <td id=\"T_64312_row21_col0\" class=\"data row21 col0\" >0</td>\n",
       "                        <td id=\"T_64312_row21_col1\" class=\"data row21 col1\" >0</td>\n",
       "                        <td id=\"T_64312_row21_col2\" class=\"data row21 col2\" >0</td>\n",
       "                        <td id=\"T_64312_row21_col3\" class=\"data row21 col3\" >0</td>\n",
       "                        <td id=\"T_64312_row21_col4\" class=\"data row21 col4\" >0</td>\n",
       "                        <td id=\"T_64312_row21_col5\" class=\"data row21 col5\" >0</td>\n",
       "                        <td id=\"T_64312_row21_col6\" class=\"data row21 col6\" >0</td>\n",
       "                        <td id=\"T_64312_row21_col7\" class=\"data row21 col7\" >0</td>\n",
       "                        <td id=\"T_64312_row21_col8\" class=\"data row21 col8\" >22</td>\n",
       "                        <td id=\"T_64312_row21_col9\" class=\"data row21 col9\" >65</td>\n",
       "                        <td id=\"T_64312_row21_col10\" class=\"data row21 col10\" >212</td>\n",
       "                        <td id=\"T_64312_row21_col11\" class=\"data row21 col11\" >252</td>\n",
       "                        <td id=\"T_64312_row21_col12\" class=\"data row21 col12\" >252</td>\n",
       "                        <td id=\"T_64312_row21_col13\" class=\"data row21 col13\" >252</td>\n",
       "                        <td id=\"T_64312_row21_col14\" class=\"data row21 col14\" >252</td>\n",
       "                        <td id=\"T_64312_row21_col15\" class=\"data row21 col15\" >197</td>\n",
       "                        <td id=\"T_64312_row21_col16\" class=\"data row21 col16\" >80</td>\n",
       "                        <td id=\"T_64312_row21_col17\" class=\"data row21 col17\" >1</td>\n",
       "                        <td id=\"T_64312_row21_col18\" class=\"data row21 col18\" >0</td>\n",
       "                        <td id=\"T_64312_row21_col19\" class=\"data row21 col19\" >0</td>\n",
       "                        <td id=\"T_64312_row21_col20\" class=\"data row21 col20\" >0</td>\n",
       "                        <td id=\"T_64312_row21_col21\" class=\"data row21 col21\" >0</td>\n",
       "                        <td id=\"T_64312_row21_col22\" class=\"data row21 col22\" >0</td>\n",
       "                        <td id=\"T_64312_row21_col23\" class=\"data row21 col23\" >0</td>\n",
       "                        <td id=\"T_64312_row21_col24\" class=\"data row21 col24\" >0</td>\n",
       "                        <td id=\"T_64312_row21_col25\" class=\"data row21 col25\" >0</td>\n",
       "                        <td id=\"T_64312_row21_col26\" class=\"data row21 col26\" >0</td>\n",
       "                        <td id=\"T_64312_row21_col27\" class=\"data row21 col27\" >0</td>\n",
       "            </tr>\n",
       "            <tr>\n",
       "                        <th id=\"T_64312_level0_row22\" class=\"row_heading level0 row22\" >22</th>\n",
       "                        <td id=\"T_64312_row22_col0\" class=\"data row22 col0\" >0</td>\n",
       "                        <td id=\"T_64312_row22_col1\" class=\"data row22 col1\" >0</td>\n",
       "                        <td id=\"T_64312_row22_col2\" class=\"data row22 col2\" >0</td>\n",
       "                        <td id=\"T_64312_row22_col3\" class=\"data row22 col3\" >0</td>\n",
       "                        <td id=\"T_64312_row22_col4\" class=\"data row22 col4\" >0</td>\n",
       "                        <td id=\"T_64312_row22_col5\" class=\"data row22 col5\" >0</td>\n",
       "                        <td id=\"T_64312_row22_col6\" class=\"data row22 col6\" >17</td>\n",
       "                        <td id=\"T_64312_row22_col7\" class=\"data row22 col7\" >170</td>\n",
       "                        <td id=\"T_64312_row22_col8\" class=\"data row22 col8\" >218</td>\n",
       "                        <td id=\"T_64312_row22_col9\" class=\"data row22 col9\" >252</td>\n",
       "                        <td id=\"T_64312_row22_col10\" class=\"data row22 col10\" >252</td>\n",
       "                        <td id=\"T_64312_row22_col11\" class=\"data row22 col11\" >252</td>\n",
       "                        <td id=\"T_64312_row22_col12\" class=\"data row22 col12\" >252</td>\n",
       "                        <td id=\"T_64312_row22_col13\" class=\"data row22 col13\" >194</td>\n",
       "                        <td id=\"T_64312_row22_col14\" class=\"data row22 col14\" >79</td>\n",
       "                        <td id=\"T_64312_row22_col15\" class=\"data row22 col15\" >8</td>\n",
       "                        <td id=\"T_64312_row22_col16\" class=\"data row22 col16\" >0</td>\n",
       "                        <td id=\"T_64312_row22_col17\" class=\"data row22 col17\" >0</td>\n",
       "                        <td id=\"T_64312_row22_col18\" class=\"data row22 col18\" >0</td>\n",
       "                        <td id=\"T_64312_row22_col19\" class=\"data row22 col19\" >0</td>\n",
       "                        <td id=\"T_64312_row22_col20\" class=\"data row22 col20\" >0</td>\n",
       "                        <td id=\"T_64312_row22_col21\" class=\"data row22 col21\" >0</td>\n",
       "                        <td id=\"T_64312_row22_col22\" class=\"data row22 col22\" >0</td>\n",
       "                        <td id=\"T_64312_row22_col23\" class=\"data row22 col23\" >0</td>\n",
       "                        <td id=\"T_64312_row22_col24\" class=\"data row22 col24\" >0</td>\n",
       "                        <td id=\"T_64312_row22_col25\" class=\"data row22 col25\" >0</td>\n",
       "                        <td id=\"T_64312_row22_col26\" class=\"data row22 col26\" >0</td>\n",
       "                        <td id=\"T_64312_row22_col27\" class=\"data row22 col27\" >0</td>\n",
       "            </tr>\n",
       "            <tr>\n",
       "                        <th id=\"T_64312_level0_row23\" class=\"row_heading level0 row23\" >23</th>\n",
       "                        <td id=\"T_64312_row23_col0\" class=\"data row23 col0\" >0</td>\n",
       "                        <td id=\"T_64312_row23_col1\" class=\"data row23 col1\" >0</td>\n",
       "                        <td id=\"T_64312_row23_col2\" class=\"data row23 col2\" >0</td>\n",
       "                        <td id=\"T_64312_row23_col3\" class=\"data row23 col3\" >0</td>\n",
       "                        <td id=\"T_64312_row23_col4\" class=\"data row23 col4\" >54</td>\n",
       "                        <td id=\"T_64312_row23_col5\" class=\"data row23 col5\" >171</td>\n",
       "                        <td id=\"T_64312_row23_col6\" class=\"data row23 col6\" >225</td>\n",
       "                        <td id=\"T_64312_row23_col7\" class=\"data row23 col7\" >252</td>\n",
       "                        <td id=\"T_64312_row23_col8\" class=\"data row23 col8\" >252</td>\n",
       "                        <td id=\"T_64312_row23_col9\" class=\"data row23 col9\" >252</td>\n",
       "                        <td id=\"T_64312_row23_col10\" class=\"data row23 col10\" >252</td>\n",
       "                        <td id=\"T_64312_row23_col11\" class=\"data row23 col11\" >243</td>\n",
       "                        <td id=\"T_64312_row23_col12\" class=\"data row23 col12\" >132</td>\n",
       "                        <td id=\"T_64312_row23_col13\" class=\"data row23 col13\" >10</td>\n",
       "                        <td id=\"T_64312_row23_col14\" class=\"data row23 col14\" >0</td>\n",
       "                        <td id=\"T_64312_row23_col15\" class=\"data row23 col15\" >0</td>\n",
       "                        <td id=\"T_64312_row23_col16\" class=\"data row23 col16\" >0</td>\n",
       "                        <td id=\"T_64312_row23_col17\" class=\"data row23 col17\" >0</td>\n",
       "                        <td id=\"T_64312_row23_col18\" class=\"data row23 col18\" >0</td>\n",
       "                        <td id=\"T_64312_row23_col19\" class=\"data row23 col19\" >0</td>\n",
       "                        <td id=\"T_64312_row23_col20\" class=\"data row23 col20\" >0</td>\n",
       "                        <td id=\"T_64312_row23_col21\" class=\"data row23 col21\" >0</td>\n",
       "                        <td id=\"T_64312_row23_col22\" class=\"data row23 col22\" >0</td>\n",
       "                        <td id=\"T_64312_row23_col23\" class=\"data row23 col23\" >0</td>\n",
       "                        <td id=\"T_64312_row23_col24\" class=\"data row23 col24\" >0</td>\n",
       "                        <td id=\"T_64312_row23_col25\" class=\"data row23 col25\" >0</td>\n",
       "                        <td id=\"T_64312_row23_col26\" class=\"data row23 col26\" >0</td>\n",
       "                        <td id=\"T_64312_row23_col27\" class=\"data row23 col27\" >0</td>\n",
       "            </tr>\n",
       "            <tr>\n",
       "                        <th id=\"T_64312_level0_row24\" class=\"row_heading level0 row24\" >24</th>\n",
       "                        <td id=\"T_64312_row24_col0\" class=\"data row24 col0\" >0</td>\n",
       "                        <td id=\"T_64312_row24_col1\" class=\"data row24 col1\" >0</td>\n",
       "                        <td id=\"T_64312_row24_col2\" class=\"data row24 col2\" >0</td>\n",
       "                        <td id=\"T_64312_row24_col3\" class=\"data row24 col3\" >0</td>\n",
       "                        <td id=\"T_64312_row24_col4\" class=\"data row24 col4\" >135</td>\n",
       "                        <td id=\"T_64312_row24_col5\" class=\"data row24 col5\" >252</td>\n",
       "                        <td id=\"T_64312_row24_col6\" class=\"data row24 col6\" >252</td>\n",
       "                        <td id=\"T_64312_row24_col7\" class=\"data row24 col7\" >252</td>\n",
       "                        <td id=\"T_64312_row24_col8\" class=\"data row24 col8\" >211</td>\n",
       "                        <td id=\"T_64312_row24_col9\" class=\"data row24 col9\" >134</td>\n",
       "                        <td id=\"T_64312_row24_col10\" class=\"data row24 col10\" >131</td>\n",
       "                        <td id=\"T_64312_row24_col11\" class=\"data row24 col11\" >15</td>\n",
       "                        <td id=\"T_64312_row24_col12\" class=\"data row24 col12\" >0</td>\n",
       "                        <td id=\"T_64312_row24_col13\" class=\"data row24 col13\" >0</td>\n",
       "                        <td id=\"T_64312_row24_col14\" class=\"data row24 col14\" >0</td>\n",
       "                        <td id=\"T_64312_row24_col15\" class=\"data row24 col15\" >0</td>\n",
       "                        <td id=\"T_64312_row24_col16\" class=\"data row24 col16\" >0</td>\n",
       "                        <td id=\"T_64312_row24_col17\" class=\"data row24 col17\" >0</td>\n",
       "                        <td id=\"T_64312_row24_col18\" class=\"data row24 col18\" >0</td>\n",
       "                        <td id=\"T_64312_row24_col19\" class=\"data row24 col19\" >0</td>\n",
       "                        <td id=\"T_64312_row24_col20\" class=\"data row24 col20\" >0</td>\n",
       "                        <td id=\"T_64312_row24_col21\" class=\"data row24 col21\" >0</td>\n",
       "                        <td id=\"T_64312_row24_col22\" class=\"data row24 col22\" >0</td>\n",
       "                        <td id=\"T_64312_row24_col23\" class=\"data row24 col23\" >0</td>\n",
       "                        <td id=\"T_64312_row24_col24\" class=\"data row24 col24\" >0</td>\n",
       "                        <td id=\"T_64312_row24_col25\" class=\"data row24 col25\" >0</td>\n",
       "                        <td id=\"T_64312_row24_col26\" class=\"data row24 col26\" >0</td>\n",
       "                        <td id=\"T_64312_row24_col27\" class=\"data row24 col27\" >0</td>\n",
       "            </tr>\n",
       "            <tr>\n",
       "                        <th id=\"T_64312_level0_row25\" class=\"row_heading level0 row25\" >25</th>\n",
       "                        <td id=\"T_64312_row25_col0\" class=\"data row25 col0\" >0</td>\n",
       "                        <td id=\"T_64312_row25_col1\" class=\"data row25 col1\" >0</td>\n",
       "                        <td id=\"T_64312_row25_col2\" class=\"data row25 col2\" >0</td>\n",
       "                        <td id=\"T_64312_row25_col3\" class=\"data row25 col3\" >0</td>\n",
       "                        <td id=\"T_64312_row25_col4\" class=\"data row25 col4\" >0</td>\n",
       "                        <td id=\"T_64312_row25_col5\" class=\"data row25 col5\" >0</td>\n",
       "                        <td id=\"T_64312_row25_col6\" class=\"data row25 col6\" >0</td>\n",
       "                        <td id=\"T_64312_row25_col7\" class=\"data row25 col7\" >0</td>\n",
       "                        <td id=\"T_64312_row25_col8\" class=\"data row25 col8\" >0</td>\n",
       "                        <td id=\"T_64312_row25_col9\" class=\"data row25 col9\" >0</td>\n",
       "                        <td id=\"T_64312_row25_col10\" class=\"data row25 col10\" >0</td>\n",
       "                        <td id=\"T_64312_row25_col11\" class=\"data row25 col11\" >0</td>\n",
       "                        <td id=\"T_64312_row25_col12\" class=\"data row25 col12\" >0</td>\n",
       "                        <td id=\"T_64312_row25_col13\" class=\"data row25 col13\" >0</td>\n",
       "                        <td id=\"T_64312_row25_col14\" class=\"data row25 col14\" >0</td>\n",
       "                        <td id=\"T_64312_row25_col15\" class=\"data row25 col15\" >0</td>\n",
       "                        <td id=\"T_64312_row25_col16\" class=\"data row25 col16\" >0</td>\n",
       "                        <td id=\"T_64312_row25_col17\" class=\"data row25 col17\" >0</td>\n",
       "                        <td id=\"T_64312_row25_col18\" class=\"data row25 col18\" >0</td>\n",
       "                        <td id=\"T_64312_row25_col19\" class=\"data row25 col19\" >0</td>\n",
       "                        <td id=\"T_64312_row25_col20\" class=\"data row25 col20\" >0</td>\n",
       "                        <td id=\"T_64312_row25_col21\" class=\"data row25 col21\" >0</td>\n",
       "                        <td id=\"T_64312_row25_col22\" class=\"data row25 col22\" >0</td>\n",
       "                        <td id=\"T_64312_row25_col23\" class=\"data row25 col23\" >0</td>\n",
       "                        <td id=\"T_64312_row25_col24\" class=\"data row25 col24\" >0</td>\n",
       "                        <td id=\"T_64312_row25_col25\" class=\"data row25 col25\" >0</td>\n",
       "                        <td id=\"T_64312_row25_col26\" class=\"data row25 col26\" >0</td>\n",
       "                        <td id=\"T_64312_row25_col27\" class=\"data row25 col27\" >0</td>\n",
       "            </tr>\n",
       "            <tr>\n",
       "                        <th id=\"T_64312_level0_row26\" class=\"row_heading level0 row26\" >26</th>\n",
       "                        <td id=\"T_64312_row26_col0\" class=\"data row26 col0\" >0</td>\n",
       "                        <td id=\"T_64312_row26_col1\" class=\"data row26 col1\" >0</td>\n",
       "                        <td id=\"T_64312_row26_col2\" class=\"data row26 col2\" >0</td>\n",
       "                        <td id=\"T_64312_row26_col3\" class=\"data row26 col3\" >0</td>\n",
       "                        <td id=\"T_64312_row26_col4\" class=\"data row26 col4\" >0</td>\n",
       "                        <td id=\"T_64312_row26_col5\" class=\"data row26 col5\" >0</td>\n",
       "                        <td id=\"T_64312_row26_col6\" class=\"data row26 col6\" >0</td>\n",
       "                        <td id=\"T_64312_row26_col7\" class=\"data row26 col7\" >0</td>\n",
       "                        <td id=\"T_64312_row26_col8\" class=\"data row26 col8\" >0</td>\n",
       "                        <td id=\"T_64312_row26_col9\" class=\"data row26 col9\" >0</td>\n",
       "                        <td id=\"T_64312_row26_col10\" class=\"data row26 col10\" >0</td>\n",
       "                        <td id=\"T_64312_row26_col11\" class=\"data row26 col11\" >0</td>\n",
       "                        <td id=\"T_64312_row26_col12\" class=\"data row26 col12\" >0</td>\n",
       "                        <td id=\"T_64312_row26_col13\" class=\"data row26 col13\" >0</td>\n",
       "                        <td id=\"T_64312_row26_col14\" class=\"data row26 col14\" >0</td>\n",
       "                        <td id=\"T_64312_row26_col15\" class=\"data row26 col15\" >0</td>\n",
       "                        <td id=\"T_64312_row26_col16\" class=\"data row26 col16\" >0</td>\n",
       "                        <td id=\"T_64312_row26_col17\" class=\"data row26 col17\" >0</td>\n",
       "                        <td id=\"T_64312_row26_col18\" class=\"data row26 col18\" >0</td>\n",
       "                        <td id=\"T_64312_row26_col19\" class=\"data row26 col19\" >0</td>\n",
       "                        <td id=\"T_64312_row26_col20\" class=\"data row26 col20\" >0</td>\n",
       "                        <td id=\"T_64312_row26_col21\" class=\"data row26 col21\" >0</td>\n",
       "                        <td id=\"T_64312_row26_col22\" class=\"data row26 col22\" >0</td>\n",
       "                        <td id=\"T_64312_row26_col23\" class=\"data row26 col23\" >0</td>\n",
       "                        <td id=\"T_64312_row26_col24\" class=\"data row26 col24\" >0</td>\n",
       "                        <td id=\"T_64312_row26_col25\" class=\"data row26 col25\" >0</td>\n",
       "                        <td id=\"T_64312_row26_col26\" class=\"data row26 col26\" >0</td>\n",
       "                        <td id=\"T_64312_row26_col27\" class=\"data row26 col27\" >0</td>\n",
       "            </tr>\n",
       "            <tr>\n",
       "                        <th id=\"T_64312_level0_row27\" class=\"row_heading level0 row27\" >27</th>\n",
       "                        <td id=\"T_64312_row27_col0\" class=\"data row27 col0\" >0</td>\n",
       "                        <td id=\"T_64312_row27_col1\" class=\"data row27 col1\" >0</td>\n",
       "                        <td id=\"T_64312_row27_col2\" class=\"data row27 col2\" >0</td>\n",
       "                        <td id=\"T_64312_row27_col3\" class=\"data row27 col3\" >0</td>\n",
       "                        <td id=\"T_64312_row27_col4\" class=\"data row27 col4\" >0</td>\n",
       "                        <td id=\"T_64312_row27_col5\" class=\"data row27 col5\" >0</td>\n",
       "                        <td id=\"T_64312_row27_col6\" class=\"data row27 col6\" >0</td>\n",
       "                        <td id=\"T_64312_row27_col7\" class=\"data row27 col7\" >0</td>\n",
       "                        <td id=\"T_64312_row27_col8\" class=\"data row27 col8\" >0</td>\n",
       "                        <td id=\"T_64312_row27_col9\" class=\"data row27 col9\" >0</td>\n",
       "                        <td id=\"T_64312_row27_col10\" class=\"data row27 col10\" >0</td>\n",
       "                        <td id=\"T_64312_row27_col11\" class=\"data row27 col11\" >0</td>\n",
       "                        <td id=\"T_64312_row27_col12\" class=\"data row27 col12\" >0</td>\n",
       "                        <td id=\"T_64312_row27_col13\" class=\"data row27 col13\" >0</td>\n",
       "                        <td id=\"T_64312_row27_col14\" class=\"data row27 col14\" >0</td>\n",
       "                        <td id=\"T_64312_row27_col15\" class=\"data row27 col15\" >0</td>\n",
       "                        <td id=\"T_64312_row27_col16\" class=\"data row27 col16\" >0</td>\n",
       "                        <td id=\"T_64312_row27_col17\" class=\"data row27 col17\" >0</td>\n",
       "                        <td id=\"T_64312_row27_col18\" class=\"data row27 col18\" >0</td>\n",
       "                        <td id=\"T_64312_row27_col19\" class=\"data row27 col19\" >0</td>\n",
       "                        <td id=\"T_64312_row27_col20\" class=\"data row27 col20\" >0</td>\n",
       "                        <td id=\"T_64312_row27_col21\" class=\"data row27 col21\" >0</td>\n",
       "                        <td id=\"T_64312_row27_col22\" class=\"data row27 col22\" >0</td>\n",
       "                        <td id=\"T_64312_row27_col23\" class=\"data row27 col23\" >0</td>\n",
       "                        <td id=\"T_64312_row27_col24\" class=\"data row27 col24\" >0</td>\n",
       "                        <td id=\"T_64312_row27_col25\" class=\"data row27 col25\" >0</td>\n",
       "                        <td id=\"T_64312_row27_col26\" class=\"data row27 col26\" >0</td>\n",
       "                        <td id=\"T_64312_row27_col27\" class=\"data row27 col27\" >0</td>\n",
       "            </tr>\n",
       "    </tbody></table>"
      ],
      "text/plain": [
       "<pandas.io.formats.style.Styler at 0x7f3533861eb0>"
      ]
     },
     "execution_count": 22,
     "metadata": {},
     "output_type": "execute_result"
    }
   ],
   "source": [
    "image_df.style.set_properties(**{'font-size':'6pt'}).background_gradient('Greys')"
   ]
  },
  {
   "cell_type": "code",
   "execution_count": 23,
   "metadata": {},
   "outputs": [],
   "source": [
    "import matplotlib.pyplot as plt"
   ]
  },
  {
   "cell_type": "code",
   "execution_count": 24,
   "metadata": {},
   "outputs": [
    {
     "data": {
      "image/png": "[encoded data removed]",
      "text/plain": [
       "<Figure size 864x864 with 8 Axes>"
      ]
     },
     "metadata": {},
     "output_type": "display_data"
    }
   ],
   "source": [
    "num_to_show = 8\n",
    "\n",
    "fig, axes = plt.subplots(1, num_to_show, figsize=(12, 12))\n",
    "\n",
    "for axis, (image, label) in zip(axes, train_loader):\n",
    "    axis.imshow(image.squeeze(), cmap=\"Greys\")\n",
    "    axis.tick_params(left=False, bottom=False, labelleft=False, labelbottom=False)\n",
    "    axis.set_title(f\"Label: {label[0]}\")"
   ]
  },
  {
   "cell_type": "markdown",
   "metadata": {},
   "source": [
    "# A Single Neuron Model"
   ]
  },
  {
   "cell_type": "code",
   "execution_count": 25,
   "metadata": {},
   "outputs": [],
   "source": [
    "# Simple single neuron model; sometimes called logistic regression\n",
    "\n",
    "num_pixels = 28 * 28\n",
    "\n",
    "# Neuron parameters\n",
    "weights = torch.randn(num_pixels, 1) * 0.01\n",
    "bias = torch.zeros(1)"
   ]
  },
  {
   "cell_type": "code",
   "execution_count": 26,
   "metadata": {},
   "outputs": [
    {
     "data": {
      "text/plain": [
       "(torch.Size([784, 1]),\n",
       " torch.Size([1]),\n",
       " torch.Size([1, 28, 28]),\n",
       " torch.Size([784, 1]))"
      ]
     },
     "execution_count": 26,
     "metadata": {},
     "output_type": "execute_result"
    }
   ],
   "source": [
    "weights.shape, bias.shape, image[0].shape, image[0].view(num_pixels, 1).shape"
   ]
  },
  {
   "cell_type": "code",
   "execution_count": 27,
   "metadata": {},
   "outputs": [],
   "source": [
    "x = image[0]"
   ]
  },
  {
   "cell_type": "code",
   "execution_count": 28,
   "metadata": {},
   "outputs": [
    {
     "ename": "RuntimeError",
     "evalue": "mat1 and mat2 shapes cannot be multiplied (28x28 and 1x784)",
     "output_type": "error",
     "traceback": [
      "\u001b[0;31m---------------------------------------------------------------------------\u001b[0m",
      "\u001b[0;31mRuntimeError\u001b[0m                              Traceback (most recent call last)",
      "\u001b[0;32m/tmp/ipykernel_3490813/2984902103.py\u001b[0m in \u001b[0;36m<module>\u001b[0;34m\u001b[0m\n\u001b[0;32m----> 1\u001b[0;31m \u001b[0mweights\u001b[0m \u001b[0;34m@\u001b[0m \u001b[0mx\u001b[0m\u001b[0;34m\u001b[0m\u001b[0;34m\u001b[0m\u001b[0m\n\u001b[0m",
      "\u001b[0;31mRuntimeError\u001b[0m: mat1 and mat2 shapes cannot be multiplied (28x28 and 1x784)"
     ]
    }
   ],
   "source": [
    "weights @ x"
   ]
  },
  {
   "cell_type": "code",
   "execution_count": 29,
   "metadata": {},
   "outputs": [],
   "source": [
    "x = image[0].view(num_pixels, 1)"
   ]
  },
  {
   "cell_type": "code",
   "execution_count": 30,
   "metadata": {},
   "outputs": [
    {
     "ename": "RuntimeError",
     "evalue": "mat1 and mat2 shapes cannot be multiplied (784x1 and 784x1)",
     "output_type": "error",
     "traceback": [
      "\u001b[0;31m---------------------------------------------------------------------------\u001b[0m",
      "\u001b[0;31mRuntimeError\u001b[0m                              Traceback (most recent call last)",
      "\u001b[0;32m/tmp/ipykernel_3490813/2984902103.py\u001b[0m in \u001b[0;36m<module>\u001b[0;34m\u001b[0m\n\u001b[0;32m----> 1\u001b[0;31m \u001b[0mweights\u001b[0m \u001b[0;34m@\u001b[0m \u001b[0mx\u001b[0m\u001b[0;34m\u001b[0m\u001b[0;34m\u001b[0m\u001b[0m\n\u001b[0m",
      "\u001b[0;31mRuntimeError\u001b[0m: mat1 and mat2 shapes cannot be multiplied (784x1 and 784x1)"
     ]
    }
   ],
   "source": [
    "weights @ x"
   ]
  },
  {
   "cell_type": "code",
   "execution_count": 31,
   "metadata": {},
   "outputs": [
    {
     "data": {
      "text/plain": [
       "tensor([[0.1773]])"
      ]
     },
     "execution_count": 31,
     "metadata": {},
     "output_type": "execute_result"
    }
   ],
   "source": [
    "weights.T @ x"
   ]
  },
  {
   "cell_type": "code",
   "execution_count": 32,
   "metadata": {},
   "outputs": [],
   "source": [
    "# from torch import FloatTensor, FloatType\n",
    "\n",
    "\n",
    "def linear(w, b, x):\n",
    "    return w.T @ x + b"
   ]
  },
  {
   "cell_type": "code",
   "execution_count": 33,
   "metadata": {},
   "outputs": [
    {
     "data": {
      "text/plain": [
       "tensor([[0.1773]])"
      ]
     },
     "execution_count": 33,
     "metadata": {},
     "output_type": "execute_result"
    }
   ],
   "source": [
    "linear(weights, bias, x)"
   ]
  },
  {
   "cell_type": "code",
   "execution_count": 34,
   "metadata": {},
   "outputs": [],
   "source": [
    "def sigmoid(z):\n",
    "    return 1 / (1 + torch.exp(-z))"
   ]
  },
  {
   "cell_type": "code",
   "execution_count": 35,
   "metadata": {},
   "outputs": [
    {
     "data": {
      "text/plain": [
       "tensor([[0.5442]])"
      ]
     },
     "execution_count": 35,
     "metadata": {},
     "output_type": "execute_result"
    }
   ],
   "source": [
    "sigmoid(linear(weights, bias, x))"
   ]
  },
  {
   "cell_type": "markdown",
   "metadata": {},
   "source": [
    "# Let's Focus on Binary Classification"
   ]
  },
  {
   "cell_type": "code",
   "execution_count": 36,
   "metadata": {},
   "outputs": [],
   "source": [
    "# Get down to two classes (let them pick)\n",
    "\n",
    "class1 = 7\n",
    "class2 = 1\n",
    "\n",
    "idx1 = [i for i, t in enumerate(train_dataset.targets) if t == class1]\n",
    "idx2 = [i for i, t in enumerate(train_dataset.targets) if t == class2]\n",
    "\n",
    "idxs = idx1 + idx2\n",
    "train_size = len(idxs)\n",
    "\n",
    "train_loader2 = torch.utils.data.DataLoader(\n",
    "    train_dataset, sampler=torch.utils.data.SubsetRandomSampler(idxs)\n",
    ")"
   ]
  },
  {
   "cell_type": "code",
   "execution_count": 37,
   "metadata": {},
   "outputs": [
    {
     "data": {
      "image/png": "[encoded data removed]",
      "text/plain": [
       "<Figure size 864x864 with 8 Axes>"
      ]
     },
     "metadata": {},
     "output_type": "display_data"
    }
   ],
   "source": [
    "num_to_show = 8\n",
    "\n",
    "fig, axes = plt.subplots(1, num_to_show, figsize=(12, 12))\n",
    "\n",
    "for axis, (image, label) in zip(axes, train_loader2):\n",
    "    axis.imshow(image.squeeze(), cmap=\"Greys\")\n",
    "    axis.tick_params(left=False, bottom=False, labelleft=False, labelbottom=False)\n",
    "    axis.set_title(f\"Label: {label[0]}\")"
   ]
  },
  {
   "cell_type": "markdown",
   "metadata": {},
   "source": [
    "# Using Our Derived Equations"
   ]
  },
  {
   "cell_type": "code",
   "execution_count": 38,
   "metadata": {},
   "outputs": [],
   "source": [
    "from time import time"
   ]
  },
  {
   "cell_type": "code",
   "execution_count": 39,
   "metadata": {},
   "outputs": [
    {
     "name": "stdout",
     "output_type": "stream",
     "text": [
      " 1/4, Cost=9051.6, Time=6.4s\n",
      " 2/4, Cost=6885.9, Time=6.3s\n",
      " 3/4, Cost=5558.1, Time=6.3s\n",
      " 4/4, Cost=4690.5, Time=6.3s\n"
     ]
    }
   ],
   "source": [
    "# Optimization, binary cross-entropy loss (Log loss, aka logistic loss or cross-entropy loss)\n",
    "# defined as the negative log-likelihood of a logistic model that returns y_pred probabilities for its training data y_true\n",
    "\n",
    "# compare with: subtraction, MSE, abs\n",
    "\n",
    "\n",
    "def target_to_sigmoid(target):\n",
    "    new_target = torch.zeros_like(target)\n",
    "    new_target[target == class1] = 1\n",
    "    return new_target\n",
    "\n",
    "\n",
    "# Neuron parameters\n",
    "num_pixels = 28 * 28\n",
    "weights = torch.randn(num_pixels, 1) * 0.01\n",
    "bias = torch.zeros(1)\n",
    "\n",
    "num_epochs = 4\n",
    "learning_rate = 0.01\n",
    "\n",
    "for epoch in range(num_epochs):\n",
    "\n",
    "    cost = 0\n",
    "    weights_derivatives = torch.zeros_like(weights)\n",
    "    bias_derivative = torch.zeros_like(bias)\n",
    "\n",
    "    start = time()\n",
    "\n",
    "    for image, target in train_loader2:\n",
    "\n",
    "        image = image.view(num_pixels, 1)\n",
    "        target = target_to_sigmoid(target)\n",
    "\n",
    "        prediction = sigmoid(linear(weights, bias, image))\n",
    "\n",
    "        loss = target * torch.log(prediction) + (1 - target) * torch.log(1 - prediction)\n",
    "        cost -= loss\n",
    "\n",
    "        dz = prediction - target\n",
    "        weights_derivatives += image * dz\n",
    "        bias_derivative += dz.squeeze()\n",
    "\n",
    "    weights_derivatives /= len(train_loader2)\n",
    "    bias_derivative /= len(train_loader2)\n",
    "\n",
    "    weights -= learning_rate * weights_derivatives\n",
    "    bias -= learning_rate * bias_derivative\n",
    "\n",
    "    print(\n",
    "        f\"{epoch+1:>2}/{num_epochs}, Cost={cost[0][0]:0.1f}, Time={time()-start:0.1f}s\"\n",
    "    )"
   ]
  },
  {
   "cell_type": "markdown",
   "metadata": {},
   "source": [
    "# Let's Compute All At Once (Batch GD)"
   ]
  },
  {
   "cell_type": "code",
   "execution_count": 40,
   "metadata": {},
   "outputs": [],
   "source": [
    "# Set the batch size to be equal to the size of the training dataset\n",
    "train_loader2All = torch.utils.data.DataLoader(\n",
    "    train_dataset,\n",
    "    sampler=torch.utils.data.SubsetRandomSampler(idxs),\n",
    "    batch_size=train_size,\n",
    ")"
   ]
  },
  {
   "cell_type": "code",
   "execution_count": 41,
   "metadata": {},
   "outputs": [
    {
     "name": "stdout",
     "output_type": "stream",
     "text": [
      " 1/4, Cost=9489.4, Time=2.7s\n",
      " 2/4, Cost=7091.1, Time=2.6s\n",
      " 3/4, Cost=5644.4, Time=2.6s\n",
      " 4/4, Cost=4717.2, Time=2.6s\n"
     ]
    }
   ],
   "source": [
    "# Vectorize (operate on all images at once)\n",
    "\n",
    "# Neuron parameters\n",
    "num_pixels = 28 * 28\n",
    "weights = torch.randn(num_pixels, 1) * 0.01\n",
    "bias = torch.zeros(1)\n",
    "\n",
    "num_epochs = 4\n",
    "learning_rate = 0.01\n",
    "\n",
    "for epoch in range(num_epochs):\n",
    "\n",
    "    weights_derivatives = torch.zeros_like(weights)\n",
    "    bias_derivative = torch.zeros_like(bias)\n",
    "\n",
    "    start = time()\n",
    "\n",
    "    images, targets = next(iter(train_loader2All))\n",
    "    # print(len(images), images.shape, images.view(train_size, num_pixels))\n",
    "\n",
    "    images = images.view(train_size, num_pixels)\n",
    "    targets = target_to_sigmoid(targets)\n",
    "\n",
    "    predictions = sigmoid(linear(weights, bias, images.T))\n",
    "    # print(predictions.shape, targets.shape)\n",
    "\n",
    "    loss = targets * torch.log(predictions) + (1 - targets) * torch.log(1 - predictions)\n",
    "    cost = -loss.sum()\n",
    "\n",
    "    dZ = predictions - targets\n",
    "    weights_derivatives = (1 / train_size) * (dZ @ images)\n",
    "    bias_derivative = (1 / train_size) * dZ.sum()\n",
    "\n",
    "    weights -= learning_rate * weights_derivatives.T\n",
    "    bias -= learning_rate * bias_derivative\n",
    "\n",
    "    print(f\"{epoch+1:>2}/{num_epochs}, Cost={cost:0.1f}, Time={time()-start:0.1f}s\")"
   ]
  },
  {
   "cell_type": "markdown",
   "metadata": {},
   "source": [
    "# Is This Better? Need a Metric"
   ]
  },
  {
   "cell_type": "code",
   "execution_count": 42,
   "metadata": {},
   "outputs": [
    {
     "name": "stdout",
     "output_type": "stream",
     "text": [
      "2163\n"
     ]
    }
   ],
   "source": [
    "# Create the validation dataset\n",
    "\n",
    "valid_dataset = torchvision.datasets.MNIST(\n",
    "    root=data_path, train=False, download=True, transform=mnist_transforms\n",
    ")\n",
    "\n",
    "idx1 = [i for i, t in enumerate(valid_dataset.targets) if t == class1]\n",
    "idx2 = [i for i, t in enumerate(valid_dataset.targets) if t == class2]\n",
    "\n",
    "valid_idxs = idx1 + idx2\n",
    "valid_size = len(valid_idxs)\n",
    "\n",
    "print(valid_size)\n",
    "\n",
    "valid_loader2All = torch.utils.data.DataLoader(\n",
    "    valid_dataset,\n",
    "    sampler=torch.utils.data.SubsetRandomSampler(valid_idxs),\n",
    "    batch_size=valid_size,\n",
    ")"
   ]
  },
  {
   "cell_type": "code",
   "execution_count": 43,
   "metadata": {},
   "outputs": [
    {
     "name": "stdout",
     "output_type": "stream",
     "text": [
      "Accuracy=0.46\n",
      " 1/4, Cost=9036.0, Accuracy=0.95, Time=3.1s\n",
      " 2/4, Cost=6784.2, Accuracy=0.96, Time=3.1s\n",
      " 3/4, Cost=5442.1, Accuracy=0.96, Time=3.0s\n",
      " 4/4, Cost=4581.2, Accuracy=0.96, Time=3.0s\n"
     ]
    }
   ],
   "source": [
    "# Add validation metric\n",
    "\n",
    "# Neuron parameters\n",
    "num_pixels = 28 * 28\n",
    "weights = torch.randn(num_pixels, 1) * 0.01\n",
    "bias = torch.zeros(1)\n",
    "\n",
    "num_epochs = 4\n",
    "learning_rate = 0.01\n",
    "\n",
    "# Validate with accuracy\n",
    "valid_images, valid_targets = next(iter(valid_loader2All))\n",
    "valid_images = valid_images.view(valid_size, num_pixels)\n",
    "valid_targets = target_to_sigmoid(valid_targets)\n",
    "\n",
    "valid_predictions = sigmoid(linear(weights, bias, valid_images.T))\n",
    "\n",
    "accuracy = 1 - (torch.round(valid_predictions) - valid_targets).abs().sum() / valid_size\n",
    "\n",
    "print(f\"Accuracy={accuracy:.2f}\")\n",
    "\n",
    "for epoch in range(num_epochs):\n",
    "\n",
    "    weights_derivatives = torch.zeros_like(weights)\n",
    "    bias_derivative = torch.zeros_like(bias)\n",
    "\n",
    "    start = time()\n",
    "\n",
    "    images, targets = next(iter(train_loader2All))\n",
    "    images = images.view(train_size, num_pixels)\n",
    "    targets = target_to_sigmoid(targets)\n",
    "\n",
    "    predictions = sigmoid(linear(weights, bias, images.T))\n",
    "\n",
    "    loss = targets * torch.log(predictions) + (1 - targets) * torch.log(1 - predictions)\n",
    "    cost = -loss.sum()\n",
    "\n",
    "    dZ = predictions - targets\n",
    "    weights_derivatives = (1 / train_size) * (dZ @ images)\n",
    "    bias_derivative = (1 / train_size) * dZ.sum()\n",
    "\n",
    "    weights -= learning_rate * weights_derivatives.T\n",
    "    bias -= learning_rate * bias_derivative\n",
    "\n",
    "    # Validate with accuracy\n",
    "    valid_images, valid_targets = next(iter(valid_loader2All))\n",
    "    valid_images = valid_images.view(valid_size, num_pixels)\n",
    "    valid_targets = target_to_sigmoid(valid_targets)\n",
    "\n",
    "    valid_predictions = sigmoid(linear(weights, bias, valid_images.T))\n",
    "\n",
    "    accuracy = (\n",
    "        1 - (torch.round(valid_predictions) - valid_targets).abs().sum() / valid_size\n",
    "    )\n",
    "\n",
    "    print(\n",
    "        f\"{epoch+1:>2}/{num_epochs}, Cost={cost:0.1f}, Accuracy={accuracy:.2f}, Time={time()-start:0.1f}s\"\n",
    "    )"
   ]
  },
  {
   "cell_type": "code",
   "execution_count": 44,
   "metadata": {},
   "outputs": [
    {
     "data": {
      "text/plain": [
       "torch.Size([1, 2163])"
      ]
     },
     "execution_count": 44,
     "metadata": {},
     "output_type": "execute_result"
    }
   ],
   "source": [
    "valid_predictions.shape"
   ]
  },
  {
   "cell_type": "code",
   "execution_count": 45,
   "metadata": {},
   "outputs": [
    {
     "data": {
      "text/plain": [
       "torch.Size([2163])"
      ]
     },
     "execution_count": 45,
     "metadata": {},
     "output_type": "execute_result"
    }
   ],
   "source": [
    "valid_targets.shape"
   ]
  },
  {
   "cell_type": "code",
   "execution_count": 46,
   "metadata": {},
   "outputs": [
    {
     "data": {
      "text/plain": [
       "tensor([[0.8139, 0.7805, 0.2555,  ..., 0.1953, 0.2259, 0.8097]])"
      ]
     },
     "execution_count": 46,
     "metadata": {},
     "output_type": "execute_result"
    }
   ],
   "source": [
    "valid_predictions[:10]"
   ]
  },
  {
   "cell_type": "code",
   "execution_count": 47,
   "metadata": {},
   "outputs": [
    {
     "data": {
      "text/plain": [
       "tensor([[1., 1., 0.,  ..., 0., 0., 1.]])"
      ]
     },
     "execution_count": 47,
     "metadata": {},
     "output_type": "execute_result"
    }
   ],
   "source": [
    "torch.round(valid_predictions)"
   ]
  },
  {
   "cell_type": "code",
   "execution_count": 48,
   "metadata": {},
   "outputs": [
    {
     "data": {
      "text/plain": [
       "tensor(-69.)"
      ]
     },
     "execution_count": 48,
     "metadata": {},
     "output_type": "execute_result"
    }
   ],
   "source": [
    "(torch.round(valid_predictions) - valid_targets).sum()"
   ]
  },
  {
   "cell_type": "code",
   "execution_count": 49,
   "metadata": {},
   "outputs": [
    {
     "data": {
      "text/plain": [
       "tensor(-0.0319)"
      ]
     },
     "execution_count": 49,
     "metadata": {},
     "output_type": "execute_result"
    }
   ],
   "source": [
    "(torch.round(valid_predictions) - valid_targets).sum()/valid_size"
   ]
  },
  {
   "cell_type": "code",
   "execution_count": 50,
   "metadata": {},
   "outputs": [
    {
     "data": {
      "text/plain": [
       "tensor(1.0319)"
      ]
     },
     "execution_count": 50,
     "metadata": {},
     "output_type": "execute_result"
    }
   ],
   "source": [
    "1 - (torch.round(valid_predictions) - valid_targets).sum()/valid_size"
   ]
  },
  {
   "cell_type": "code",
   "execution_count": 51,
   "metadata": {},
   "outputs": [],
   "source": [
    "x = 1 - (torch.round(valid_predictions) - valid_targets).sum()/valid_size"
   ]
  },
  {
   "cell_type": "code",
   "execution_count": 52,
   "metadata": {},
   "outputs": [
    {
     "data": {
      "text/plain": [
       "'Accuracy=1.03'"
      ]
     },
     "execution_count": 52,
     "metadata": {},
     "output_type": "execute_result"
    }
   ],
   "source": [
    "f\"Accuracy={x:.2f}\""
   ]
  }
 ],
 "metadata": {
  "jupytext": {
   "formats": "ipynb,py:percent"
  },
  "kernelspec": {
   "display_name": "Python 3 (ipykernel)",
   "language": "python",
   "name": "python3"
  },
  "language_info": {
   "codemirror_mode": {
    "name": "ipython",
    "version": 3
   },
   "file_extension": ".py",
   "mimetype": "text/x-python",
   "name": "python",
   "nbconvert_exporter": "python",
   "pygments_lexer": "ipython3",
   "version": "3.8.5"
  }
 },
 "nbformat": 4,
 "nbformat_minor": 2
}
