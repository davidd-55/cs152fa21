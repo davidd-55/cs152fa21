{
 "cells": [
  {
   "cell_type": "code",
   "execution_count": 1,
   "id": "7957b351",
   "metadata": {},
   "outputs": [],
   "source": [
    "import torch"
   ]
  },
  {
   "cell_type": "code",
   "execution_count": 2,
   "id": "4a876765",
   "metadata": {},
   "outputs": [],
   "source": [
    "# Total number of training examples\n",
    "N = 100\n",
    "\n",
    "# Number of inputs and outputs (based on diagram)\n",
    "nx = 3\n",
    "ny = 2\n",
    "\n",
    "# Random inputs and outputs (just for sake of computation)\n",
    "X = torch.randn(N, nx)\n",
    "Y = torch.randn(N, ny)"
   ]
  },
  {
   "cell_type": "code",
   "execution_count": 4,
   "id": "ea596326",
   "metadata": {},
   "outputs": [],
   "source": [
    "def linear(A, W, b):\n",
    "    return A @ W.T + b\n",
    "\n",
    "\n",
    "def sigmoid(Z):\n",
    "    return 1 / (1 + torch.exp(-Z))\n",
    "\n",
    "\n",
    "# A two-layer network with 3 neurons in the only hidden layer\n",
    "n0 = nx\n",
    "n1 = 3\n",
    "n2 = ny\n",
    "\n",
    "# Layer 1 parameters\n",
    "W1 = torch.randn(n1, n0)\n",
    "b1 = torch.randn(n1)\n",
    "\n",
    "# Layer 2 parameters\n",
    "W2 = torch.randn(n2, n1)\n",
    "b2 = torch.randn(n2)"
   ]
  },
  {
   "cell_type": "code",
   "execution_count": 5,
   "id": "87906e55",
   "metadata": {},
   "outputs": [],
   "source": [
    "A0 = X\n",
    "\n",
    "# Forward propagation\n",
    "Z1 = linear(A0, W1, b1)\n",
    "A1 = sigmoid(Z1)\n",
    "\n",
    "Z2 = linear(A1, W2, b2)\n",
    "A2 = sigmoid(Z2)\n",
    "\n",
    "Yhat = A2"
   ]
  },
  {
   "cell_type": "code",
   "execution_count": 7,
   "id": "070b29f4",
   "metadata": {},
   "outputs": [
    {
     "name": "stdout",
     "output_type": "stream",
     "text": [
      "Loss: -0.9202412962913513\n"
     ]
    }
   ],
   "source": [
    "# Compute loss as the mean-square-error\n",
    "bce_loss = torch.mean(Y * torch.log(Yhat) + (1 - Y) * torch.log(1 - Yhat))\n",
    "print(\"Loss:\", bce_loss.item())\n",
    "\n",
    "# Compute gradients for W^[2] and b^[2]\n",
    "# dL_dY = Yhat - Y\n",
    "dL_dY = (Y / Yhat - (1 - Y) / (1 - Yhat)) / 2\n",
    "dY_dZ2 = Yhat * (1 - Yhat)\n",
    "\n",
    "dZ2 = dL_dY * dY_dZ2\n",
    "\n",
    "dW2 = (1 / N) * dZ2.T @ A1\n",
    "db2 = dZ2.mean(dim=0)\n",
    "\n",
    "# Compute gradients for W^[1] and b^[1]\n",
    "dZ1 = dZ2 @ W2 * ((A1 * (1 - A1)))\n",
    "\n",
    "dW1 = (1 / N) * dZ1.T @ X\n",
    "db1 = dZ1.mean(dim=0)"
   ]
  },
  {
   "cell_type": "code",
   "execution_count": null,
   "id": "a24f9934",
   "metadata": {},
   "outputs": [],
   "source": []
  }
 ],
 "metadata": {
  "kernelspec": {
   "display_name": "Python 3 (ipykernel)",
   "language": "python",
   "name": "python3"
  },
  "language_info": {
   "codemirror_mode": {
    "name": "ipython",
    "version": 3
   },
   "file_extension": ".py",
   "mimetype": "text/x-python",
   "name": "python",
   "nbconvert_exporter": "python",
   "pygments_lexer": "ipython3",
   "version": "3.8.5"
  }
 },
 "nbformat": 4,
 "nbformat_minor": 5
}
