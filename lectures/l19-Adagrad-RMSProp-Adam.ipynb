{
 "cells": [
  {
   "cell_type": "code",
   "execution_count": 1,
   "id": "5d8d93d3",
   "metadata": {},
   "outputs": [],
   "source": [
    "from utils import (\n",
    "    get_mnist_data_loaders,\n",
    "    NN_FC_CrossEntropy,\n",
    "    compute_validation_accuracy_multi,\n",
    ")\n",
    "\n",
    "from fastprogress.fastprogress import master_bar, progress_bar\n",
    "\n",
    "import torch\n",
    "\n",
    "import matplotlib.pyplot as plt\n",
    "from jupyterthemes import jtplot\n",
    "\n",
    "jtplot.style(context=\"talk\")"
   ]
  },
  {
   "cell_type": "code",
   "execution_count": 2,
   "id": "1e9d8e02",
   "metadata": {},
   "outputs": [],
   "source": [
    "# Show bias correction\n",
    "# Plot effective learning rate\n",
    "\n",
    "\n",
    "def train_one_epoch_adagrad(\n",
    "    dataloader, model, criterion, learning_rate, decay_rate, device, mb\n",
    "):\n",
    "\n",
    "    if not hasattr(model, \"sum_square_grads\"):\n",
    "        model.sum_square_grads = [torch.zeros_like(p) for p in model.parameters()]\n",
    "        model.ms = [torch.zeros_like(p) for p in model.parameters()]\n",
    "        model.vs = [torch.zeros_like(p) for p in model.parameters()]\n",
    "        model.t = 1\n",
    "\n",
    "    model.train()\n",
    "\n",
    "    num_batches = len(train_loader)\n",
    "    dataiter = iter(dataloader)\n",
    "\n",
    "    for batch in progress_bar(range(num_batches), parent=mb):\n",
    "\n",
    "        X, Y = next(dataiter)\n",
    "        X, Y = X.to(device), Y.to(device)\n",
    "\n",
    "        output = model(X)\n",
    "\n",
    "        loss = criterion(output, Y)\n",
    "\n",
    "        model.zero_grad()\n",
    "        loss.backward()\n",
    "\n",
    "        with torch.no_grad():\n",
    "            # for param, G in zip(model.parameters(), model.sum_square_grads):\n",
    "\n",
    "            # Adagrad\n",
    "            # G.set_(G + param.grad * param.grad)\n",
    "            # param -= learning_rate * param.grad / (torch.sqrt(G) + 1e-8)\n",
    "\n",
    "            # RMSProp\n",
    "            # G.set_(decay_rate * G + (1 - decay_rate) * param.grad * param.grad)\n",
    "            # param -= learning_rate * param.grad / (torch.sqrt(G) + 1e-8)\n",
    "\n",
    "            for param, m, v in zip(model.parameters(), model.ms, model.vs):\n",
    "                # Adam\n",
    "                beta1, beta2 = betas\n",
    "                m.set_(beta1 * m + (1 - beta1) * param.grad)\n",
    "                v.set_(beta2 * v + (1 - beta2) * param.grad * param.grad)\n",
    "\n",
    "                mt = m / (1 - beta1 ** model.t)\n",
    "                vt = v / (1 - beta2 ** model.t)\n",
    "\n",
    "                param -= learning_rate * mt / (torch.sqrt(vt) + 1e-8)\n",
    "\n",
    "                model.t += 1"
   ]
  },
  {
   "cell_type": "code",
   "execution_count": 3,
   "id": "a8abc35d",
   "metadata": {},
   "outputs": [
    {
     "name": "stdout",
     "output_type": "stream",
     "text": [
      "Using 'cuda' device.\n"
     ]
    }
   ],
   "source": [
    "# Configuration parameters\n",
    "data_path = \"../data\"\n",
    "seed = 0\n",
    "torch.manual_seed(seed)\n",
    "\n",
    "# Hyperparameters\n",
    "num_epochs = 4\n",
    "batch_size = 128\n",
    "valid_batch_size = 0\n",
    "\n",
    "learning_rate = 1e-2\n",
    "lr_decay = 0.95  # Adagrad\n",
    "alpha = 0.99  # RMSProp\n",
    "betas = (0.9, 0.999)  # Adam\n",
    "\n",
    "# Training device\n",
    "device = \"cuda\" if torch.cuda.is_available() else \"cpu\"\n",
    "print(f\"Using '{device}' device.\")"
   ]
  },
  {
   "cell_type": "code",
   "execution_count": 4,
   "id": "620cdb22",
   "metadata": {},
   "outputs": [
    {
     "name": "stderr",
     "output_type": "stream",
     "text": [
      "/opt/mambaforge/envs/cs152/lib/python3.8/site-packages/torchvision/datasets/mnist.py:498: UserWarning: The given NumPy array is not writeable, and PyTorch does not support non-writeable tensors. This means you can write to the underlying (supposedly non-writeable) NumPy array using the tensor. You may want to copy the array to protect its data or make it writeable before converting it to a tensor. This type of warning will be suppressed for the rest of this program. (Triggered internally at  /tmp/pip-req-build-pma2oi4d/torch/csrc/utils/tensor_numpy.cpp:180.)\n",
      "  return torch.from_numpy(parsed.astype(m[2], copy=False)).view(*s)\n"
     ]
    }
   ],
   "source": [
    "# Get data loaders\n",
    "train_loader, valid_loader = get_mnist_data_loaders(\n",
    "    data_path, batch_size, valid_batch_size\n",
    ")"
   ]
  },
  {
   "cell_type": "code",
   "execution_count": 5,
   "id": "26e236d7",
   "metadata": {},
   "outputs": [],
   "source": [
    "# Create neural network model\n",
    "nx = train_loader.dataset.data.shape[1:].numel()\n",
    "ny = len(train_loader.dataset.classes)\n",
    "layer_sizes = (nx, 20, 20, ny)\n",
    "\n",
    "model = NN_FC_CrossEntropy(layer_sizes).to(device)\n",
    "\n",
    "# Training utilities\n",
    "criterion = torch.nn.CrossEntropyLoss()"
   ]
  },
  {
   "cell_type": "code",
   "execution_count": 6,
   "id": "b4f489de",
   "metadata": {},
   "outputs": [
    {
     "data": {
      "text/html": [
       "  0: validation accuracy= 9.58% and loss=2.345<p>  1: validation accuracy=90.93% and loss=0.311<p>  2: validation accuracy=93.01% and loss=0.239<p>  3: validation accuracy=92.79% and loss=0.257<p>  4: validation accuracy=92.83% and loss=0.250"
      ],
      "text/plain": [
       "<IPython.core.display.HTML object>"
      ]
     },
     "metadata": {},
     "output_type": "display_data"
    }
   ],
   "source": [
    "# Training loop\n",
    "mb = master_bar(range(num_epochs))\n",
    "compute_validation_accuracy_multi(valid_loader, model, criterion, device, mb, 0)\n",
    "for epoch in mb:\n",
    "    train_one_epoch_adagrad(\n",
    "        train_loader,\n",
    "        model,\n",
    "        criterion,\n",
    "        learning_rate,\n",
    "        device,\n",
    "        mb,\n",
    "    )\n",
    "    loss, accuracy = compute_validation_accuracy_multi(\n",
    "        valid_loader, model, criterion, device, mb, epoch + 1\n",
    "    )"
   ]
  }
 ],
 "metadata": {
  "jupytext": {
   "formats": "ipynb,py:percent"
  },
  "kernelspec": {
   "display_name": "Python 3 (ipykernel)",
   "language": "python",
   "name": "python3"
  },
  "language_info": {
   "codemirror_mode": {
    "name": "ipython",
    "version": 3
   },
   "file_extension": ".py",
   "mimetype": "text/x-python",
   "name": "python",
   "nbconvert_exporter": "python",
   "pygments_lexer": "ipython3",
   "version": "3.8.5"
  }
 },
 "nbformat": 4,
 "nbformat_minor": 5
}
