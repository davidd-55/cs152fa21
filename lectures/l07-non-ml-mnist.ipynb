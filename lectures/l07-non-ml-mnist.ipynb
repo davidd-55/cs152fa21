{
 "cells": [
  {
   "cell_type": "code",
   "execution_count": 1,
   "metadata": {},
   "outputs": [
    {
     "data": {
      "text/plain": [
       "'%.2f'"
      ]
     },
     "execution_count": 1,
     "metadata": {},
     "output_type": "execute_result"
    }
   ],
   "source": [
    "import torch\n",
    "from torch import Tensor\n",
    "from torch.utils.data import DataLoader, SubsetRandomSampler\n",
    "from torchvision import transforms\n",
    "from torchvision.datasets import MNIST\n",
    "\n",
    "import matplotlib.pyplot as plt\n",
    "\n",
    "from time import time\n",
    "from typing import Tuple\n",
    "\n",
    "%precision 2"
   ]
  },
  {
   "cell_type": "code",
   "execution_count": 2,
   "metadata": {},
   "outputs": [],
   "source": [
    "def get_mnist_subset_loader(\n",
    "    train: bool, path: str, c1: int, c2: int\n",
    ") -> Tuple[DataLoader, int]:\n",
    "    \"\"\"Return an MNIST dataloader for the two specified classes.\n",
    "\n",
    "    Args:\n",
    "        train (bool): Should this be a training set or validation set\n",
    "        path (str): The directory in which to store/find the MNIST dataset\n",
    "        c1 (int): a number in [0, 9] denoting a MNIST class/number\n",
    "        c2 (int): a number in [0, 9] denoting a MNIST class/number\n",
    "\n",
    "    Returns:\n",
    "        Tuple[DataLoader, int]: Return a dataloader and its size\n",
    "    \"\"\"\n",
    "\n",
    "    # All inputs must be converted into torch tensors, and the normalization values\n",
    "    # have been precomputed and provided below.\n",
    "    mnist_transforms = transforms.Compose(\n",
    "        [transforms.ToTensor(), transforms.Normalize((0.1307,), (0.3081,)),]\n",
    "    )\n",
    "\n",
    "    dataset = MNIST(root=path, train=train, download=True, transform=mnist_transforms)\n",
    "\n",
    "    # Grab indices for the two classes we care about\n",
    "    idx_classA = [i for i, t in enumerate(dataset.targets) if t == c1]\n",
    "    idx_classB = [i for i, t in enumerate(dataset.targets) if t == c2]\n",
    "\n",
    "    idxs = idx_classA + idx_classB\n",
    "    size = len(idxs)\n",
    "\n",
    "    loader = DataLoader(dataset, sampler=SubsetRandomSampler(idxs), batch_size=size)\n",
    "\n",
    "    return loader, size\n",
    "\n",
    "\n",
    "def get_mnist_data_binary(\n",
    "    path: str, c1: int, c2: int\n",
    ") -> Tuple[DataLoader, int, DataLoader, int]:\n",
    "    \"\"\"Return data loaders for two classes from MNIST.\n",
    "\n",
    "    Args:\n",
    "        path (str): The directory in which to store/find the MNIST dataset\n",
    "        c1 (int): a number in [0, 9] denoting a MNIST class/number\n",
    "        c2 (int): a number in [0, 9] denoting a MNIST class/number\n",
    "\n",
    "    Returns:\n",
    "        Tuple[DataLoader, int, DataLoader, int]: Return a training dataloader the\n",
    "            training set size (and the same for the validation dataset)\n",
    "    \"\"\"\n",
    "\n",
    "    train_loader, train_size = get_mnist_subset_loader(True, path, c1, c2)\n",
    "    valid_loader, valid_size = get_mnist_subset_loader(False, path, c1, c2)\n",
    "\n",
    "    return train_loader, train_size, valid_loader, valid_size\n",
    "\n",
    "\n",
    "def show_image(img, ax=None, title=None):\n",
    "    if not ax:\n",
    "        _, ax = plt.subplots()\n",
    "    ax.imshow(img, cmap='gray')\n",
    "    ax.axis(\"off\")\n",
    "    if title:\n",
    "        ax.set_title(title)"
   ]
  },
  {
   "cell_type": "code",
   "execution_count": 3,
   "metadata": {},
   "outputs": [
    {
     "name": "stdout",
     "output_type": "stream",
     "text": [
      "/home/CAMPUS/ajcd2020/courses/152/cs152fa21/lectures\r\n"
     ]
    }
   ],
   "source": [
    "!pwd"
   ]
  },
  {
   "cell_type": "code",
   "execution_count": 4,
   "metadata": {},
   "outputs": [
    {
     "name": "stdout",
     "output_type": "stream",
     "text": [
      "assignments  data  environment.yml  lectures  LICENSE  README.md\r\n"
     ]
    }
   ],
   "source": [
    "!ls .."
   ]
  },
  {
   "cell_type": "code",
   "execution_count": 5,
   "metadata": {},
   "outputs": [
    {
     "name": "stderr",
     "output_type": "stream",
     "text": [
      "/opt/mambaforge/envs/cs152/lib/python3.8/site-packages/torchvision/datasets/mnist.py:498: UserWarning: The given NumPy array is not writeable, and PyTorch does not support non-writeable tensors. This means you can write to the underlying (supposedly non-writeable) NumPy array using the tensor. You may want to copy the array to protect its data or make it writeable before converting it to a tensor. This type of warning will be suppressed for the rest of this program. (Triggered internally at  /tmp/pip-req-build-pma2oi4d/torch/csrc/utils/tensor_numpy.cpp:180.)\n",
      "  return torch.from_numpy(parsed.astype(m[2], copy=False)).view(*s)\n"
     ]
    }
   ],
   "source": [
    "path = \"../data\"\n",
    "classA = 3\n",
    "classB = 8\n",
    "\n",
    "train_loader, train_size, valid_loader, valid_size = get_mnist_data_binary(\n",
    "    path, classA, classB\n",
    ")"
   ]
  },
  {
   "cell_type": "code",
   "execution_count": 6,
   "metadata": {},
   "outputs": [],
   "source": [
    "train_imgs, train_trgs = next(iter(train_loader))"
   ]
  },
  {
   "cell_type": "code",
   "execution_count": 7,
   "metadata": {},
   "outputs": [
    {
     "data": {
      "text/plain": [
       "(torch.Size([11982, 1, 28, 28]), torch.Size([11982]))"
      ]
     },
     "execution_count": 7,
     "metadata": {},
     "output_type": "execute_result"
    }
   ],
   "source": [
    "train_imgs.shape, train_trgs.shape"
   ]
  },
  {
   "cell_type": "code",
   "execution_count": 8,
   "metadata": {},
   "outputs": [],
   "source": [
    "indicesA = train_trgs == classA\n",
    "indicesB = train_trgs == classB"
   ]
  },
  {
   "cell_type": "code",
   "execution_count": 9,
   "metadata": {},
   "outputs": [
    {
     "data": {
      "text/plain": [
       "torch.Size([6131, 28, 28])"
      ]
     },
     "execution_count": 9,
     "metadata": {},
     "output_type": "execute_result"
    }
   ],
   "source": [
    "train_imgsA = train_imgs[indicesA].squeeze()\n",
    "train_imgsA.shape"
   ]
  },
  {
   "cell_type": "code",
   "execution_count": 10,
   "metadata": {},
   "outputs": [
    {
     "data": {
      "text/plain": [
       "torch.Size([5851, 28, 28])"
      ]
     },
     "execution_count": 10,
     "metadata": {},
     "output_type": "execute_result"
    }
   ],
   "source": [
    "train_imgsB = train_imgs[indicesB].squeeze()\n",
    "train_imgsB.shape"
   ]
  },
  {
   "cell_type": "code",
   "execution_count": 11,
   "metadata": {},
   "outputs": [
    {
     "data": {
      "text/plain": [
       "torch.Size([11982, 1, 28, 28])"
      ]
     },
     "execution_count": 11,
     "metadata": {},
     "output_type": "execute_result"
    }
   ],
   "source": [
    "train_imgs.shape"
   ]
  },
  {
   "cell_type": "code",
   "execution_count": 12,
   "metadata": {},
   "outputs": [
    {
     "data": {
      "image/png": "[encoded data removed]",
      "text/plain": [
       "<Figure size 432x288 with 1 Axes>"
      ]
     },
     "metadata": {
      "needs_background": "light"
     },
     "output_type": "display_data"
    }
   ],
   "source": [
    "avg_imgA = train_imgsA.mean(0)\n",
    "show_image(avg_imgA)"
   ]
  },
  {
   "cell_type": "code",
   "execution_count": 13,
   "metadata": {},
   "outputs": [
    {
     "data": {
      "image/png": "[encoded data removed]",
      "text/plain": [
       "<Figure size 432x288 with 1 Axes>"
      ]
     },
     "metadata": {
      "needs_background": "light"
     },
     "output_type": "display_data"
    }
   ],
   "source": [
    "avg_imgB = train_imgsB.mean(0)\n",
    "show_image(avg_imgB)"
   ]
  },
  {
   "cell_type": "code",
   "execution_count": 14,
   "metadata": {},
   "outputs": [],
   "source": [
    "def mean_absolute_distance(one, two):\n",
    "    return (one - two).abs().mean()"
   ]
  },
  {
   "cell_type": "code",
   "execution_count": 15,
   "metadata": {},
   "outputs": [
    {
     "data": {
      "text/plain": [
       "(tensor(0.3509), tensor(0.4229))"
      ]
     },
     "execution_count": 15,
     "metadata": {},
     "output_type": "execute_result"
    },
    {
     "data": {
      "image/png": "[encoded data removed]",
      "text/plain": [
       "<Figure size 432x288 with 3 Axes>"
      ]
     },
     "metadata": {
      "needs_background": "light"
     },
     "output_type": "display_data"
    }
   ],
   "source": [
    "_, axes = plt.subplots(1, 3)\n",
    "\n",
    "example = train_imgsA[0]\n",
    "\n",
    "show_image(avg_imgA, ax=axes[0], title=\"Average A\")\n",
    "show_image(example, ax=axes[1], title=\"Example\")\n",
    "show_image(avg_imgB, ax=axes[2], title=\"Average B\")\n",
    "\n",
    "mean_absolute_distance(avg_imgA, example), mean_absolute_distance(avg_imgB, example)"
   ]
  },
  {
   "cell_type": "code",
   "execution_count": 16,
   "metadata": {},
   "outputs": [
    {
     "data": {
      "text/plain": [
       "(tensor(0.5108), tensor(0.4089))"
      ]
     },
     "execution_count": 16,
     "metadata": {},
     "output_type": "execute_result"
    },
    {
     "data": {
      "image/png": "[encoded data removed]",
      "text/plain": [
       "<Figure size 432x288 with 3 Axes>"
      ]
     },
     "metadata": {
      "needs_background": "light"
     },
     "output_type": "display_data"
    }
   ],
   "source": [
    "_, axes = plt.subplots(1, 3)\n",
    "\n",
    "example = train_imgsB[0]\n",
    "\n",
    "show_image(avg_imgA, ax=axes[0], title=\"Average 1\")\n",
    "show_image(example, ax=axes[1], title=\"Example 1\")\n",
    "show_image(avg_imgB, ax=axes[2], title=\"Average 2\")\n",
    "\n",
    "mean_absolute_distance(avg_imgA, example), mean_absolute_distance(avg_imgB, example)"
   ]
  },
  {
   "cell_type": "code",
   "execution_count": 17,
   "metadata": {},
   "outputs": [
    {
     "data": {
      "text/plain": [
       "torch.Size([])"
      ]
     },
     "execution_count": 17,
     "metadata": {},
     "output_type": "execute_result"
    }
   ],
   "source": [
    "distsAtoA = mean_absolute_distance(train_imgsA, avg_imgA)\n",
    "distsAtoA.shape"
   ]
  },
  {
   "cell_type": "code",
   "execution_count": 18,
   "metadata": {},
   "outputs": [],
   "source": [
    "def mean_absolute_distance(one, two):\n",
    "    return (one - two).abs().mean((-1, -2))"
   ]
  },
  {
   "cell_type": "code",
   "execution_count": 19,
   "metadata": {},
   "outputs": [
    {
     "data": {
      "text/plain": [
       "torch.Size([6131])"
      ]
     },
     "execution_count": 19,
     "metadata": {},
     "output_type": "execute_result"
    }
   ],
   "source": [
    "distsAtoA = mean_absolute_distance(train_imgsA, avg_imgA)\n",
    "distsAtoA.shape"
   ]
  },
  {
   "cell_type": "code",
   "execution_count": 20,
   "metadata": {},
   "outputs": [],
   "source": [
    "def is_classA(img):\n",
    "    return mean_absolute_distance(img, avg_imgA) < mean_absolute_distance(img, avg_imgB)"
   ]
  },
  {
   "cell_type": "code",
   "execution_count": 21,
   "metadata": {},
   "outputs": [
    {
     "data": {
      "text/plain": [
       "(torch.Size([1010, 28, 28]), torch.Size([974, 28, 28]))"
      ]
     },
     "execution_count": 21,
     "metadata": {},
     "output_type": "execute_result"
    }
   ],
   "source": [
    "valid_imgs, valid_trgs = next(iter(valid_loader))\n",
    "valid_imgsA = valid_imgs[valid_trgs == classA].squeeze()\n",
    "valid_imgsB = valid_imgs[valid_trgs == classB].squeeze()\n",
    "valid_imgsA.shape, valid_imgsB.shape"
   ]
  },
  {
   "cell_type": "code",
   "execution_count": 22,
   "metadata": {},
   "outputs": [
    {
     "data": {
      "text/plain": [
       "tensor([False,  True,  True,  ...,  True,  True,  True])"
      ]
     },
     "execution_count": 22,
     "metadata": {},
     "output_type": "execute_result"
    }
   ],
   "source": [
    "correctA = is_classA(valid_imgsA)\n",
    "correctA"
   ]
  },
  {
   "cell_type": "code",
   "execution_count": 23,
   "metadata": {},
   "outputs": [
    {
     "data": {
      "text/plain": [
       "torch.Size([1010])"
      ]
     },
     "execution_count": 23,
     "metadata": {},
     "output_type": "execute_result"
    }
   ],
   "source": [
    "correctA.shape"
   ]
  },
  {
   "cell_type": "code",
   "execution_count": 24,
   "metadata": {},
   "outputs": [
    {
     "data": {
      "text/plain": [
       "tensor(0.9178)"
      ]
     },
     "execution_count": 24,
     "metadata": {},
     "output_type": "execute_result"
    }
   ],
   "source": [
    "correctA.float().mean()"
   ]
  },
  {
   "cell_type": "code",
   "execution_count": 25,
   "metadata": {},
   "outputs": [],
   "source": [
    "correctB = ~is_classA(valid_imgsB)"
   ]
  },
  {
   "cell_type": "code",
   "execution_count": 26,
   "metadata": {},
   "outputs": [
    {
     "data": {
      "text/plain": [
       "tensor(0.8696)"
      ]
     },
     "execution_count": 26,
     "metadata": {},
     "output_type": "execute_result"
    }
   ],
   "source": [
    "correctB.float().mean()"
   ]
  },
  {
   "cell_type": "code",
   "execution_count": 27,
   "metadata": {},
   "outputs": [],
   "source": [
    "def get_mnist_loader(train: bool, path: str) -> Tuple[DataLoader, int]:\n",
    "    \"\"\"Return an MNIST dataloader for the two specified classes.\n",
    "\n",
    "    Args:\n",
    "        train (bool): Should this be a training set or validation set\n",
    "        path (str): The directory in which to store/find the MNIST dataset\n",
    "\n",
    "    Returns:\n",
    "        Tuple[DataLoader, int]: Return a dataloader and its size\n",
    "    \"\"\"\n",
    "\n",
    "    # All inputs must be converted into torch tensors, and the normalization values\n",
    "    # have been precomputed and provided below.\n",
    "    mnist_transforms = transforms.Compose(\n",
    "        [transforms.ToTensor(), transforms.Normalize((0.1307,), (0.3081,)),]\n",
    "    )\n",
    "\n",
    "    dataset = MNIST(root=path, train=train, download=True, transform=mnist_transforms)\n",
    "    loader = DataLoader(dataset, batch_size=len(dataset))\n",
    "    return loader\n",
    "\n",
    "\n",
    "def get_mnist_data(path: str) -> Tuple[DataLoader, int, DataLoader, int]:\n",
    "    \"\"\"Return data loaders for two classes from MNIST.\n",
    "\n",
    "    Args:\n",
    "        path (str): The directory in which to store/find the MNIST dataset\n",
    "\n",
    "    Returns:\n",
    "        Tuple[DataLoader, int, DataLoader, int]: Return a training dataloader the\n",
    "            training set size (and the same for the validation dataset)\n",
    "    \"\"\"\n",
    "\n",
    "    train_loader = get_mnist_loader(True, path)\n",
    "    valid_loader = get_mnist_loader(False, path)\n",
    "\n",
    "    return train_loader, valid_loader"
   ]
  },
  {
   "cell_type": "code",
   "execution_count": 28,
   "metadata": {},
   "outputs": [],
   "source": [
    "train_loader, valid_loader = get_mnist_data('../data')\n",
    "train_imgs, train_trgs = next(iter(train_loader))\n",
    "valid_imgs, valid_trgs = next(iter(valid_loader))"
   ]
  },
  {
   "cell_type": "code",
   "execution_count": 29,
   "metadata": {},
   "outputs": [],
   "source": [
    "classes = range(10)\n",
    "avg_imgs = [train_imgs[train_trgs == cl].squeeze().mean(0) for cl in classes]"
   ]
  },
  {
   "cell_type": "code",
   "execution_count": 30,
   "metadata": {},
   "outputs": [
    {
     "data": {
      "text/plain": [
       "torch.Size([28, 28])"
      ]
     },
     "execution_count": 30,
     "metadata": {},
     "output_type": "execute_result"
    }
   ],
   "source": [
    "avg_imgs[0].shape"
   ]
  },
  {
   "cell_type": "code",
   "execution_count": 31,
   "metadata": {},
   "outputs": [
    {
     "data": {
      "image/png": "[encoded data removed]",
      "text/plain": [
       "<Figure size 432x288 with 10 Axes>"
      ]
     },
     "metadata": {
      "needs_background": "light"
     },
     "output_type": "display_data"
    }
   ],
   "source": [
    "_, axes = plt.subplots(1, 10)\n",
    "for avg_img, axes in zip(avg_imgs, axes):\n",
    "    show_image(avg_img, ax=axes)"
   ]
  },
  {
   "cell_type": "code",
   "execution_count": 32,
   "metadata": {},
   "outputs": [
    {
     "data": {
      "text/plain": [
       "torch.Size([10000, 1])"
      ]
     },
     "execution_count": 32,
     "metadata": {},
     "output_type": "execute_result"
    }
   ],
   "source": [
    "mean_absolute_distance(valid_imgs, avg_imgs[0]).shape"
   ]
  },
  {
   "cell_type": "code",
   "execution_count": 33,
   "metadata": {},
   "outputs": [
    {
     "data": {
      "text/plain": [
       "torch.Size([10000, 1, 28, 28])"
      ]
     },
     "execution_count": 33,
     "metadata": {},
     "output_type": "execute_result"
    }
   ],
   "source": [
    "valid_imgs.shape"
   ]
  },
  {
   "cell_type": "code",
   "execution_count": 34,
   "metadata": {},
   "outputs": [],
   "source": [
    "dists = [mean_absolute_distance(valid_imgs, avg_img) for avg_img in avg_imgs]"
   ]
  },
  {
   "cell_type": "code",
   "execution_count": 35,
   "metadata": {},
   "outputs": [
    {
     "data": {
      "text/plain": [
       "torch.Size([10000, 10])"
      ]
     },
     "execution_count": 35,
     "metadata": {},
     "output_type": "execute_result"
    }
   ],
   "source": [
    "dists = torch.stack(dists, 1).squeeze()\n",
    "dists.shape"
   ]
  },
  {
   "cell_type": "code",
   "execution_count": 36,
   "metadata": {},
   "outputs": [
    {
     "data": {
      "text/plain": [
       "tensor([[0.5743, 0.4068, 0.5302, 0.4990, 0.4293, 0.4776, 0.5303, 0.2837, 0.4958,\n",
       "         0.3792],\n",
       "        [0.6442, 0.4751, 0.5421, 0.5316, 0.6463, 0.5477, 0.5334, 0.6494, 0.5788,\n",
       "         0.6310],\n",
       "        [0.5896, 0.1678, 0.4487, 0.4337, 0.4246, 0.4204, 0.4368, 0.3917, 0.4374,\n",
       "         0.4091],\n",
       "        [0.4168, 0.5959, 0.5761, 0.5601, 0.5724, 0.5235, 0.4903, 0.5245, 0.5663,\n",
       "         0.5366],\n",
       "        [0.5640, 0.4741, 0.4968, 0.5316, 0.3624, 0.4934, 0.4752, 0.4212, 0.5053,\n",
       "         0.4019],\n",
       "        [0.6071, 0.1657, 0.4616, 0.4329, 0.4429, 0.4365, 0.4728, 0.3942, 0.4271,\n",
       "         0.4119],\n",
       "        [0.6274, 0.4409, 0.5554, 0.4833, 0.3897, 0.4614, 0.5287, 0.4035, 0.4771,\n",
       "         0.3991],\n",
       "        [0.6324, 0.4036, 0.5436, 0.4950, 0.4156, 0.4626, 0.4631, 0.4514, 0.4918,\n",
       "         0.3901],\n",
       "        [0.5841, 0.4908, 0.5458, 0.6139, 0.5077, 0.5429, 0.5191, 0.5672, 0.5623,\n",
       "         0.5235],\n",
       "        [0.5876, 0.4721, 0.5913, 0.5714, 0.4282, 0.5138, 0.5270, 0.3907, 0.4959,\n",
       "         0.3889]])"
      ]
     },
     "execution_count": 36,
     "metadata": {},
     "output_type": "execute_result"
    }
   ],
   "source": [
    "dists[:10,:]"
   ]
  },
  {
   "cell_type": "code",
   "execution_count": 37,
   "metadata": {},
   "outputs": [],
   "source": [
    "_, predictions = dists.min(1)"
   ]
  },
  {
   "cell_type": "code",
   "execution_count": 38,
   "metadata": {},
   "outputs": [
    {
     "data": {
      "text/plain": [
       "(torch.Size([10000]), torch.Size([10000]))"
      ]
     },
     "execution_count": 38,
     "metadata": {},
     "output_type": "execute_result"
    }
   ],
   "source": [
    "valid_trgs.shape, predictions.shape"
   ]
  },
  {
   "cell_type": "code",
   "execution_count": 39,
   "metadata": {},
   "outputs": [
    {
     "data": {
      "text/plain": [
       "tensor([ True, False,  True,  ..., False, False,  True])"
      ]
     },
     "execution_count": 39,
     "metadata": {},
     "output_type": "execute_result"
    }
   ],
   "source": [
    "valid_trgs == predictions"
   ]
  },
  {
   "cell_type": "code",
   "execution_count": 40,
   "metadata": {},
   "outputs": [
    {
     "data": {
      "text/plain": [
       "tensor(0.6685)"
      ]
     },
     "execution_count": 40,
     "metadata": {},
     "output_type": "execute_result"
    }
   ],
   "source": [
    "(valid_trgs == predictions).float().mean()"
   ]
  },
  {
   "cell_type": "code",
   "execution_count": 41,
   "metadata": {},
   "outputs": [
    {
     "data": {
      "text/plain": [
       "'Accuracy of similarity classifier: 66.85 %'"
      ]
     },
     "execution_count": 41,
     "metadata": {},
     "output_type": "execute_result"
    }
   ],
   "source": [
    "f\"Accuracy of similarity classifier: {(valid_trgs == predictions).float().mean() * 100:.2f} %\""
   ]
  },
  {
   "cell_type": "code",
   "execution_count": null,
   "metadata": {},
   "outputs": [],
   "source": []
  }
 ],
 "metadata": {
  "kernelspec": {
   "display_name": "Python 3 (ipykernel)",
   "language": "python",
   "name": "python3"
  },
  "language_info": {
   "codemirror_mode": {
    "name": "ipython",
    "version": 3
   },
   "file_extension": ".py",
   "mimetype": "text/x-python",
   "name": "python",
   "nbconvert_exporter": "python",
   "pygments_lexer": "ipython3",
   "version": "3.8.5"
  }
 },
 "nbformat": 4,
 "nbformat_minor": 4
}
