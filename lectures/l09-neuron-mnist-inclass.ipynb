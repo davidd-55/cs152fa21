{
 "cells": [
  {
   "cell_type": "code",
   "execution_count": 38,
   "id": "2442f3dd",
   "metadata": {},
   "outputs": [],
   "source": [
    "import torch\n",
    "import torchvision\n",
    "import matplotlib.pyplot as plt\n",
    "\n",
    "from time import time"
   ]
  },
  {
   "cell_type": "code",
   "execution_count": 3,
   "id": "30e1e65c",
   "metadata": {},
   "outputs": [
    {
     "name": "stderr",
     "output_type": "stream",
     "text": [
      "/opt/mambaforge/envs/cs152/lib/python3.8/site-packages/torchvision/datasets/mnist.py:498: UserWarning: The given NumPy array is not writeable, and PyTorch does not support non-writeable tensors. This means you can write to the underlying (supposedly non-writeable) NumPy array using the tensor. You may want to copy the array to protect its data or make it writeable before converting it to a tensor. This type of warning will be suppressed for the rest of this program. (Triggered internally at  /tmp/pip-req-build-pma2oi4d/torch/csrc/utils/tensor_numpy.cpp:180.)\n",
      "  return torch.from_numpy(parsed.astype(m[2], copy=False)).view(*s)\n"
     ]
    }
   ],
   "source": [
    "# MNIST : hello world\n",
    "# EMNIST : extended with letters in addition to digits\n",
    "# KMNIST : Kuzushiji, Japanese characters\n",
    "# QMNIST : newer MNIST with better source information\n",
    "\n",
    "data_path = \"../data/\"\n",
    "\n",
    "mnist_transforms = torchvision.transforms.Compose(\n",
    "    [\n",
    "        torchvision.transforms.ToTensor(),\n",
    "        torchvision.transforms.Normalize((0.1307,), (0.3081,)),\n",
    "    ]\n",
    ")\n",
    "\n",
    "train_dataset = torchvision.datasets.MNIST(\n",
    "    root=data_path, train=True, download=True, transform=mnist_transforms\n",
    ")"
   ]
  },
  {
   "cell_type": "code",
   "execution_count": 4,
   "id": "8d426838",
   "metadata": {},
   "outputs": [],
   "source": [
    "train_loader = torch.utils.data.DataLoader(train_dataset)"
   ]
  },
  {
   "cell_type": "code",
   "execution_count": 6,
   "id": "6c2948e6",
   "metadata": {},
   "outputs": [],
   "source": [
    "num_pixels = 28 * 28\n",
    "\n",
    "w = torch.randn(num_pixels, 1)\n",
    "b = torch.randn(1)"
   ]
  },
  {
   "cell_type": "code",
   "execution_count": 25,
   "id": "054bffc1",
   "metadata": {},
   "outputs": [
    {
     "data": {
      "text/plain": [
       "tensor([[2.5431e-21]])"
      ]
     },
     "execution_count": 25,
     "metadata": {},
     "output_type": "execute_result"
    }
   ],
   "source": [
    "x, y = next(iter(train_loader))\n",
    "\n",
    "z = w.T @ x.view(num_pixels, 1) + b\n",
    "a = torch.sigmoid(z)\n",
    "\n",
    "yhat = a\n",
    "yhat"
   ]
  },
  {
   "cell_type": "code",
   "execution_count": 27,
   "id": "c4fa6810",
   "metadata": {},
   "outputs": [],
   "source": [
    "loss = (yhat - y)**2"
   ]
  },
  {
   "cell_type": "code",
   "execution_count": 22,
   "id": "72b63b1b",
   "metadata": {},
   "outputs": [],
   "source": [
    "# Get down to two classes (let them pick)\n",
    "\n",
    "class1 = 4\n",
    "class2 = 7\n",
    "\n",
    "idx1 = [i for i, t in enumerate(train_dataset.targets) if t == class1]\n",
    "idx2 = [i for i, t in enumerate(train_dataset.targets) if t == class2]\n",
    "\n",
    "idxs = idx1 + idx2\n",
    "train_size = len(idxs)\n",
    "\n",
    "train_loader2 = torch.utils.data.DataLoader(\n",
    "    train_dataset, sampler=torch.utils.data.SubsetRandomSampler(idxs)\n",
    ")"
   ]
  },
  {
   "cell_type": "code",
   "execution_count": 35,
   "id": "9ee2db95",
   "metadata": {},
   "outputs": [
    {
     "data": {
      "text/plain": [
       "12107"
      ]
     },
     "execution_count": 35,
     "metadata": {},
     "output_type": "execute_result"
    }
   ],
   "source": [
    "train_size"
   ]
  },
  {
   "cell_type": "code",
   "execution_count": 24,
   "id": "cef37887",
   "metadata": {},
   "outputs": [
    {
     "data": {
      "image/png": "[encoded data removed]",
      "text/plain": [
       "<Figure size 864x864 with 8 Axes>"
      ]
     },
     "metadata": {},
     "output_type": "display_data"
    }
   ],
   "source": [
    "num_to_show = 8\n",
    "\n",
    "fig, axes = plt.subplots(1, num_to_show, figsize=(12, 12))\n",
    "\n",
    "for axis, (image, label) in zip(axes, train_loader2):\n",
    "    axis.imshow(image.squeeze(), cmap=\"Greys\")\n",
    "    axis.tick_params(left=False, bottom=False, labelleft=False, labelbottom=False)\n",
    "    axis.set_title(f\"Label: {label[0]}\")"
   ]
  },
  {
   "cell_type": "code",
   "execution_count": 41,
   "id": "7d990307",
   "metadata": {},
   "outputs": [
    {
     "name": "stdout",
     "output_type": "stream",
     "text": [
      " 1/4, Cost=7783.1, Time=5.4s\n",
      " 2/4, Cost=6723.3, Time=5.5s\n",
      " 3/4, Cost=5940.6, Time=5.3s\n",
      " 4/4, Cost=5336.3, Time=5.3s\n"
     ]
    }
   ],
   "source": [
    "# Optimization, binary cross-entropy loss (Log loss, aka logistic loss or cross-entropy loss)\n",
    "# defined as the negative log-likelihood of a logistic model that returns y_pred probabilities for its training data y_true\n",
    "\n",
    "# compare with: subtraction, MSE, abs\n",
    "\n",
    "\n",
    "def target_to_sigmoid(target):\n",
    "    new_target = torch.zeros_like(target)\n",
    "    new_target[target == class1] = 1\n",
    "    return new_target\n",
    "\n",
    "\n",
    "# Neuron parameters\n",
    "num_pixels = 28 * 28\n",
    "weights = torch.randn(num_pixels, 1) * 0.01\n",
    "bias = torch.zeros(1)\n",
    "\n",
    "num_epochs = 4\n",
    "learning_rate = 0.01\n",
    "\n",
    "for epoch in range(num_epochs):\n",
    "\n",
    "    cost = 0\n",
    "    weights_derivatives = torch.zeros_like(weights)\n",
    "    bias_derivative = torch.zeros_like(bias)\n",
    "\n",
    "    start = time()\n",
    "\n",
    "    for image, target in train_loader2:\n",
    "\n",
    "        image = image.view(num_pixels, 1)\n",
    "        target = target_to_sigmoid(target)\n",
    "\n",
    "        #prediction = sigmoid(linear(weights, bias, image))\n",
    "        prediction = torch.sigmoid(weights.T @ image + bias)\n",
    "\n",
    "        loss = target * torch.log(prediction) + (1 - target) * torch.log(1 - prediction)\n",
    "        cost -= loss\n",
    "\n",
    "        dz = prediction - target\n",
    "        weights_derivatives += image * dz\n",
    "        bias_derivative += dz.squeeze()\n",
    "\n",
    "    weights_derivatives /= len(train_loader2)\n",
    "    bias_derivative /= len(train_loader2)\n",
    "\n",
    "    weights -= learning_rate * weights_derivatives\n",
    "    bias -= learning_rate * bias_derivative\n",
    "\n",
    "    print(\n",
    "        f\"{epoch+1:>2}/{num_epochs}, Cost={cost[0][0]:0.1f}, Time={time()-start:0.1f}s\"\n",
    "    )"
   ]
  },
  {
   "cell_type": "code",
   "execution_count": 30,
   "id": "16a7c83b",
   "metadata": {},
   "outputs": [],
   "source": [
    "temp = torch.randn(4, 15)"
   ]
  },
  {
   "cell_type": "code",
   "execution_count": 31,
   "id": "fb81a918",
   "metadata": {},
   "outputs": [],
   "source": [
    "zeros = torch.zeros_like(temp)"
   ]
  },
  {
   "cell_type": "code",
   "execution_count": 33,
   "id": "b1f184e7",
   "metadata": {},
   "outputs": [],
   "source": [
    "temp[temp > 0] = 3"
   ]
  },
  {
   "cell_type": "code",
   "execution_count": 34,
   "id": "e08bea58",
   "metadata": {},
   "outputs": [
    {
     "data": {
      "text/plain": [
       "tensor([[-1.3631,  3.0000,  3.0000, -0.8666, -0.2875,  3.0000,  3.0000,  3.0000,\n",
       "         -1.0968, -1.0920, -1.4592, -0.2375,  3.0000, -0.8867,  3.0000],\n",
       "        [ 3.0000, -0.6920,  3.0000, -0.1649,  3.0000, -0.7611,  3.0000, -1.1093,\n",
       "          3.0000, -0.1021,  3.0000, -0.4591, -0.6225,  3.0000,  3.0000],\n",
       "        [ 3.0000,  3.0000, -0.2691,  3.0000,  3.0000,  3.0000,  3.0000, -1.4339,\n",
       "          3.0000,  3.0000, -1.2194, -0.5037,  3.0000,  3.0000, -1.0011],\n",
       "        [ 3.0000, -0.9362,  3.0000,  3.0000, -2.3926, -0.9749, -1.0212, -1.4966,\n",
       "         -1.7053,  3.0000, -0.3572, -1.4329,  3.0000, -0.7537,  3.0000]])"
      ]
     },
     "execution_count": 34,
     "metadata": {},
     "output_type": "execute_result"
    }
   ],
   "source": [
    "temp"
   ]
  },
  {
   "cell_type": "code",
   "execution_count": 42,
   "id": "2bbb057e",
   "metadata": {},
   "outputs": [],
   "source": [
    "# Set the batch size to be equal to the size of the training dataset\n",
    "train_loader2All = torch.utils.data.DataLoader(\n",
    "    train_dataset,\n",
    "    sampler=torch.utils.data.SubsetRandomSampler(idxs),\n",
    "    batch_size=train_size,\n",
    ")"
   ]
  },
  {
   "cell_type": "code",
   "execution_count": 44,
   "id": "c8fca682",
   "metadata": {},
   "outputs": [
    {
     "name": "stdout",
     "output_type": "stream",
     "text": [
      " 1/4, Cost=8520.0, Time=2.5s\n",
      " 2/4, Cost=7196.3, Time=2.4s\n",
      " 3/4, Cost=6292.7, Time=2.5s\n",
      " 4/4, Cost=5607.1, Time=2.2s\n"
     ]
    }
   ],
   "source": [
    "# Vectorize (operate on all images at once)\n",
    "\n",
    "# Neuron parameters\n",
    "num_pixels = 28 * 28\n",
    "weights = torch.randn(num_pixels, 1) * 0.01\n",
    "bias = torch.zeros(1)\n",
    "\n",
    "num_epochs = 4\n",
    "learning_rate = 0.01\n",
    "\n",
    "for epoch in range(num_epochs):\n",
    "\n",
    "    weights_derivatives = torch.zeros_like(weights)\n",
    "    bias_derivative = torch.zeros_like(bias)\n",
    "\n",
    "    start = time()\n",
    "\n",
    "    images, targets = next(iter(train_loader2All))\n",
    "    # print(len(images), images.shape, images.view(train_size, num_pixels))\n",
    "\n",
    "    images = images.view(train_size, num_pixels)\n",
    "    targets = target_to_sigmoid(targets)\n",
    "\n",
    "#     predictions = sigmoid(linear(weights, bias, images.T))\n",
    "    predictions = torch.sigmoid(weights.T @ images.T + bias)\n",
    "    # print(predictions.shape, targets.shape)\n",
    "\n",
    "    loss = targets * torch.log(predictions) + (1 - targets) * torch.log(1 - predictions)\n",
    "    cost = -loss.sum()\n",
    "\n",
    "    dZ = predictions - targets\n",
    "    weights_derivatives = (1 / train_size) * (dZ @ images)\n",
    "    bias_derivative = (1 / train_size) * dZ.sum()\n",
    "\n",
    "    weights -= learning_rate * weights_derivatives.T\n",
    "    bias -= learning_rate * bias_derivative\n",
    "\n",
    "    print(f\"{epoch+1:>2}/{num_epochs}, Cost={cost:0.1f}, Time={time()-start:0.1f}s\")"
   ]
  },
  {
   "cell_type": "code",
   "execution_count": 45,
   "id": "e51583d9",
   "metadata": {},
   "outputs": [
    {
     "name": "stdout",
     "output_type": "stream",
     "text": [
      "2010\n"
     ]
    }
   ],
   "source": [
    "# Create the validation dataset\n",
    "\n",
    "valid_dataset = torchvision.datasets.MNIST(\n",
    "    root=data_path, train=False, download=True, transform=mnist_transforms\n",
    ")\n",
    "\n",
    "idx1 = [i for i, t in enumerate(valid_dataset.targets) if t == class1]\n",
    "idx2 = [i for i, t in enumerate(valid_dataset.targets) if t == class2]\n",
    "\n",
    "valid_idxs = idx1 + idx2\n",
    "valid_size = len(valid_idxs)\n",
    "\n",
    "print(valid_size)\n",
    "\n",
    "valid_loader2All = torch.utils.data.DataLoader(\n",
    "    valid_dataset,\n",
    "    sampler=torch.utils.data.SubsetRandomSampler(valid_idxs),\n",
    "    batch_size=valid_size,\n",
    ")"
   ]
  },
  {
   "cell_type": "code",
   "execution_count": 47,
   "id": "33de67f5",
   "metadata": {},
   "outputs": [
    {
     "name": "stdout",
     "output_type": "stream",
     "text": [
      "Accuracy=0.52\n",
      " 1/4, Cost=8686.4, Accuracy=0.76, Time=2.8s\n",
      " 2/4, Cost=7382.8, Accuracy=0.93, Time=2.7s\n",
      " 3/4, Cost=6437.2, Accuracy=0.95, Time=2.7s\n",
      " 4/4, Cost=5717.5, Accuracy=0.96, Time=2.7s\n"
     ]
    }
   ],
   "source": [
    "def sigmoid(z):\n",
    "    return 1 / (1 + torch.exp(-z))\n",
    "\n",
    "def linear(w, b, a):\n",
    "    return w.T @ a + b\n",
    "\n",
    "# Neuron parameters\n",
    "num_pixels = 28 * 28\n",
    "weights = torch.randn(num_pixels, 1) * 0.01\n",
    "bias = torch.zeros(1)\n",
    "\n",
    "num_epochs = 4\n",
    "learning_rate = 0.01\n",
    "\n",
    "# Validate with accuracy\n",
    "valid_images, valid_targets = next(iter(valid_loader2All))\n",
    "valid_images = valid_images.view(valid_size, num_pixels)\n",
    "valid_targets = target_to_sigmoid(valid_targets)\n",
    "\n",
    "valid_predictions = sigmoid(linear(weights, bias, valid_images.T))\n",
    "\n",
    "accuracy = 1 - (torch.round(valid_predictions) - valid_targets).abs().sum() / valid_size\n",
    "\n",
    "print(f\"Accuracy={accuracy:.2f}\")\n",
    "\n",
    "for epoch in range(num_epochs):\n",
    "\n",
    "    weights_derivatives = torch.zeros_like(weights)\n",
    "    bias_derivative = torch.zeros_like(bias)\n",
    "\n",
    "    start = time()\n",
    "\n",
    "    images, targets = next(iter(train_loader2All))\n",
    "    images = images.view(train_size, num_pixels)\n",
    "    targets = target_to_sigmoid(targets)\n",
    "\n",
    "    predictions = sigmoid(linear(weights, bias, images.T))\n",
    "\n",
    "    loss = targets * torch.log(predictions) + (1 - targets) * torch.log(1 - predictions)\n",
    "    cost = -loss.sum()\n",
    "\n",
    "    dZ = predictions - targets\n",
    "    weights_derivatives = (1 / train_size) * (dZ @ images)\n",
    "    bias_derivative = (1 / train_size) * dZ.sum()\n",
    "\n",
    "    weights -= learning_rate * weights_derivatives.T\n",
    "    bias -= learning_rate * bias_derivative\n",
    "\n",
    "    # Validate with accuracy\n",
    "    valid_images, valid_targets = next(iter(valid_loader2All))\n",
    "    valid_images = valid_images.view(valid_size, num_pixels)\n",
    "    valid_targets = target_to_sigmoid(valid_targets)\n",
    "\n",
    "    valid_predictions = sigmoid(linear(weights, bias, valid_images.T))\n",
    "\n",
    "    accuracy = (\n",
    "        1 - (torch.round(valid_predictions) - valid_targets).abs().sum() / valid_size\n",
    "    )\n",
    "\n",
    "    print(\n",
    "        f\"{epoch+1:>2}/{num_epochs}, Cost={cost:0.1f}, Accuracy={accuracy:.2f}, Time={time()-start:0.1f}s\"\n",
    "    )"
   ]
  },
  {
   "cell_type": "code",
   "execution_count": null,
   "id": "8e79b3d6",
   "metadata": {},
   "outputs": [],
   "source": []
  }
 ],
 "metadata": {
  "jupytext": {
   "formats": "ipynb,py:percent"
  },
  "kernelspec": {
   "display_name": "Python 3 (ipykernel)",
   "language": "python",
   "name": "python3"
  },
  "language_info": {
   "codemirror_mode": {
    "name": "ipython",
    "version": 3
   },
   "file_extension": ".py",
   "mimetype": "text/x-python",
   "name": "python",
   "nbconvert_exporter": "python",
   "pygments_lexer": "ipython3",
   "version": "3.8.5"
  }
 },
 "nbformat": 4,
 "nbformat_minor": 5
}
