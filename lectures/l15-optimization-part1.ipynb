{
 "cells": [
  {
   "cell_type": "markdown",
   "id": "633ff60f",
   "metadata": {},
   "source": [
    "# Optimization\n",
    "\n",
    "Things to try:\n",
    "\n",
    "- change the number of samples\n",
    "- without and without bias\n",
    "- with and without regularization\n",
    "- changing the number of layers\n",
    "- changing the amount of noise\n",
    "- change number of degrees\n",
    "- look at parameter values (high) in OLS\n",
    "- tarin network for many epochs"
   ]
  },
  {
   "cell_type": "code",
   "execution_count": null,
   "id": "b2e0108a",
   "metadata": {},
   "outputs": [],
   "source": [
    "from fastprogress.fastprogress import progress_bar\n",
    "\n",
    "import torch\n",
    "\n",
    "import matplotlib.pyplot as plt\n",
    "from jupyterthemes import jtplot\n",
    "\n",
    "jtplot.style(context=\"talk\")"
   ]
  },
  {
   "cell_type": "code",
   "execution_count": null,
   "id": "b7e1d06d",
   "metadata": {},
   "outputs": [],
   "source": [
    "def plot_regression_data(model=None, MSE=None, poly_deg=0):\n",
    "\n",
    "    # Plot the noisy scatter points and the \"true\" function\n",
    "    plt.scatter(x_train, y_train, label=\"Noisy Samples\")\n",
    "    plt.plot(x_true, y_true, \"--\", label=\"True Function\")\n",
    "\n",
    "    # Plot the model's learned regression function\n",
    "    if model:\n",
    "        x = x_true.unsqueeze(-1)\n",
    "        x = x.pow(torch.arange(poly_deg + 1)) if poly_deg else x\n",
    "\n",
    "        with torch.no_grad():\n",
    "            yhat = model(x)\n",
    "\n",
    "        plt.plot(x_true, yhat, label=\"Learned Function\")\n",
    "\n",
    "    plt.xlim([min_x, max_x])\n",
    "    plt.ylim([-5, 5])\n",
    "    plt.legend()\n",
    "    if MSE:\n",
    "        plt.title(f\"MSE = ${MSE}$\")"
   ]
  },
  {
   "cell_type": "markdown",
   "id": "605dd3de",
   "metadata": {},
   "source": [
    "# Create Fake Training Data"
   ]
  },
  {
   "cell_type": "code",
   "execution_count": null,
   "id": "4b7a1a35",
   "metadata": {},
   "outputs": [],
   "source": [
    "def fake_y(x, add_noise=False):\n",
    "    y = 10 * x ** 3 - 5 * x\n",
    "    return y + torch.randn_like(y) * 0.5 if add_noise else y\n",
    "\n",
    "\n",
    "N = 20\n",
    "min_x, max_x = -1, 1\n",
    "\n",
    "x_true = torch.linspace(min_x, max_x, 100)\n",
    "y_true = fake_y(x_true)\n",
    "\n",
    "x_train = torch.rand(N) * (max_x - min_x) + min_x\n",
    "y_train = fake_y(x_train, add_noise=True)\n",
    "\n",
    "plot_regression_data()"
   ]
  },
  {
   "cell_type": "markdown",
   "id": "8b5bb598",
   "metadata": {},
   "source": [
    "# Train A Simple Linear Model Using Batch GD"
   ]
  },
  {
   "cell_type": "code",
   "execution_count": null,
   "id": "cf31e5f1",
   "metadata": {},
   "outputs": [],
   "source": [
    "# Hyperparameters\n",
    "learning_rate = 0.1\n",
    "num_epochs = 100\n",
    "\n",
    "# Model parameters\n",
    "m = torch.randn(1, requires_grad=True)\n",
    "b = torch.zeros(1, requires_grad=True)\n",
    "\n",
    "params = (b, m)\n",
    "\n",
    "# Torch utils\n",
    "criterion = torch.nn.MSELoss()\n",
    "optimizer = torch.optim.SGD(params, lr=learning_rate)\n",
    "\n",
    "# Regression\n",
    "for epoch in range(num_epochs):\n",
    "    # Model\n",
    "    yhat = m * x_train + b\n",
    "\n",
    "    # Update parameters\n",
    "    optimizer.zero_grad()\n",
    "    loss = criterion(yhat, y_train)\n",
    "    loss.backward()\n",
    "    optimizer.step()\n",
    "\n",
    "plot_regression_data(lambda x: m * x + b, MSE=loss.item())"
   ]
  },
  {
   "cell_type": "markdown",
   "id": "3ee9b37f",
   "metadata": {},
   "source": [
    "# Train Linear Regression Model Using Batch GD"
   ]
  },
  {
   "cell_type": "code",
   "execution_count": null,
   "id": "dd011eb8",
   "metadata": {},
   "outputs": [],
   "source": [
    "# Hyperparameters\n",
    "learning_rate = 0.1\n",
    "num_epochs = 1000\n",
    "\n",
    "# Model parameters\n",
    "w2 = torch.randn(1, requires_grad=True)\n",
    "w1 = torch.randn(1, requires_grad=True)\n",
    "b = torch.zeros(1, requires_grad=True)\n",
    "\n",
    "params = (b, w1, w2)\n",
    "\n",
    "# Torch utils\n",
    "criterion = torch.nn.MSELoss()\n",
    "optimizer = torch.optim.SGD(params, lr=learning_rate)\n",
    "\n",
    "# Regression\n",
    "for epoch in range(num_epochs):\n",
    "    # Model\n",
    "    yhat = b + w1 * x_train + w2 * x_train ** 2\n",
    "\n",
    "    # Update parameters\n",
    "    optimizer.zero_grad()\n",
    "    loss = criterion(yhat, y_train)\n",
    "    loss.backward()\n",
    "    optimizer.step()\n",
    "\n",
    "plot_regression_data(lambda x: b + w1 * x + w2 * x ** 2, MSE=loss.item())"
   ]
  },
  {
   "cell_type": "markdown",
   "id": "f44575ec",
   "metadata": {},
   "source": [
    "# Train Complex Linear Regression Model Using Batch GD"
   ]
  },
  {
   "cell_type": "code",
   "execution_count": null,
   "id": "6d58bd67",
   "metadata": {},
   "outputs": [],
   "source": [
    "# Hyperparameters\n",
    "learning_rate = 0.1\n",
    "num_epochs = 1000\n",
    "\n",
    "# Model parameters\n",
    "degrees = 50  # 3, 4, 16, 32, 64, 128\n",
    "powers = torch.arange(degrees + 1)\n",
    "x_poly = x_train.unsqueeze(-1).pow(powers)\n",
    "params = torch.randn(degrees + 1, requires_grad=True)\n",
    "\n",
    "# Torch utils\n",
    "criterion = torch.nn.MSELoss()\n",
    "optimizer = torch.optim.SGD([params], lr=learning_rate)\n",
    "\n",
    "# Regression\n",
    "for epoch in range(num_epochs):\n",
    "    # Model\n",
    "    yhat = x_poly @ params\n",
    "\n",
    "    # Update parameters\n",
    "    optimizer.zero_grad()\n",
    "    loss = criterion(yhat, y_train)\n",
    "    loss.backward()\n",
    "    optimizer.step()\n",
    "\n",
    "plot_regression_data(lambda x: x @ params, poly_deg=degrees, MSE=loss.item())"
   ]
  },
  {
   "cell_type": "markdown",
   "id": "3663def1",
   "metadata": {},
   "source": [
    "# Compute Linear Regression Model Using Ordinary Least Squares"
   ]
  },
  {
   "cell_type": "code",
   "execution_count": null,
   "id": "9d0f9ea0",
   "metadata": {},
   "outputs": [],
   "source": [
    "params = ((x_poly.T @ x_poly).inverse() @ x_poly.T) @ y_train\n",
    "mse = torch.nn.functional.mse_loss(x_poly @ params, y_train)\n",
    "plot_regression_data(lambda x: x @ params, poly_deg=degrees, MSE=mse)\n",
    "# params"
   ]
  },
  {
   "cell_type": "markdown",
   "id": "821d5fbc",
   "metadata": {},
   "source": [
    "# Train Neural Network Model Using Batch GD"
   ]
  },
  {
   "cell_type": "code",
   "execution_count": null,
   "id": "a6ab3191",
   "metadata": {},
   "outputs": [],
   "source": [
    "# Hyperparameters\n",
    "learning_rate = 0.01\n",
    "num_epochs = 100000\n",
    "regularization = 0  # 1e-2\n",
    "\n",
    "# Model parameters\n",
    "model = torch.nn.Sequential(\n",
    "    torch.nn.Linear(1, 100),\n",
    "    torch.nn.ReLU(),\n",
    "    torch.nn.Linear(100, 100),\n",
    "    torch.nn.ReLU(),\n",
    "    torch.nn.Linear(100, 100),\n",
    "    torch.nn.ReLU(),\n",
    "    torch.nn.Linear(100, 1),\n",
    ")\n",
    "\n",
    "# Torch utils\n",
    "criterion = torch.nn.MSELoss()\n",
    "optimizer = torch.optim.SGD(\n",
    "    model.parameters(), lr=learning_rate, weight_decay=regularization\n",
    ")\n",
    "\n",
    "# Training\n",
    "for epoch in progress_bar(range(num_epochs)):\n",
    "    # Model\n",
    "    yhat = model(x_train.unsqueeze(-1))\n",
    "\n",
    "    # Update parameters\n",
    "    optimizer.zero_grad()\n",
    "    loss = criterion(yhat.squeeze(), y_train)\n",
    "    loss.backward()\n",
    "    optimizer.step()\n",
    "\n",
    "plot_regression_data(model, loss.item())"
   ]
  },
  {
   "cell_type": "code",
   "execution_count": null,
   "id": "f9927f09",
   "metadata": {},
   "outputs": [],
   "source": []
  }
 ],
 "metadata": {
  "kernelspec": {
   "display_name": "Python 3 (ipykernel)",
   "language": "python",
   "name": "python3"
  },
  "language_info": {
   "codemirror_mode": {
    "name": "ipython",
    "version": 3
   },
   "file_extension": ".py",
   "mimetype": "text/x-python",
   "name": "python",
   "nbconvert_exporter": "python",
   "pygments_lexer": "ipython3",
   "version": "3.8.5"
  }
 },
 "nbformat": 4,
 "nbformat_minor": 5
}
