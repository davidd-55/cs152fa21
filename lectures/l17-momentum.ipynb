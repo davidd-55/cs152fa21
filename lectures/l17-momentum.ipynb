{
 "cells": [
  {
   "cell_type": "code",
   "execution_count": null,
   "id": "5d8d93d3",
   "metadata": {},
   "outputs": [],
   "source": [
    "from utils import get_mnist_data_loaders, NN_FC_CrossEntropy\n",
    "\n",
    "from fastprogress.fastprogress import master_bar, progress_bar\n",
    "\n",
    "import torch\n",
    "\n",
    "import matplotlib.pyplot as plt\n",
    "from jupyterthemes import jtplot\n",
    "\n",
    "jtplot.style(context=\"talk\")"
   ]
  },
  {
   "cell_type": "code",
   "execution_count": null,
   "id": "1e9d8e02",
   "metadata": {},
   "outputs": [],
   "source": [
    "def train_one_epoch(\n",
    "    dataloader, model, criterion, learning_rate, weight_decay, momentum, device, mb\n",
    "):\n",
    "    \n",
    "    if not hasattr(model, 'momentum_grads'):\n",
    "        model.momentum_grads = [torch.zeros_like(p) for p in model.parameters()]\n",
    "    \n",
    "    model.train()\n",
    "\n",
    "    num_batches = len(train_loader)\n",
    "    dataiter = iter(dataloader)\n",
    "\n",
    "    for batch in progress_bar(range(num_batches), parent=mb):\n",
    "\n",
    "        X, Y = next(dataiter)\n",
    "        X, Y = X.to(device), Y.to(device)\n",
    "\n",
    "        output = model(X)\n",
    "\n",
    "        loss = criterion(output, Y)\n",
    "\n",
    "        model.zero_grad()\n",
    "        loss.backward()\n",
    "\n",
    "        with torch.no_grad():\n",
    "#             for param in model.parameters():\n",
    "#                 param -= learning_rate * param.grad\n",
    "#                 param -= learning_rate * param.grad + weight_decay * param\n",
    "            for param, grad in zip(model.parameters(), model.momentum_grads):\n",
    "                grad.set_(momentum * grad + (1 - momentum) * param.grad)\n",
    "                param -= learning_rate * grad"
   ]
  },
  {
   "cell_type": "code",
   "execution_count": null,
   "id": "b4ca1b29",
   "metadata": {},
   "outputs": [],
   "source": [
    "def compute_validation_accuracy(dataloader, model, criterion, device, mb, epoch):\n",
    "\n",
    "    model.eval()\n",
    "\n",
    "    N = len(dataloader.dataset)\n",
    "    num_batches = len(dataloader)\n",
    "\n",
    "    valid_loss, num_correct = 0, 0\n",
    "\n",
    "    with torch.no_grad():\n",
    "\n",
    "        for X, Y in dataloader:\n",
    "\n",
    "            X, Y = X.to(device), Y.to(device)\n",
    "            output = model(X)\n",
    "\n",
    "            valid_loss += criterion(output, Y).item()\n",
    "            num_correct += (output.argmax(1) == Y).type(torch.float).sum().item()\n",
    "\n",
    "        valid_loss /= num_batches\n",
    "        valid_accuracy = num_correct / N\n",
    "\n",
    "    mb.write(\n",
    "        f\"{epoch:>3}: validation accuracy={(100*valid_accuracy):5.2f}% and loss={valid_loss:.3f}\"\n",
    "    )\n",
    "    return valid_loss, valid_accuracy"
   ]
  },
  {
   "cell_type": "code",
   "execution_count": null,
   "id": "a8abc35d",
   "metadata": {},
   "outputs": [],
   "source": [
    "# Configuration parameters\n",
    "data_path = \"../data\"\n",
    "seed = 0\n",
    "torch.manual_seed(seed)\n",
    "\n",
    "# Hyperparameters\n",
    "num_epochs = 4\n",
    "batch_size = 128\n",
    "valid_batch_size = 0\n",
    "\n",
    "learning_rate = 1e-2\n",
    "weight_decay = 1e-3\n",
    "momentum = 0.9\n",
    "\n",
    "# Training device\n",
    "device = \"cuda\" if torch.cuda.is_available() else \"cpu\"\n",
    "print(f\"Using '{device}' device.\")"
   ]
  },
  {
   "cell_type": "code",
   "execution_count": null,
   "id": "620cdb22",
   "metadata": {},
   "outputs": [],
   "source": [
    "# Get data loaders\n",
    "train_loader, valid_loader = get_mnist_data_loaders(\n",
    "    data_path, batch_size, valid_batch_size\n",
    ")"
   ]
  },
  {
   "cell_type": "code",
   "execution_count": null,
   "id": "26e236d7",
   "metadata": {},
   "outputs": [],
   "source": [
    "# Create neural network model\n",
    "nx = train_loader.dataset.data.shape[1:].numel()\n",
    "ny = len(train_loader.dataset.classes)\n",
    "layer_sizes = (nx, 20, 20, ny)\n",
    "\n",
    "model = NN_FC_CrossEntropy(layer_sizes).to(device)\n",
    "\n",
    "# Training utilities\n",
    "criterion = torch.nn.CrossEntropyLoss()"
   ]
  },
  {
   "cell_type": "code",
   "execution_count": null,
   "id": "aaf052a3",
   "metadata": {},
   "outputs": [],
   "source": [
    "# ?torch.optim.SGD"
   ]
  },
  {
   "cell_type": "code",
   "execution_count": null,
   "id": "b4f489de",
   "metadata": {},
   "outputs": [],
   "source": [
    "# Training loop\n",
    "mb = master_bar(range(num_epochs))\n",
    "compute_validation_accuracy(valid_loader, model, criterion, device, mb, 0)\n",
    "for epoch in mb:\n",
    "    train_one_epoch(\n",
    "        train_loader,\n",
    "        model,\n",
    "        criterion,\n",
    "        learning_rate,\n",
    "        weight_decay,\n",
    "        momentum,\n",
    "        device,\n",
    "        mb,\n",
    "    )\n",
    "    loss, accuracy = compute_validation_accuracy(\n",
    "        valid_loader, model, criterion, device, mb, epoch + 1\n",
    "    )"
   ]
  }
 ],
 "metadata": {
  "kernelspec": {
   "display_name": "Python 3 (ipykernel)",
   "language": "python",
   "name": "python3"
  },
  "language_info": {
   "codemirror_mode": {
    "name": "ipython",
    "version": 3
   },
   "file_extension": ".py",
   "mimetype": "text/x-python",
   "name": "python",
   "nbconvert_exporter": "python",
   "pygments_lexer": "ipython3",
   "version": "3.8.5"
  }
 },
 "nbformat": 4,
 "nbformat_minor": 5
}
